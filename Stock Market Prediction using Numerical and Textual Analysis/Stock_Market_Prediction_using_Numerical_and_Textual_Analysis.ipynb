{
  "nbformat": 4,
  "nbformat_minor": 0,
  "metadata": {
    "kernelspec": {
      "display_name": "Python 3",
      "language": "python",
      "name": "python3"
    },
    "language_info": {
      "codemirror_mode": {
        "name": "ipython",
        "version": 3
      },
      "file_extension": ".py",
      "mimetype": "text/x-python",
      "name": "python",
      "nbconvert_exporter": "python",
      "pygments_lexer": "ipython3",
      "version": "3.7.7"
    },
    "colab": {
      "name": "Stock Market Prediction using Numerical and Textual Analysis.ipynb",
      "provenance": [],
      "toc_visible": true
    },
    "accelerator": "GPU"
  },
  "cells": [
    {
      "cell_type": "markdown",
      "metadata": {
        "id": "8ERnfCSSsgl2"
      },
      "source": [
        "# Stock Market Prediction using Numerical and Textual Analysis"
      ]
    },
    {
      "cell_type": "markdown",
      "metadata": {
        "id": "DFtus1h8sgl6"
      },
      "source": [
        "## Importing Libraries"
      ]
    },
    {
      "cell_type": "code",
      "metadata": {
        "id": "2rh7h2FRsgl8"
      },
      "source": [
        "# Importing the libraries\n",
        "import numpy as np\n",
        "import matplotlib.pyplot as plt\n",
        "import pandas as pd\n",
        "import datetime"
      ],
      "execution_count": null,
      "outputs": []
    },
    {
      "cell_type": "code",
      "metadata": {
        "id": "0iuYbjggwYby",
        "outputId": "09eaa217-e3e9-40c2-eb26-8f6a16d519ee",
        "colab": {
          "base_uri": "https://localhost:8080/"
        }
      },
      "source": [
        "from google.colab import drive\n",
        "drive.mount('/content/drive')"
      ],
      "execution_count": 9,
      "outputs": [
        {
          "output_type": "stream",
          "text": [
            "Mounted at /content/drive\n"
          ],
          "name": "stdout"
        }
      ]
    },
    {
      "cell_type": "code",
      "metadata": {
        "id": "EnbB0lrxsgmI"
      },
      "source": [
        "dataset = pd.read_csv('BSESN.csv',index_col=\"Date\",parse_dates=True)"
      ],
      "execution_count": 10,
      "outputs": []
    },
    {
      "cell_type": "code",
      "metadata": {
        "id": "mMG1BwYlsgmR",
        "outputId": "d7247fb2-54ca-4d21-e225-5321bc718956",
        "colab": {
          "base_uri": "https://localhost:8080/",
          "height": 225
        }
      },
      "source": [
        "dataset.head()"
      ],
      "execution_count": 11,
      "outputs": [
        {
          "output_type": "execute_result",
          "data": {
            "text/html": [
              "<div>\n",
              "<style scoped>\n",
              "    .dataframe tbody tr th:only-of-type {\n",
              "        vertical-align: middle;\n",
              "    }\n",
              "\n",
              "    .dataframe tbody tr th {\n",
              "        vertical-align: top;\n",
              "    }\n",
              "\n",
              "    .dataframe thead th {\n",
              "        text-align: right;\n",
              "    }\n",
              "</style>\n",
              "<table border=\"1\" class=\"dataframe\">\n",
              "  <thead>\n",
              "    <tr style=\"text-align: right;\">\n",
              "      <th></th>\n",
              "      <th>Open</th>\n",
              "      <th>High</th>\n",
              "      <th>Low</th>\n",
              "      <th>Close</th>\n",
              "      <th>Adj Close</th>\n",
              "      <th>Volume</th>\n",
              "    </tr>\n",
              "    <tr>\n",
              "      <th>Date</th>\n",
              "      <th></th>\n",
              "      <th></th>\n",
              "      <th></th>\n",
              "      <th></th>\n",
              "      <th></th>\n",
              "      <th></th>\n",
              "    </tr>\n",
              "  </thead>\n",
              "  <tbody>\n",
              "    <tr>\n",
              "      <th>2015-11-04</th>\n",
              "      <td>26704.019531</td>\n",
              "      <td>26800.060547</td>\n",
              "      <td>26510.310547</td>\n",
              "      <td>26552.919922</td>\n",
              "      <td>26552.919922</td>\n",
              "      <td>8000.0</td>\n",
              "    </tr>\n",
              "    <tr>\n",
              "      <th>2015-11-05</th>\n",
              "      <td>26557.800781</td>\n",
              "      <td>26557.800781</td>\n",
              "      <td>26243.199219</td>\n",
              "      <td>26304.199219</td>\n",
              "      <td>26304.199219</td>\n",
              "      <td>12300.0</td>\n",
              "    </tr>\n",
              "    <tr>\n",
              "      <th>2015-11-06</th>\n",
              "      <td>26284.009766</td>\n",
              "      <td>26438.859375</td>\n",
              "      <td>26190.179688</td>\n",
              "      <td>26265.240234</td>\n",
              "      <td>26265.240234</td>\n",
              "      <td>15600.0</td>\n",
              "    </tr>\n",
              "    <tr>\n",
              "      <th>2015-11-09</th>\n",
              "      <td>25809.000000</td>\n",
              "      <td>26193.169922</td>\n",
              "      <td>25656.900391</td>\n",
              "      <td>26121.400391</td>\n",
              "      <td>26121.400391</td>\n",
              "      <td>13300.0</td>\n",
              "    </tr>\n",
              "    <tr>\n",
              "      <th>2015-11-10</th>\n",
              "      <td>26094.089844</td>\n",
              "      <td>26094.089844</td>\n",
              "      <td>25709.230469</td>\n",
              "      <td>25743.259766</td>\n",
              "      <td>25743.259766</td>\n",
              "      <td>12800.0</td>\n",
              "    </tr>\n",
              "  </tbody>\n",
              "</table>\n",
              "</div>"
            ],
            "text/plain": [
              "                    Open          High  ...     Adj Close   Volume\n",
              "Date                                    ...                       \n",
              "2015-11-04  26704.019531  26800.060547  ...  26552.919922   8000.0\n",
              "2015-11-05  26557.800781  26557.800781  ...  26304.199219  12300.0\n",
              "2015-11-06  26284.009766  26438.859375  ...  26265.240234  15600.0\n",
              "2015-11-09  25809.000000  26193.169922  ...  26121.400391  13300.0\n",
              "2015-11-10  26094.089844  26094.089844  ...  25743.259766  12800.0\n",
              "\n",
              "[5 rows x 6 columns]"
            ]
          },
          "metadata": {
            "tags": []
          },
          "execution_count": 11
        }
      ]
    },
    {
      "cell_type": "code",
      "metadata": {
        "id": "9Ddq-UAusgmd",
        "outputId": "3e848817-1543-43ef-8c20-a25618e348f2",
        "colab": {
          "base_uri": "https://localhost:8080/",
          "height": 225
        }
      },
      "source": [
        "dataset.tail()"
      ],
      "execution_count": 13,
      "outputs": [
        {
          "output_type": "execute_result",
          "data": {
            "text/html": [
              "<div>\n",
              "<style scoped>\n",
              "    .dataframe tbody tr th:only-of-type {\n",
              "        vertical-align: middle;\n",
              "    }\n",
              "\n",
              "    .dataframe tbody tr th {\n",
              "        vertical-align: top;\n",
              "    }\n",
              "\n",
              "    .dataframe thead th {\n",
              "        text-align: right;\n",
              "    }\n",
              "</style>\n",
              "<table border=\"1\" class=\"dataframe\">\n",
              "  <thead>\n",
              "    <tr style=\"text-align: right;\">\n",
              "      <th></th>\n",
              "      <th>Open</th>\n",
              "      <th>High</th>\n",
              "      <th>Low</th>\n",
              "      <th>Close</th>\n",
              "      <th>Adj Close</th>\n",
              "      <th>Volume</th>\n",
              "    </tr>\n",
              "    <tr>\n",
              "      <th>Date</th>\n",
              "      <th></th>\n",
              "      <th></th>\n",
              "      <th></th>\n",
              "      <th></th>\n",
              "      <th></th>\n",
              "      <th></th>\n",
              "    </tr>\n",
              "  </thead>\n",
              "  <tbody>\n",
              "    <tr>\n",
              "      <th>2020-10-28</th>\n",
              "      <td>40664.351563</td>\n",
              "      <td>40664.351563</td>\n",
              "      <td>39774.601563</td>\n",
              "      <td>39922.460938</td>\n",
              "      <td>39922.460938</td>\n",
              "      <td>29400.0</td>\n",
              "    </tr>\n",
              "    <tr>\n",
              "      <th>2020-10-29</th>\n",
              "      <td>39537.171875</td>\n",
              "      <td>40010.828125</td>\n",
              "      <td>39524.250000</td>\n",
              "      <td>39749.851563</td>\n",
              "      <td>39749.851563</td>\n",
              "      <td>19500.0</td>\n",
              "    </tr>\n",
              "    <tr>\n",
              "      <th>2020-10-30</th>\n",
              "      <td>39779.820313</td>\n",
              "      <td>39988.250000</td>\n",
              "      <td>39241.871094</td>\n",
              "      <td>39614.070313</td>\n",
              "      <td>39614.070313</td>\n",
              "      <td>12000.0</td>\n",
              "    </tr>\n",
              "    <tr>\n",
              "      <th>2020-11-02</th>\n",
              "      <td>39880.378906</td>\n",
              "      <td>39968.031250</td>\n",
              "      <td>39334.921875</td>\n",
              "      <td>39757.578125</td>\n",
              "      <td>39757.578125</td>\n",
              "      <td>15400.0</td>\n",
              "    </tr>\n",
              "    <tr>\n",
              "      <th>2020-11-03</th>\n",
              "      <td>39990.750000</td>\n",
              "      <td>40354.730469</td>\n",
              "      <td>39952.789063</td>\n",
              "      <td>40261.128906</td>\n",
              "      <td>40261.128906</td>\n",
              "      <td>21400.0</td>\n",
              "    </tr>\n",
              "  </tbody>\n",
              "</table>\n",
              "</div>"
            ],
            "text/plain": [
              "                    Open          High  ...     Adj Close   Volume\n",
              "Date                                    ...                       \n",
              "2020-10-28  40664.351563  40664.351563  ...  39922.460938  29400.0\n",
              "2020-10-29  39537.171875  40010.828125  ...  39749.851563  19500.0\n",
              "2020-10-30  39779.820313  39988.250000  ...  39614.070313  12000.0\n",
              "2020-11-02  39880.378906  39968.031250  ...  39757.578125  15400.0\n",
              "2020-11-03  39990.750000  40354.730469  ...  40261.128906  21400.0\n",
              "\n",
              "[5 rows x 6 columns]"
            ]
          },
          "metadata": {
            "tags": []
          },
          "execution_count": 13
        }
      ]
    },
    {
      "cell_type": "code",
      "metadata": {
        "id": "fJXRdPEjsgmn",
        "outputId": "18a7a23f-0b54-43b0-c5e3-f887dee96071",
        "colab": {
          "base_uri": "https://localhost:8080/"
        }
      },
      "source": [
        "dataset.isnull().sum()"
      ],
      "execution_count": 14,
      "outputs": [
        {
          "output_type": "execute_result",
          "data": {
            "text/plain": [
              "Open         4\n",
              "High         4\n",
              "Low          4\n",
              "Close        4\n",
              "Adj Close    4\n",
              "Volume       4\n",
              "dtype: int64"
            ]
          },
          "metadata": {
            "tags": []
          },
          "execution_count": 14
        }
      ]
    },
    {
      "cell_type": "code",
      "metadata": {
        "id": "L0AEdU87sgmw",
        "outputId": "21c5416a-51e1-458a-942c-d64ebe8c2e1a",
        "colab": {
          "base_uri": "https://localhost:8080/"
        }
      },
      "source": [
        "dataset.shape"
      ],
      "execution_count": 15,
      "outputs": [
        {
          "output_type": "execute_result",
          "data": {
            "text/plain": [
              "(1232, 6)"
            ]
          },
          "metadata": {
            "tags": []
          },
          "execution_count": 15
        }
      ]
    },
    {
      "cell_type": "code",
      "metadata": {
        "id": "mv9efcCwsgm8"
      },
      "source": [
        "# Drop null values\n",
        "dataset.dropna(inplace=True)"
      ],
      "execution_count": 16,
      "outputs": []
    },
    {
      "cell_type": "code",
      "metadata": {
        "id": "GUaQyMkRsgnG",
        "outputId": "dedc2b04-9508-4739-9869-342a917f1b6a",
        "colab": {
          "base_uri": "https://localhost:8080/"
        }
      },
      "source": [
        "dataset.isnull().sum()"
      ],
      "execution_count": 17,
      "outputs": [
        {
          "output_type": "execute_result",
          "data": {
            "text/plain": [
              "Open         0\n",
              "High         0\n",
              "Low          0\n",
              "Close        0\n",
              "Adj Close    0\n",
              "Volume       0\n",
              "dtype: int64"
            ]
          },
          "metadata": {
            "tags": []
          },
          "execution_count": 17
        }
      ]
    },
    {
      "cell_type": "code",
      "metadata": {
        "id": "6pJnFCQtsgnP",
        "outputId": "3f3bd845-d151-4239-d90f-11db63ba257b",
        "colab": {
          "base_uri": "https://localhost:8080/"
        }
      },
      "source": [
        "dataset.shape"
      ],
      "execution_count": 18,
      "outputs": [
        {
          "output_type": "execute_result",
          "data": {
            "text/plain": [
              "(1228, 6)"
            ]
          },
          "metadata": {
            "tags": []
          },
          "execution_count": 18
        }
      ]
    },
    {
      "cell_type": "code",
      "metadata": {
        "id": "bEgCeSKxsgnX",
        "outputId": "4edaa446-f963-4dfb-f17a-7700ea8858b8",
        "colab": {
          "base_uri": "https://localhost:8080/"
        }
      },
      "source": [
        "dataset.info()"
      ],
      "execution_count": 19,
      "outputs": [
        {
          "output_type": "stream",
          "text": [
            "<class 'pandas.core.frame.DataFrame'>\n",
            "DatetimeIndex: 1228 entries, 2015-11-04 to 2020-11-03\n",
            "Data columns (total 6 columns):\n",
            " #   Column     Non-Null Count  Dtype  \n",
            "---  ------     --------------  -----  \n",
            " 0   Open       1228 non-null   float64\n",
            " 1   High       1228 non-null   float64\n",
            " 2   Low        1228 non-null   float64\n",
            " 3   Close      1228 non-null   float64\n",
            " 4   Adj Close  1228 non-null   float64\n",
            " 5   Volume     1228 non-null   float64\n",
            "dtypes: float64(6)\n",
            "memory usage: 67.2 KB\n"
          ],
          "name": "stdout"
        }
      ]
    },
    {
      "cell_type": "code",
      "metadata": {
        "id": "mSluCw8Dsgng",
        "outputId": "908cc0ee-d2c5-46b5-f9aa-d772efe6f229",
        "colab": {
          "base_uri": "https://localhost:8080/",
          "height": 384
        }
      },
      "source": [
        "dataset['Open'].plot(figsize=(16,6))"
      ],
      "execution_count": 20,
      "outputs": [
        {
          "output_type": "execute_result",
          "data": {
            "text/plain": [
              "<matplotlib.axes._subplots.AxesSubplot at 0x7efc58dcb6d8>"
            ]
          },
          "metadata": {
            "tags": []
          },
          "execution_count": 20
        },
        {
          "output_type": "display_data",
          "data": {
            "image/png": "[encoded data removed]",
            "text/plain": [
              "<Figure size 1152x432 with 1 Axes>"
            ]
          },
          "metadata": {
            "tags": [],
            "needs_background": "light"
          }
        }
      ]
    },
    {
      "cell_type": "code",
      "metadata": {
        "id": "mmXFJucIsgno",
        "outputId": "a5922857-98b2-436a-a07d-74a4998f067a",
        "colab": {
          "base_uri": "https://localhost:8080/",
          "height": 669
        }
      },
      "source": [
        "# 7 day rolling mean\n",
        "dataset.rolling(7).mean().head(20)"
      ],
      "execution_count": 21,
      "outputs": [
        {
          "output_type": "execute_result",
          "data": {
            "text/html": [
              "<div>\n",
              "<style scoped>\n",
              "    .dataframe tbody tr th:only-of-type {\n",
              "        vertical-align: middle;\n",
              "    }\n",
              "\n",
              "    .dataframe tbody tr th {\n",
              "        vertical-align: top;\n",
              "    }\n",
              "\n",
              "    .dataframe thead th {\n",
              "        text-align: right;\n",
              "    }\n",
              "</style>\n",
              "<table border=\"1\" class=\"dataframe\">\n",
              "  <thead>\n",
              "    <tr style=\"text-align: right;\">\n",
              "      <th></th>\n",
              "      <th>Open</th>\n",
              "      <th>High</th>\n",
              "      <th>Low</th>\n",
              "      <th>Close</th>\n",
              "      <th>Adj Close</th>\n",
              "      <th>Volume</th>\n",
              "    </tr>\n",
              "    <tr>\n",
              "      <th>Date</th>\n",
              "      <th></th>\n",
              "      <th></th>\n",
              "      <th></th>\n",
              "      <th></th>\n",
              "      <th></th>\n",
              "      <th></th>\n",
              "    </tr>\n",
              "  </thead>\n",
              "  <tbody>\n",
              "    <tr>\n",
              "      <th>2015-11-04</th>\n",
              "      <td>NaN</td>\n",
              "      <td>NaN</td>\n",
              "      <td>NaN</td>\n",
              "      <td>NaN</td>\n",
              "      <td>NaN</td>\n",
              "      <td>NaN</td>\n",
              "    </tr>\n",
              "    <tr>\n",
              "      <th>2015-11-05</th>\n",
              "      <td>NaN</td>\n",
              "      <td>NaN</td>\n",
              "      <td>NaN</td>\n",
              "      <td>NaN</td>\n",
              "      <td>NaN</td>\n",
              "      <td>NaN</td>\n",
              "    </tr>\n",
              "    <tr>\n",
              "      <th>2015-11-06</th>\n",
              "      <td>NaN</td>\n",
              "      <td>NaN</td>\n",
              "      <td>NaN</td>\n",
              "      <td>NaN</td>\n",
              "      <td>NaN</td>\n",
              "      <td>NaN</td>\n",
              "    </tr>\n",
              "    <tr>\n",
              "      <th>2015-11-09</th>\n",
              "      <td>NaN</td>\n",
              "      <td>NaN</td>\n",
              "      <td>NaN</td>\n",
              "      <td>NaN</td>\n",
              "      <td>NaN</td>\n",
              "      <td>NaN</td>\n",
              "    </tr>\n",
              "    <tr>\n",
              "      <th>2015-11-10</th>\n",
              "      <td>NaN</td>\n",
              "      <td>NaN</td>\n",
              "      <td>NaN</td>\n",
              "      <td>NaN</td>\n",
              "      <td>NaN</td>\n",
              "      <td>NaN</td>\n",
              "    </tr>\n",
              "    <tr>\n",
              "      <th>2015-11-13</th>\n",
              "      <td>NaN</td>\n",
              "      <td>NaN</td>\n",
              "      <td>NaN</td>\n",
              "      <td>NaN</td>\n",
              "      <td>NaN</td>\n",
              "      <td>NaN</td>\n",
              "    </tr>\n",
              "    <tr>\n",
              "      <th>2015-11-16</th>\n",
              "      <td>26107.594308</td>\n",
              "      <td>26239.212891</td>\n",
              "      <td>25900.281529</td>\n",
              "      <td>26051.092634</td>\n",
              "      <td>26051.092634</td>\n",
              "      <td>12114.285714</td>\n",
              "    </tr>\n",
              "    <tr>\n",
              "      <th>2015-11-17</th>\n",
              "      <td>25992.431641</td>\n",
              "      <td>26117.518415</td>\n",
              "      <td>25789.207032</td>\n",
              "      <td>25952.742746</td>\n",
              "      <td>25952.742746</td>\n",
              "      <td>12500.000000</td>\n",
              "    </tr>\n",
              "    <tr>\n",
              "      <th>2015-11-18</th>\n",
              "      <td>25889.561663</td>\n",
              "      <td>26022.169643</td>\n",
              "      <td>25676.367188</td>\n",
              "      <td>25835.359933</td>\n",
              "      <td>25835.359933</td>\n",
              "      <td>13042.857143</td>\n",
              "    </tr>\n",
              "    <tr>\n",
              "      <th>2015-11-19</th>\n",
              "      <td>25797.608817</td>\n",
              "      <td>25942.978237</td>\n",
              "      <td>25592.498605</td>\n",
              "      <td>25774.885603</td>\n",
              "      <td>25774.885603</td>\n",
              "      <td>12228.571429</td>\n",
              "    </tr>\n",
              "    <tr>\n",
              "      <th>2015-11-20</th>\n",
              "      <td>25804.341797</td>\n",
              "      <td>25923.776786</td>\n",
              "      <td>25608.628627</td>\n",
              "      <td>25738.755580</td>\n",
              "      <td>25738.755580</td>\n",
              "      <td>11757.142857</td>\n",
              "    </tr>\n",
              "    <tr>\n",
              "      <th>2015-11-23</th>\n",
              "      <td>25783.063337</td>\n",
              "      <td>25904.340960</td>\n",
              "      <td>25614.025670</td>\n",
              "      <td>25749.624163</td>\n",
              "      <td>25749.624163</td>\n",
              "      <td>11371.428571</td>\n",
              "    </tr>\n",
              "    <tr>\n",
              "      <th>2015-11-24</th>\n",
              "      <td>25791.851842</td>\n",
              "      <td>25929.693918</td>\n",
              "      <td>25637.329799</td>\n",
              "      <td>25773.225725</td>\n",
              "      <td>25773.225725</td>\n",
              "      <td>10800.000000</td>\n",
              "    </tr>\n",
              "    <tr>\n",
              "      <th>2015-11-26</th>\n",
              "      <td>25818.946150</td>\n",
              "      <td>25951.068081</td>\n",
              "      <td>25682.814174</td>\n",
              "      <td>25801.587332</td>\n",
              "      <td>25801.587332</td>\n",
              "      <td>10385.714286</td>\n",
              "    </tr>\n",
              "    <tr>\n",
              "      <th>2015-11-27</th>\n",
              "      <td>25833.991630</td>\n",
              "      <td>25984.846819</td>\n",
              "      <td>25712.032924</td>\n",
              "      <td>25839.262835</td>\n",
              "      <td>25839.262835</td>\n",
              "      <td>10342.857143</td>\n",
              "    </tr>\n",
              "    <tr>\n",
              "      <th>2015-11-30</th>\n",
              "      <td>25877.537109</td>\n",
              "      <td>26033.518415</td>\n",
              "      <td>25802.863002</td>\n",
              "      <td>25933.998605</td>\n",
              "      <td>25933.998605</td>\n",
              "      <td>9228.571429</td>\n",
              "    </tr>\n",
              "    <tr>\n",
              "      <th>2015-12-01</th>\n",
              "      <td>25957.669922</td>\n",
              "      <td>26085.161273</td>\n",
              "      <td>25876.922991</td>\n",
              "      <td>25980.782924</td>\n",
              "      <td>25980.782924</td>\n",
              "      <td>9385.714286</td>\n",
              "    </tr>\n",
              "    <tr>\n",
              "      <th>2015-12-02</th>\n",
              "      <td>26012.421317</td>\n",
              "      <td>26113.398438</td>\n",
              "      <td>25915.761440</td>\n",
              "      <td>26016.405692</td>\n",
              "      <td>26016.405692</td>\n",
              "      <td>9400.000000</td>\n",
              "    </tr>\n",
              "    <tr>\n",
              "      <th>2015-12-03</th>\n",
              "      <td>26037.952567</td>\n",
              "      <td>26137.087054</td>\n",
              "      <td>25931.524275</td>\n",
              "      <td>26026.017020</td>\n",
              "      <td>26026.017020</td>\n",
              "      <td>9314.285714</td>\n",
              "    </tr>\n",
              "    <tr>\n",
              "      <th>2015-12-04</th>\n",
              "      <td>26041.445592</td>\n",
              "      <td>26124.015625</td>\n",
              "      <td>25920.074498</td>\n",
              "      <td>26006.355469</td>\n",
              "      <td>26006.355469</td>\n",
              "      <td>9742.857143</td>\n",
              "    </tr>\n",
              "  </tbody>\n",
              "</table>\n",
              "</div>"
            ],
            "text/plain": [
              "                    Open          High  ...     Adj Close        Volume\n",
              "Date                                    ...                            \n",
              "2015-11-04           NaN           NaN  ...           NaN           NaN\n",
              "2015-11-05           NaN           NaN  ...           NaN           NaN\n",
              "2015-11-06           NaN           NaN  ...           NaN           NaN\n",
              "2015-11-09           NaN           NaN  ...           NaN           NaN\n",
              "2015-11-10           NaN           NaN  ...           NaN           NaN\n",
              "2015-11-13           NaN           NaN  ...           NaN           NaN\n",
              "2015-11-16  26107.594308  26239.212891  ...  26051.092634  12114.285714\n",
              "2015-11-17  25992.431641  26117.518415  ...  25952.742746  12500.000000\n",
              "2015-11-18  25889.561663  26022.169643  ...  25835.359933  13042.857143\n",
              "2015-11-19  25797.608817  25942.978237  ...  25774.885603  12228.571429\n",
              "2015-11-20  25804.341797  25923.776786  ...  25738.755580  11757.142857\n",
              "2015-11-23  25783.063337  25904.340960  ...  25749.624163  11371.428571\n",
              "2015-11-24  25791.851842  25929.693918  ...  25773.225725  10800.000000\n",
              "2015-11-26  25818.946150  25951.068081  ...  25801.587332  10385.714286\n",
              "2015-11-27  25833.991630  25984.846819  ...  25839.262835  10342.857143\n",
              "2015-11-30  25877.537109  26033.518415  ...  25933.998605   9228.571429\n",
              "2015-12-01  25957.669922  26085.161273  ...  25980.782924   9385.714286\n",
              "2015-12-02  26012.421317  26113.398438  ...  26016.405692   9400.000000\n",
              "2015-12-03  26037.952567  26137.087054  ...  26026.017020   9314.285714\n",
              "2015-12-04  26041.445592  26124.015625  ...  26006.355469   9742.857143\n",
              "\n",
              "[20 rows x 6 columns]"
            ]
          },
          "metadata": {
            "tags": []
          },
          "execution_count": 21
        }
      ]
    },
    {
      "cell_type": "code",
      "metadata": {
        "id": "KfaNgaw6sgnw",
        "outputId": "0070027e-f952-439e-d97f-66bd85a0ddd7",
        "colab": {
          "base_uri": "https://localhost:8080/",
          "height": 384
        }
      },
      "source": [
        "dataset['Open: 30 Day Mean'] = dataset['Open'].rolling(window=30).mean()\n",
        "dataset[['Open','Open: 30 Day Mean']].plot(figsize=(16,6))"
      ],
      "execution_count": 22,
      "outputs": [
        {
          "output_type": "execute_result",
          "data": {
            "text/plain": [
              "<matplotlib.axes._subplots.AxesSubplot at 0x7efc5b20f9b0>"
            ]
          },
          "metadata": {
            "tags": []
          },
          "execution_count": 22
        },
        {
          "output_type": "display_data",
          "data": {
            "image/png": "[encoded data removed]",
            "text/plain": [
              "<Figure size 1152x432 with 1 Axes>"
            ]
          },
          "metadata": {
            "tags": [],
            "needs_background": "light"
          }
        }
      ]
    },
    {
      "cell_type": "code",
      "metadata": {
        "id": "6GLXaOxCsgn5",
        "outputId": "d7efc7c5-78e1-4e2a-916f-11dea01588fe",
        "colab": {
          "base_uri": "https://localhost:8080/",
          "height": 384
        }
      },
      "source": [
        "dataset['Close: 30 Day Mean'] = dataset['Close'].rolling(window=30).mean()\n",
        "dataset[['Close','Close: 30 Day Mean']].plot(figsize=(16,6))"
      ],
      "execution_count": 23,
      "outputs": [
        {
          "output_type": "execute_result",
          "data": {
            "text/plain": [
              "<matplotlib.axes._subplots.AxesSubplot at 0x7efc587fc240>"
            ]
          },
          "metadata": {
            "tags": []
          },
          "execution_count": 23
        },
        {
          "output_type": "display_data",
          "data": {
            "image/png": "[encoded data removed]",
            "text/plain": [
              "<Figure size 1152x432 with 1 Axes>"
            ]
          },
          "metadata": {
            "tags": [],
            "needs_background": "light"
          }
        }
      ]
    },
    {
      "cell_type": "code",
      "metadata": {
        "id": "HNHH50bAsgoB"
      },
      "source": [
        "df1=dataset.reset_index()['Close']"
      ],
      "execution_count": 24,
      "outputs": []
    },
    {
      "cell_type": "code",
      "metadata": {
        "id": "2wNY9C7EsgoJ",
        "outputId": "de7ee79a-e7ce-47ce-884f-85b71d429fcd",
        "colab": {
          "base_uri": "https://localhost:8080/"
        }
      },
      "source": [
        "df1.head()"
      ],
      "execution_count": 25,
      "outputs": [
        {
          "output_type": "execute_result",
          "data": {
            "text/plain": [
              "0    26552.919922\n",
              "1    26304.199219\n",
              "2    26265.240234\n",
              "3    26121.400391\n",
              "4    25743.259766\n",
              "Name: Close, dtype: float64"
            ]
          },
          "metadata": {
            "tags": []
          },
          "execution_count": 25
        }
      ]
    },
    {
      "cell_type": "code",
      "metadata": {
        "id": "DCdxlSLKsgoR"
      },
      "source": [
        "# Feature Scaling\n",
        "from sklearn.preprocessing import MinMaxScaler\n",
        "scaler=MinMaxScaler(feature_range=(0,1))\n",
        "df1=scaler.fit_transform(np.array(df1).reshape(-1,1))"
      ],
      "execution_count": 26,
      "outputs": []
    },
    {
      "cell_type": "code",
      "metadata": {
        "id": "lLyF3trwsgoZ",
        "outputId": "62c23b5c-57a8-4a5a-81a0-90c0926cad4b",
        "colab": {
          "base_uri": "https://localhost:8080/"
        }
      },
      "source": [
        "print(df1)"
      ],
      "execution_count": 27,
      "outputs": [
        {
          "output_type": "stream",
          "text": [
            "[[0.18952308]\n",
            " [0.17643306]\n",
            " [0.17438268]\n",
            " ...\n",
            " [0.87692314]\n",
            " [0.88447587]\n",
            " [0.91097743]]\n"
          ],
          "name": "stdout"
        }
      ]
    },
    {
      "cell_type": "markdown",
      "metadata": {
        "id": "Nqs4hLdPsgog"
      },
      "source": [
        "## Splitting data set"
      ]
    },
    {
      "cell_type": "code",
      "metadata": {
        "id": "O1NKsOA2sgoh"
      },
      "source": [
        "training_size=int(len(df1)*0.65)\n",
        "test_size=len(df1)-training_size\n",
        "train_data,test_data=df1[0:training_size,:],df1[training_size:len(df1),:1]"
      ],
      "execution_count": 28,
      "outputs": []
    },
    {
      "cell_type": "code",
      "metadata": {
        "id": "gtmEFpE7sgol",
        "outputId": "4c7b73dc-27fb-43df-d649-7d35c8543b04",
        "colab": {
          "base_uri": "https://localhost:8080/"
        }
      },
      "source": [
        "training_size,test_size"
      ],
      "execution_count": 29,
      "outputs": [
        {
          "output_type": "execute_result",
          "data": {
            "text/plain": [
              "(798, 430)"
            ]
          },
          "metadata": {
            "tags": []
          },
          "execution_count": 29
        }
      ]
    },
    {
      "cell_type": "code",
      "metadata": {
        "scrolled": true,
        "id": "N7X0IHUisgos",
        "outputId": "c8d95ab5-8dff-4117-c3f6-bd99a6189225",
        "colab": {
          "base_uri": "https://localhost:8080/"
        }
      },
      "source": [
        "train_data"
      ],
      "execution_count": 30,
      "outputs": [
        {
          "output_type": "execute_result",
          "data": {
            "text/plain": [
              "array([[0.18952308],\n",
              "       [0.17643306],\n",
              "       [0.17438268],\n",
              "       [0.16681248],\n",
              "       [0.14691118],\n",
              "       [0.13992565],\n",
              "       [0.14779745],\n",
              "       [0.15329043],\n",
              "       [0.13318858],\n",
              "       [0.1521036 ],\n",
              "       [0.15350198],\n",
              "       [0.15091522],\n",
              "       [0.1486206 ],\n",
              "       [0.15824602],\n",
              "       [0.16717029],\n",
              "       [0.16808977],\n",
              "       [0.1693392 ],\n",
              "       [0.1666256 ],\n",
              "       [0.15445609],\n",
              "       [0.14137718],\n",
              "       [0.13569321],\n",
              "       [0.12412636],\n",
              "       [0.10969121],\n",
              "       [0.12107334],\n",
              "       [0.11013219],\n",
              "       [0.11570669],\n",
              "       [0.12465841],\n",
              "       [0.13381222],\n",
              "       [0.15009628],\n",
              "       [0.13512014],\n",
              "       [0.14652386],\n",
              "       [0.13887944],\n",
              "       [0.15254468],\n",
              "       [0.15193471],\n",
              "       [0.16221954],\n",
              "       [0.16460626],\n",
              "       [0.15831962],\n",
              "       [0.16660926],\n",
              "       [0.14060038],\n",
              "       [0.1383368 ],\n",
              "       [0.12917878],\n",
              "       [0.0999958 ],\n",
              "       [0.10433772],\n",
              "       [0.0985858 ],\n",
              "       [0.09105929],\n",
              "       [0.10011575],\n",
              "       [0.09584548],\n",
              "       [0.07911294],\n",
              "       [0.06507827],\n",
              "       [0.08041819],\n",
              "       [0.0584296 ],\n",
              "       [0.0531757 ],\n",
              "       [0.07809304],\n",
              "       [0.08073972],\n",
              "       [0.08107873],\n",
              "       [0.07987771],\n",
              "       [0.10098835],\n",
              "       [0.0985748 ],\n",
              "       [0.08353175],\n",
              "       [0.06691773],\n",
              "       [0.07297586],\n",
              "       [0.0876353 ],\n",
              "       [0.07029125],\n",
              "       [0.05626871],\n",
              "       [0.0424756 ],\n",
              "       [0.        ],\n",
              "       [0.00180461],\n",
              "       [0.03169809],\n",
              "       [0.01263845],\n",
              "       [0.02263268],\n",
              "       [0.03670323],\n",
              "       [0.03985729],\n",
              "       [0.04404862],\n",
              "       [0.02412265],\n",
              "       [0.00721547],\n",
              "       [0.00127205],\n",
              "       [0.0106559 ],\n",
              "       [0.00264041],\n",
              "       [0.04355183],\n",
              "       [0.06795243],\n",
              "       [0.08711003],\n",
              "       [0.08918838],\n",
              "       [0.0898594 ],\n",
              "       [0.09695018],\n",
              "       [0.0879705 ],\n",
              "       [0.09295189],\n",
              "       [0.09749323],\n",
              "       [0.08417224],\n",
              "       [0.09108303],\n",
              "       [0.09081403],\n",
              "       [0.10530663],\n",
              "       [0.12281268],\n",
              "       [0.12518738],\n",
              "       [0.12555948],\n",
              "       [0.10602556],\n",
              "       [0.10255521],\n",
              "       [0.12561314],\n",
              "       [0.12578573],\n",
              "       [0.1219849 ],\n",
              "       [0.12882723],\n",
              "       [0.10166729],\n",
              "       [0.10256415],\n",
              "       [0.09123773],\n",
              "       [0.09062828],\n",
              "       [0.10896016],\n",
              "       [0.11545619],\n",
              "       [0.14077934],\n",
              "       [0.15075836],\n",
              "       [0.15222253],\n",
              "       [0.15412777],\n",
              "       [0.15190469],\n",
              "       [0.14352552],\n",
              "       [0.16080749],\n",
              "       [0.1637978 ],\n",
              "       [0.13953464],\n",
              "       [0.13971987],\n",
              "       [0.13079138],\n",
              "       [0.11988281],\n",
              "       [0.1131479 ],\n",
              "       [0.12159388],\n",
              "       [0.1198197 ],\n",
              "       [0.14404812],\n",
              "       [0.14845161],\n",
              "       [0.13921464],\n",
              "       [0.1493827 ],\n",
              "       [0.13355966],\n",
              "       [0.14217299],\n",
              "       [0.14850846],\n",
              "       [0.14487703],\n",
              "       [0.12883093],\n",
              "       [0.12368271],\n",
              "       [0.11991755],\n",
              "       [0.12387061],\n",
              "       [0.1541693 ],\n",
              "       [0.17972137],\n",
              "       [0.19482178],\n",
              "       [0.1986111 ],\n",
              "       [0.19557761],\n",
              "       [0.19799692],\n",
              "       [0.20479721],\n",
              "       [0.20479135],\n",
              "       [0.20133991],\n",
              "       [0.21356154],\n",
              "       [0.21413995],\n",
              "       [0.20060372],\n",
              "       [0.19388237],\n",
              "       [0.18130498],\n",
              "       [0.18124927],\n",
              "       [0.19865006],\n",
              "       [0.18807793],\n",
              "       [0.19336451],\n",
              "       [0.2060487 ],\n",
              "       [0.20319931],\n",
              "       [0.20071895],\n",
              "       [0.21316949],\n",
              "       [0.18135453],\n",
              "       [0.18163083],\n",
              "       [0.18803003],\n",
              "       [0.19938954],\n",
              "       [0.21303792],\n",
              "       [0.22067915],\n",
              "       [0.22772357],\n",
              "       [0.22183483],\n",
              "       [0.22365692],\n",
              "       [0.2197313 ],\n",
              "       [0.24603489],\n",
              "       [0.25558455],\n",
              "       [0.25595501],\n",
              "       [0.26263524],\n",
              "       [0.25707708],\n",
              "       [0.25234887],\n",
              "       [0.25450451],\n",
              "       [0.26125536],\n",
              "       [0.25044681],\n",
              "       [0.25532664],\n",
              "       [0.27069966],\n",
              "       [0.26444622],\n",
              "       [0.26696246],\n",
              "       [0.27666148],\n",
              "       [0.26841131],\n",
              "       [0.26584614],\n",
              "       [0.26471944],\n",
              "       [0.24976211],\n",
              "       [0.25064941],\n",
              "       [0.26980547],\n",
              "       [0.27529054],\n",
              "       [0.27016391],\n",
              "       [0.25383411],\n",
              "       [0.2582928 ],\n",
              "       [0.27370272],\n",
              "       [0.26908233],\n",
              "       [0.26596456],\n",
              "       [0.27217852],\n",
              "       [0.26973444],\n",
              "       [0.26492091],\n",
              "       [0.26516679],\n",
              "       [0.26883656],\n",
              "       [0.25704604],\n",
              "       [0.25422194],\n",
              "       [0.26055905],\n",
              "       [0.28373437],\n",
              "       [0.2894794 ],\n",
              "       [0.28796949],\n",
              "       [0.29368656],\n",
              "       [0.31715453],\n",
              "       [0.31443569],\n",
              "       [0.32069437],\n",
              "       [0.30764075],\n",
              "       [0.28428852],\n",
              "       [0.28527224],\n",
              "       [0.28741216],\n",
              "       [0.29720852],\n",
              "       [0.29907532],\n",
              "       [0.29321763],\n",
              "       [0.29238717],\n",
              "       [0.30637137],\n",
              "       [0.30085002],\n",
              "       [0.28116972],\n",
              "       [0.27745513],\n",
              "       [0.28109242],\n",
              "       [0.25660496],\n",
              "       [0.25862759],\n",
              "       [0.27848613],\n",
              "       [0.28328918],\n",
              "       [0.27731205],\n",
              "       [0.2712718 ],\n",
              "       [0.26889978],\n",
              "       [0.27001548],\n",
              "       [0.24689906],\n",
              "       [0.24850374],\n",
              "       [0.24094464],\n",
              "       [0.26835981],\n",
              "       [0.26485934],\n",
              "       [0.27251537],\n",
              "       [0.2697439 ],\n",
              "       [0.27510685],\n",
              "       [0.27049336],\n",
              "       [0.2570776 ],\n",
              "       [0.26125587],\n",
              "       [0.26260368],\n",
              "       [0.25918801],\n",
              "       [0.24079991],\n",
              "       [0.23569794],\n",
              "       [0.22748098],\n",
              "       [0.23720898],\n",
              "       [0.24416397],\n",
              "       [0.22634307],\n",
              "       [0.24029777],\n",
              "       [0.20351725],\n",
              "       [0.17645578],\n",
              "       [0.17614309],\n",
              "       [0.1724027 ],\n",
              "       [0.1683303 ],\n",
              "       [0.14806275],\n",
              "       [0.15835909],\n",
              "       [0.16315001],\n",
              "       [0.15306408],\n",
              "       [0.17707202],\n",
              "       [0.17885247],\n",
              "       [0.18115974],\n",
              "       [0.19478026],\n",
              "       [0.18989148],\n",
              "       [0.17256275],\n",
              "       [0.17879614],\n",
              "       [0.18109395],\n",
              "       [0.17288952],\n",
              "       [0.19696273],\n",
              "       [0.19974684],\n",
              "       [0.18754002],\n",
              "       [0.19714909],\n",
              "       [0.19215033],\n",
              "       [0.18774159],\n",
              "       [0.18618851],\n",
              "       [0.18014343],\n",
              "       [0.17663207],\n",
              "       [0.1731796 ],\n",
              "       [0.15934959],\n",
              "       [0.16256523],\n",
              "       [0.15027103],\n",
              "       [0.17165643],\n",
              "       [0.17151119],\n",
              "       [0.17969351],\n",
              "       [0.19339349],\n",
              "       [0.19176137],\n",
              "       [0.19427658],\n",
              "       [0.19374453],\n",
              "       [0.20664448],\n",
              "       [0.20038107],\n",
              "       [0.19866116],\n",
              "       [0.20776655],\n",
              "       [0.22044231],\n",
              "       [0.2260605 ],\n",
              "       [0.22558159],\n",
              "       [0.22821882],\n",
              "       [0.22545526],\n",
              "       [0.22661208],\n",
              "       [0.22929402],\n",
              "       [0.21486833],\n",
              "       [0.21922814],\n",
              "       [0.23281916],\n",
              "       [0.25032161],\n",
              "       [0.25949598],\n",
              "       [0.25776445],\n",
              "       [0.24757543],\n",
              "       [0.27313644],\n",
              "       [0.27760829],\n",
              "       [0.27834037],\n",
              "       [0.28880097],\n",
              "       [0.28332125],\n",
              "       [0.28094029],\n",
              "       [0.28303384],\n",
              "       [0.28327335],\n",
              "       [0.28418748],\n",
              "       [0.28353968],\n",
              "       [0.27386904],\n",
              "       [0.28153761],\n",
              "       [0.290352  ],\n",
              "       [0.30050052],\n",
              "       [0.30576397],\n",
              "       [0.31119117],\n",
              "       [0.31267847],\n",
              "       [0.30846339],\n",
              "       [0.30480246],\n",
              "       [0.31749508],\n",
              "       [0.30987955],\n",
              "       [0.30949326],\n",
              "       [0.32084753],\n",
              "       [0.31828822],\n",
              "       [0.31315049],\n",
              "       [0.31458155],\n",
              "       [0.31548149],\n",
              "       [0.34160673],\n",
              "       [0.33926359],\n",
              "       [0.34914424],\n",
              "       [0.35246729],\n",
              "       [0.34561232],\n",
              "       [0.34386023],\n",
              "       [0.32713623],\n",
              "       [0.33579273],\n",
              "       [0.34048939],\n",
              "       [0.33079242],\n",
              "       [0.3398641 ],\n",
              "       [0.34628016],\n",
              "       [0.35238465],\n",
              "       [0.35096787],\n",
              "       [0.36621569],\n",
              "       [0.369585  ],\n",
              "       [0.36711666],\n",
              "       [0.35549975],\n",
              "       [0.34861219],\n",
              "       [0.35980169],\n",
              "       [0.35217732],\n",
              "       [0.34259713],\n",
              "       [0.34008202],\n",
              "       [0.33510536],\n",
              "       [0.33602483],\n",
              "       [0.3405415 ],\n",
              "       [0.3375369 ],\n",
              "       [0.35282779],\n",
              "       [0.36795349],\n",
              "       [0.37795882],\n",
              "       [0.37250593],\n",
              "       [0.36664618],\n",
              "       [0.36679245],\n",
              "       [0.36540415],\n",
              "       [0.37758312],\n",
              "       [0.36350949],\n",
              "       [0.36705406],\n",
              "       [0.36742771],\n",
              "       [0.38400174],\n",
              "       [0.38414966],\n",
              "       [0.38084295],\n",
              "       [0.38789364],\n",
              "       [0.40160256],\n",
              "       [0.40561134],\n",
              "       [0.39382339],\n",
              "       [0.39540916],\n",
              "       [0.40099054],\n",
              "       [0.39016359],\n",
              "       [0.38681587],\n",
              "       [0.41041428],\n",
              "       [0.42505481],\n",
              "       [0.42932138],\n",
              "       [0.43195922],\n",
              "       [0.43124348],\n",
              "       [0.43081135],\n",
              "       [0.43795311],\n",
              "       [0.43985836],\n",
              "       [0.43359916],\n",
              "       [0.43784734],\n",
              "       [0.43479905],\n",
              "       [0.43736216],\n",
              "       [0.42860667],\n",
              "       [0.42901671],\n",
              "       [0.43177553],\n",
              "       [0.42755573],\n",
              "       [0.4265384 ],\n",
              "       [0.43996783],\n",
              "       [0.43922886],\n",
              "       [0.43849791],\n",
              "       [0.43887156],\n",
              "       [0.43084404],\n",
              "       [0.42137281],\n",
              "       [0.41485047],\n",
              "       [0.41607143],\n",
              "       [0.41944443],\n",
              "       [0.43523376],\n",
              "       [0.43461115],\n",
              "       [0.43649378],\n",
              "       [0.4430082 ],\n",
              "       [0.44254986],\n",
              "       [0.46123379],\n",
              "       [0.46288895],\n",
              "       [0.46592727],\n",
              "       [0.47816678],\n",
              "       [0.47729151],\n",
              "       [0.48013504],\n",
              "       [0.46098905],\n",
              "       [0.47384953],\n",
              "       [0.4711681 ],\n",
              "       [0.47771994],\n",
              "       [0.48913939],\n",
              "       [0.48821313],\n",
              "       [0.49632813],\n",
              "       [0.49637233],\n",
              "       [0.49250828],\n",
              "       [0.50330039],\n",
              "       [0.50647028],\n",
              "       [0.50128998],\n",
              "       [0.48871897],\n",
              "       [0.49332558],\n",
              "       [0.49060252],\n",
              "       [0.47694623],\n",
              "       [0.46555989],\n",
              "       [0.45153365],\n",
              "       [0.43481118],\n",
              "       [0.44720221],\n",
              "       [0.46414157],\n",
              "       [0.46543469],\n",
              "       [0.45118364],\n",
              "       [0.43719317],\n",
              "       [0.43892994],\n",
              "       [0.45346408],\n",
              "       [0.45494037],\n",
              "       [0.46308528],\n",
              "       [0.44401083],\n",
              "       [0.45759291],\n",
              "       [0.46201532],\n",
              "       [0.47052761],\n",
              "       [0.46052905],\n",
              "       [0.46617623],\n",
              "       [0.45840918],\n",
              "       [0.45844968],\n",
              "       [0.4597538 ],\n",
              "       [0.46999761],\n",
              "       [0.48454963],\n",
              "       [0.4860101 ],\n",
              "       [0.48893205],\n",
              "       [0.49054671],\n",
              "       [0.49850166],\n",
              "       [0.49737588],\n",
              "       [0.49727802],\n",
              "       [0.49567437],\n",
              "       [0.47211749],\n",
              "       [0.45654927],\n",
              "       [0.45513506],\n",
              "       [0.43198081],\n",
              "       [0.43843685],\n",
              "       [0.43850212],\n",
              "       [0.44974692],\n",
              "       [0.4589218 ],\n",
              "       [0.45472821],\n",
              "       [0.466422  ],\n",
              "       [0.4681414 ],\n",
              "       [0.4722212 ],\n",
              "       [0.46746246],\n",
              "       [0.48578961],\n",
              "       [0.49897162],\n",
              "       [0.50954755],\n",
              "       [0.50825916],\n",
              "       [0.5069534 ],\n",
              "       [0.49672285],\n",
              "       [0.50286784],\n",
              "       [0.50816336],\n",
              "       [0.53106556],\n",
              "       [0.53657212],\n",
              "       [0.53710314],\n",
              "       [0.54283665],\n",
              "       [0.54004565],\n",
              "       [0.56042062],\n",
              "       [0.55899695],\n",
              "       [0.56490933],\n",
              "       [0.56731095],\n",
              "       [0.54834177],\n",
              "       [0.54034457],\n",
              "       [0.54203509],\n",
              "       [0.54538383],\n",
              "       [0.53059498],\n",
              "       [0.52576953],\n",
              "       [0.51622089],\n",
              "       [0.5344507 ],\n",
              "       [0.5468702 ],\n",
              "       [0.54777004],\n",
              "       [0.55400415],\n",
              "       [0.55838288],\n",
              "       [0.55977899],\n",
              "       [0.56457669],\n",
              "       [0.56695571],\n",
              "       [0.56138481],\n",
              "       [0.56055178],\n",
              "       [0.53668909],\n",
              "       [0.52003663],\n",
              "       [0.5219722 ],\n",
              "       [0.51843143],\n",
              "       [0.50762864],\n",
              "       [0.52615582],\n",
              "       [0.54200199],\n",
              "       [0.5528167 ],\n",
              "       [0.54082769],\n",
              "       [0.53162023],\n",
              "       [0.54181244],\n",
              "       [0.55319457],\n",
              "       [0.56049484],\n",
              "       [0.57286582],\n",
              "       [0.56974177],\n",
              "       [0.56863142],\n",
              "       [0.57831625],\n",
              "       [0.58201655],\n",
              "       [0.57681672],\n",
              "       [0.57346016],\n",
              "       [0.58444901],\n",
              "       [0.57160333],\n",
              "       [0.57157763],\n",
              "       [0.57058384],\n",
              "       [0.57986039],\n",
              "       [0.58955529],\n",
              "       [0.60002525],\n",
              "       [0.60478306],\n",
              "       [0.6042504 ],\n",
              "       [0.60795645],\n",
              "       [0.61263532],\n",
              "       [0.62585167],\n",
              "       [0.62203809],\n",
              "       [0.6383937 ],\n",
              "       [0.6477864 ],\n",
              "       [0.66101158],\n",
              "       [0.6760864 ],\n",
              "       [0.694084  ],\n",
              "       [0.69522396],\n",
              "       [0.68937161],\n",
              "       [0.70162418],\n",
              "       [0.68849213],\n",
              "       [0.68487591],\n",
              "       [0.6818045 ],\n",
              "       [0.63760056],\n",
              "       [0.62130704],\n",
              "       [0.59177045],\n",
              "       [0.58581121],\n",
              "       [0.60320254],\n",
              "       [0.58176142],\n",
              "       [0.59727166],\n",
              "       [0.58966569],\n",
              "       [0.59711377],\n",
              "       [0.58202456],\n",
              "       [0.56959869],\n",
              "       [0.5658583 ],\n",
              "       [0.57329323],\n",
              "       [0.57195858],\n",
              "       [0.58893936],\n",
              "       [0.60491772],\n",
              "       [0.5996885 ],\n",
              "       [0.59114404],\n",
              "       [0.58392868],\n",
              "       [0.56813144],\n",
              "       [0.54552281],\n",
              "       [0.53057031],\n",
              "       [0.54733174],\n",
              "       [0.54499343],\n",
              "       [0.57713949],\n",
              "       [0.57392067],\n",
              "       [0.57281319],\n",
              "       [0.5649083 ],\n",
              "       [0.53809158],\n",
              "       [0.52478273],\n",
              "       [0.52865839],\n",
              "       [0.53599587],\n",
              "       [0.52915878],\n",
              "       [0.50759492],\n",
              "       [0.53232394],\n",
              "       [0.53800688],\n",
              "       [0.52718045],\n",
              "       [0.54226822],\n",
              "       [0.54833478],\n",
              "       [0.52983247],\n",
              "       [0.56023806],\n",
              "       [0.56182578],\n",
              "       [0.57032913],\n",
              "       [0.57515581],\n",
              "       [0.57832365],\n",
              "       [0.58678053],\n",
              "       [0.59159715],\n",
              "       [0.59753275],\n",
              "       [0.60224986],\n",
              "       [0.59891427],\n",
              "       [0.60394613],\n",
              "       [0.60332979],\n",
              "       [0.6051819 ],\n",
              "       [0.61391159],\n",
              "       [0.60783968],\n",
              "       [0.61901458],\n",
              "       [0.63249284],\n",
              "       [0.64252716],\n",
              "       [0.64337252],\n",
              "       [0.63951577],\n",
              "       [0.62963399],\n",
              "       [0.64504186],\n",
              "       [0.64547235],\n",
              "       [0.65089482],\n",
              "       [0.64704856],\n",
              "       [0.66228579],\n",
              "       [0.66338689],\n",
              "       [0.66271484],\n",
              "       [0.65450137],\n",
              "       [0.6419357 ],\n",
              "       [0.62610371],\n",
              "       [0.61388465],\n",
              "       [0.61573244],\n",
              "       [0.59961058],\n",
              "       [0.61635721],\n",
              "       [0.63013356],\n",
              "       [0.64279668],\n",
              "       [0.63141599],\n",
              "       [0.62914614],\n",
              "       [0.65105414],\n",
              "       [0.64604819],\n",
              "       [0.63471334],\n",
              "       [0.6289936 ],\n",
              "       [0.64350183],\n",
              "       [0.65845906],\n",
              "       [0.65743772],\n",
              "       [0.6595322 ],\n",
              "       [0.67053441],\n",
              "       [0.67298908],\n",
              "       [0.66565571],\n",
              "       [0.66683041],\n",
              "       [0.66294221],\n",
              "       [0.6491784 ],\n",
              "       [0.66289308],\n",
              "       [0.65684399],\n",
              "       [0.67038084],\n",
              "       [0.65884185],\n",
              "       [0.65987799],\n",
              "       [0.64551388],\n",
              "       [0.63606855],\n",
              "       [0.65637506],\n",
              "       [0.64800329],\n",
              "       [0.65401311],\n",
              "       [0.66805446],\n",
              "       [0.66432579],\n",
              "       [0.66871027],\n",
              "       [0.6832812 ],\n",
              "       [0.69932802],\n",
              "       [0.70071262],\n",
              "       [0.71557939],\n",
              "       [0.7152225 ],\n",
              "       [0.7037567 ],\n",
              "       [0.71408213],\n",
              "       [0.7063709 ],\n",
              "       [0.70520195],\n",
              "       [0.71284061],\n",
              "       [0.72453646],\n",
              "       [0.73014149],\n",
              "       [0.73188504],\n",
              "       [0.73853793],\n",
              "       [0.75707456],\n",
              "       [0.76536616],\n",
              "       [0.7712701 ],\n",
              "       [0.76679887],\n",
              "       [0.74803855],\n",
              "       [0.76861664],\n",
              "       [0.77576004],\n",
              "       [0.77438695],\n",
              "       [0.78605793],\n",
              "       [0.79325828],\n",
              "       [0.78509333],\n",
              "       [0.77328688],\n",
              "       [0.7841865 ],\n",
              "       [0.77426895],\n",
              "       [0.78923255],\n",
              "       [0.80664608],\n",
              "       [0.80701449],\n",
              "       [0.8096992 ],\n",
              "       [0.80522776],\n",
              "       [0.82850618],\n",
              "       [0.83916466],\n",
              "       [0.83002298],\n",
              "       [0.82829525],\n",
              "       [0.82592529],\n",
              "       [0.80842335],\n",
              "       [0.80028697],\n",
              "       [0.79293922],\n",
              "       [0.80475451],\n",
              "       [0.81249164],\n",
              "       [0.7878796 ],\n",
              "       [0.76108899],\n",
              "       [0.77713211],\n",
              "       [0.796746  ],\n",
              "       [0.77016139],\n",
              "       [0.75464416],\n",
              "       [0.74572595],\n",
              "       [0.73100987],\n",
              "       [0.7027699 ],\n",
              "       [0.72103434],\n",
              "       [0.71525622],\n",
              "       [0.70377787],\n",
              "       [0.69867118],\n",
              "       [0.71440736],\n",
              "       [0.68543428],\n",
              "       [0.64299034],\n",
              "       [0.60129884],\n",
              "       [0.60642444],\n",
              "       [0.59721903],\n",
              "       [0.62150337],\n",
              "       [0.58151862],\n",
              "       [0.62006593],\n",
              "       [0.62698793],\n",
              "       [0.64263879],\n",
              "       [0.62248688],\n",
              "       [0.59806953],\n",
              "       [0.58853046],\n",
              "       [0.57341802],\n",
              "       [0.58324552],\n",
              "       [0.56514781],\n",
              "       [0.5472127 ],\n",
              "       [0.58500532],\n",
              "       [0.57572836],\n",
              "       [0.60472303],\n",
              "       [0.60419242],\n",
              "       [0.6347006 ],\n",
              "       [0.6315046 ],\n",
              "       [0.63366178],\n",
              "       [0.64659648],\n",
              "       [0.64243197],\n",
              "       [0.62424524],\n",
              "       [0.64169187],\n",
              "       [0.6415603 ],\n",
              "       [0.64779955],\n",
              "       [0.6581476 ],\n",
              "       [0.67486893],\n",
              "       [0.6590608 ],\n",
              "       [0.64460294],\n",
              "       [0.63308862],\n",
              "       [0.65272245],\n",
              "       [0.66109381],\n",
              "       [0.67182013],\n",
              "       [0.69568549],\n",
              "       [0.69694284],\n",
              "       [0.69940059],\n",
              "       [0.69378549],\n",
              "       [0.68063349],\n",
              "       [0.65051469],\n",
              "       [0.66952027],\n",
              "       [0.63196757],\n",
              "       [0.64198257],\n",
              "       [0.67508952],\n",
              "       [0.68301394],\n",
              "       [0.68476593],\n",
              "       [0.70093054],\n",
              "       [0.70498342],\n",
              "       [0.7122068 ],\n",
              "       [0.70943553],\n",
              "       [0.67314224],\n",
              "       [0.65883116],\n",
              "       [0.66829355],\n",
              "       [0.67657425],\n",
              "       [0.69075457],\n",
              "       [0.69031298],\n",
              "       [0.68100766],\n",
              "       [0.66112383],\n",
              "       [0.6706703 ],\n",
              "       [0.67883094],\n",
              "       [0.68571325],\n",
              "       [0.69792224],\n",
              "       [0.69232194],\n",
              "       [0.68723478],\n",
              "       [0.67900979],\n",
              "       [0.70347032],\n",
              "       [0.70362615],\n",
              "       [0.70640441],\n",
              "       [0.70706392],\n",
              "       [0.71718726],\n",
              "       [0.71011807],\n",
              "       [0.69242555],\n",
              "       [0.69698498],\n",
              "       [0.68806102],\n",
              "       [0.66864921],\n",
              "       [0.66527045],\n",
              "       [0.66520466]])"
            ]
          },
          "metadata": {
            "tags": []
          },
          "execution_count": 30
        }
      ]
    },
    {
      "cell_type": "markdown",
      "metadata": {
        "id": "6LvdpjxYsgow"
      },
      "source": [
        "## Function to create X_train, y_train AND X_test, y_test"
      ]
    },
    {
      "cell_type": "code",
      "metadata": {
        "id": "XRDa9dg-sgox"
      },
      "source": [
        "import numpy\n",
        "# convert an array of values into a dataset matrix\n",
        "def create_dataset(dataset, time_step=1):\n",
        "    dataX, dataY = [], []\n",
        "    for i in range(len(dataset)-time_step-1):\n",
        "        a = dataset[i:(i+time_step), 0]   ###i=0, 0,1,2,3-----99   100 \n",
        "        dataX.append(a)\n",
        "        dataY.append(dataset[i + time_step, 0])\n",
        "    return numpy.array(dataX), numpy.array(dataY)"
      ],
      "execution_count": 31,
      "outputs": []
    },
    {
      "cell_type": "code",
      "metadata": {
        "id": "LSHqPVResgo0"
      },
      "source": [
        "# reshape into X=t,t+1,t+2,t+3 and Y=t+4\n",
        "time_step = 100\n",
        "X_train, y_train = create_dataset(train_data, time_step)\n",
        "X_test, y_test = create_dataset(test_data, time_step)"
      ],
      "execution_count": 32,
      "outputs": []
    },
    {
      "cell_type": "code",
      "metadata": {
        "id": "-RYhnGuFsgo3",
        "outputId": "f3215208-2d78-4e82-90b3-265083b7d51b",
        "colab": {
          "base_uri": "https://localhost:8080/"
        }
      },
      "source": [
        "print(X_train.shape), print(y_train.shape)"
      ],
      "execution_count": 33,
      "outputs": [
        {
          "output_type": "stream",
          "text": [
            "(697, 100)\n",
            "(697,)\n"
          ],
          "name": "stdout"
        },
        {
          "output_type": "execute_result",
          "data": {
            "text/plain": [
              "(None, None)"
            ]
          },
          "metadata": {
            "tags": []
          },
          "execution_count": 33
        }
      ]
    },
    {
      "cell_type": "code",
      "metadata": {
        "id": "TXtOnln9sgo7",
        "outputId": "7e47c84f-8a16-4c8d-8ae2-4530b05c6216",
        "colab": {
          "base_uri": "https://localhost:8080/"
        }
      },
      "source": [
        "print(X_test.shape), print(y_test.shape)"
      ],
      "execution_count": 34,
      "outputs": [
        {
          "output_type": "stream",
          "text": [
            "(329, 100)\n",
            "(329,)\n"
          ],
          "name": "stdout"
        },
        {
          "output_type": "execute_result",
          "data": {
            "text/plain": [
              "(None, None)"
            ]
          },
          "metadata": {
            "tags": []
          },
          "execution_count": 34
        }
      ]
    },
    {
      "cell_type": "code",
      "metadata": {
        "id": "LDM4ICyPsgo_"
      },
      "source": [
        "# reshape input to be [samples, time steps, features]\n",
        "X_train =X_train.reshape(X_train.shape[0],X_train.shape[1] , 1)\n",
        "X_test = X_test.reshape(X_test.shape[0],X_test.shape[1] , 1)"
      ],
      "execution_count": 35,
      "outputs": []
    },
    {
      "cell_type": "code",
      "metadata": {
        "id": "E3bCSl5wsgpD",
        "outputId": "7b6ed762-5b26-43ea-a097-fd343786b3d9",
        "colab": {
          "base_uri": "https://localhost:8080/"
        }
      },
      "source": [
        "print(X_train.shape), print(y_train.shape)"
      ],
      "execution_count": 36,
      "outputs": [
        {
          "output_type": "stream",
          "text": [
            "(697, 100, 1)\n",
            "(697,)\n"
          ],
          "name": "stdout"
        },
        {
          "output_type": "execute_result",
          "data": {
            "text/plain": [
              "(None, None)"
            ]
          },
          "metadata": {
            "tags": []
          },
          "execution_count": 36
        }
      ]
    },
    {
      "cell_type": "markdown",
      "metadata": {
        "id": "9V_EgNTUsgpG"
      },
      "source": [
        "## Creating LSTM Model"
      ]
    },
    {
      "cell_type": "code",
      "metadata": {
        "id": "aiK-XvHYsgpG"
      },
      "source": [
        "### Create the Stacked LSTM model\n",
        "from tensorflow.keras.models import Sequential\n",
        "from tensorflow.keras.layers import Dense\n",
        "from tensorflow.keras.layers import LSTM"
      ],
      "execution_count": 37,
      "outputs": []
    },
    {
      "cell_type": "code",
      "metadata": {
        "id": "nQ3B-BJjsgpK"
      },
      "source": [
        "model=Sequential()\n",
        "model.add(LSTM(50,return_sequences=True,input_shape=(100,1)))\n",
        "model.add(LSTM(50,return_sequences=True))\n",
        "model.add(LSTM(50))\n",
        "model.add(Dense(1))\n",
        "model.compile(loss='mean_squared_error',optimizer='adam')"
      ],
      "execution_count": 38,
      "outputs": []
    },
    {
      "cell_type": "code",
      "metadata": {
        "id": "FdzGc4T5sgpN",
        "outputId": "5293ab0c-9eaa-42f0-8b3b-500955b2fa9f",
        "colab": {
          "base_uri": "https://localhost:8080/"
        }
      },
      "source": [
        "model.summary()"
      ],
      "execution_count": 39,
      "outputs": [
        {
          "output_type": "stream",
          "text": [
            "Model: \"sequential\"\n",
            "_________________________________________________________________\n",
            "Layer (type)                 Output Shape              Param #   \n",
            "=================================================================\n",
            "lstm (LSTM)                  (None, 100, 50)           10400     \n",
            "_________________________________________________________________\n",
            "lstm_1 (LSTM)                (None, 100, 50)           20200     \n",
            "_________________________________________________________________\n",
            "lstm_2 (LSTM)                (None, 50)                20200     \n",
            "_________________________________________________________________\n",
            "dense (Dense)                (None, 1)                 51        \n",
            "=================================================================\n",
            "Total params: 50,851\n",
            "Trainable params: 50,851\n",
            "Non-trainable params: 0\n",
            "_________________________________________________________________\n"
          ],
          "name": "stdout"
        }
      ]
    },
    {
      "cell_type": "code",
      "metadata": {
        "id": "M8Q0-LXFsgpS",
        "outputId": "53e17e0e-6935-467f-ad59-6cf0ebade1f4",
        "colab": {
          "base_uri": "https://localhost:8080/"
        }
      },
      "source": [
        "history_LSTM=model.fit(X_train,y_train,validation_data=(X_test,y_test),epochs=100,batch_size=64,verbose=1)"
      ],
      "execution_count": 40,
      "outputs": [
        {
          "output_type": "stream",
          "text": [
            "Epoch 1/100\n",
            "11/11 [==============================] - 2s 171ms/step - loss: 0.0721 - val_loss: 0.0255\n",
            "Epoch 2/100\n",
            "11/11 [==============================] - 1s 77ms/step - loss: 0.0108 - val_loss: 0.0142\n",
            "Epoch 3/100\n",
            "11/11 [==============================] - 1s 77ms/step - loss: 0.0058 - val_loss: 0.0280\n",
            "Epoch 4/100\n",
            "11/11 [==============================] - 1s 78ms/step - loss: 0.0031 - val_loss: 0.0119\n",
            "Epoch 5/100\n",
            "11/11 [==============================] - 1s 77ms/step - loss: 0.0018 - val_loss: 0.0117\n",
            "Epoch 6/100\n",
            "11/11 [==============================] - 1s 76ms/step - loss: 0.0014 - val_loss: 0.0120\n",
            "Epoch 7/100\n",
            "11/11 [==============================] - 1s 76ms/step - loss: 0.0014 - val_loss: 0.0115\n",
            "Epoch 8/100\n",
            "11/11 [==============================] - 1s 79ms/step - loss: 0.0014 - val_loss: 0.0113\n",
            "Epoch 9/100\n",
            "11/11 [==============================] - 1s 78ms/step - loss: 0.0014 - val_loss: 0.0112\n",
            "Epoch 10/100\n",
            "11/11 [==============================] - 1s 75ms/step - loss: 0.0013 - val_loss: 0.0110\n",
            "Epoch 11/100\n",
            "11/11 [==============================] - 1s 75ms/step - loss: 0.0013 - val_loss: 0.0108\n",
            "Epoch 12/100\n",
            "11/11 [==============================] - 1s 77ms/step - loss: 0.0013 - val_loss: 0.0107\n",
            "Epoch 13/100\n",
            "11/11 [==============================] - 1s 77ms/step - loss: 0.0013 - val_loss: 0.0106\n",
            "Epoch 14/100\n",
            "11/11 [==============================] - 1s 77ms/step - loss: 0.0013 - val_loss: 0.0109\n",
            "Epoch 15/100\n",
            "11/11 [==============================] - 1s 77ms/step - loss: 0.0013 - val_loss: 0.0104\n",
            "Epoch 16/100\n",
            "11/11 [==============================] - 1s 76ms/step - loss: 0.0012 - val_loss: 0.0100\n",
            "Epoch 17/100\n",
            "11/11 [==============================] - 1s 77ms/step - loss: 0.0013 - val_loss: 0.0097\n",
            "Epoch 18/100\n",
            "11/11 [==============================] - 1s 75ms/step - loss: 0.0012 - val_loss: 0.0095\n",
            "Epoch 19/100\n",
            "11/11 [==============================] - 1s 76ms/step - loss: 0.0012 - val_loss: 0.0095\n",
            "Epoch 20/100\n",
            "11/11 [==============================] - 1s 78ms/step - loss: 0.0011 - val_loss: 0.0093\n",
            "Epoch 21/100\n",
            "11/11 [==============================] - 1s 75ms/step - loss: 0.0011 - val_loss: 0.0095\n",
            "Epoch 22/100\n",
            "11/11 [==============================] - 1s 75ms/step - loss: 0.0011 - val_loss: 0.0088\n",
            "Epoch 23/100\n",
            "11/11 [==============================] - 1s 77ms/step - loss: 0.0011 - val_loss: 0.0085\n",
            "Epoch 24/100\n",
            "11/11 [==============================] - 1s 75ms/step - loss: 0.0011 - val_loss: 0.0081\n",
            "Epoch 25/100\n",
            "11/11 [==============================] - 1s 75ms/step - loss: 0.0010 - val_loss: 0.0077\n",
            "Epoch 26/100\n",
            "11/11 [==============================] - 1s 78ms/step - loss: 0.0010 - val_loss: 0.0074\n",
            "Epoch 27/100\n",
            "11/11 [==============================] - 1s 77ms/step - loss: 0.0011 - val_loss: 0.0083\n",
            "Epoch 28/100\n",
            "11/11 [==============================] - 1s 76ms/step - loss: 9.6061e-04 - val_loss: 0.0068\n",
            "Epoch 29/100\n",
            "11/11 [==============================] - 1s 74ms/step - loss: 9.4574e-04 - val_loss: 0.0070\n",
            "Epoch 30/100\n",
            "11/11 [==============================] - 1s 76ms/step - loss: 8.9840e-04 - val_loss: 0.0069\n",
            "Epoch 31/100\n",
            "11/11 [==============================] - 1s 76ms/step - loss: 9.0589e-04 - val_loss: 0.0065\n",
            "Epoch 32/100\n",
            "11/11 [==============================] - 1s 76ms/step - loss: 8.3170e-04 - val_loss: 0.0068\n",
            "Epoch 33/100\n",
            "11/11 [==============================] - 1s 77ms/step - loss: 8.0933e-04 - val_loss: 0.0075\n",
            "Epoch 34/100\n",
            "11/11 [==============================] - 1s 79ms/step - loss: 8.6506e-04 - val_loss: 0.0055\n",
            "Epoch 35/100\n",
            "11/11 [==============================] - 1s 77ms/step - loss: 8.5879e-04 - val_loss: 0.0066\n",
            "Epoch 36/100\n",
            "11/11 [==============================] - 1s 75ms/step - loss: 7.8148e-04 - val_loss: 0.0059\n",
            "Epoch 37/100\n",
            "11/11 [==============================] - 1s 77ms/step - loss: 7.6646e-04 - val_loss: 0.0057\n",
            "Epoch 38/100\n",
            "11/11 [==============================] - 1s 75ms/step - loss: 7.8342e-04 - val_loss: 0.0056\n",
            "Epoch 39/100\n",
            "11/11 [==============================] - 1s 76ms/step - loss: 7.7499e-04 - val_loss: 0.0052\n",
            "Epoch 40/100\n",
            "11/11 [==============================] - 1s 77ms/step - loss: 7.7295e-04 - val_loss: 0.0047\n",
            "Epoch 41/100\n",
            "11/11 [==============================] - 1s 77ms/step - loss: 9.7042e-04 - val_loss: 0.0059\n",
            "Epoch 42/100\n",
            "11/11 [==============================] - 1s 75ms/step - loss: 7.2728e-04 - val_loss: 0.0051\n",
            "Epoch 43/100\n",
            "11/11 [==============================] - 1s 77ms/step - loss: 7.4417e-04 - val_loss: 0.0049\n",
            "Epoch 44/100\n",
            "11/11 [==============================] - 1s 77ms/step - loss: 6.9849e-04 - val_loss: 0.0047\n",
            "Epoch 45/100\n",
            "11/11 [==============================] - 1s 76ms/step - loss: 7.1936e-04 - val_loss: 0.0046\n",
            "Epoch 46/100\n",
            "11/11 [==============================] - 1s 75ms/step - loss: 7.1694e-04 - val_loss: 0.0061\n",
            "Epoch 47/100\n",
            "11/11 [==============================] - 1s 75ms/step - loss: 8.0046e-04 - val_loss: 0.0041\n",
            "Epoch 48/100\n",
            "11/11 [==============================] - 1s 76ms/step - loss: 7.2781e-04 - val_loss: 0.0046\n",
            "Epoch 49/100\n",
            "11/11 [==============================] - 1s 78ms/step - loss: 7.1533e-04 - val_loss: 0.0050\n",
            "Epoch 50/100\n",
            "11/11 [==============================] - 1s 77ms/step - loss: 6.9695e-04 - val_loss: 0.0039\n",
            "Epoch 51/100\n",
            "11/11 [==============================] - 1s 76ms/step - loss: 7.0150e-04 - val_loss: 0.0045\n",
            "Epoch 52/100\n",
            "11/11 [==============================] - 1s 74ms/step - loss: 6.7008e-04 - val_loss: 0.0043\n",
            "Epoch 53/100\n",
            "11/11 [==============================] - 1s 73ms/step - loss: 6.6996e-04 - val_loss: 0.0051\n",
            "Epoch 54/100\n",
            "11/11 [==============================] - 1s 74ms/step - loss: 7.5157e-04 - val_loss: 0.0037\n",
            "Epoch 55/100\n",
            "11/11 [==============================] - 1s 76ms/step - loss: 7.1962e-04 - val_loss: 0.0061\n",
            "Epoch 56/100\n",
            "11/11 [==============================] - 1s 77ms/step - loss: 6.7621e-04 - val_loss: 0.0038\n",
            "Epoch 57/100\n",
            "11/11 [==============================] - 1s 76ms/step - loss: 6.5938e-04 - val_loss: 0.0040\n",
            "Epoch 58/100\n",
            "11/11 [==============================] - 1s 74ms/step - loss: 6.3709e-04 - val_loss: 0.0037\n",
            "Epoch 59/100\n",
            "11/11 [==============================] - 1s 76ms/step - loss: 6.5456e-04 - val_loss: 0.0043\n",
            "Epoch 60/100\n",
            "11/11 [==============================] - 1s 75ms/step - loss: 6.3834e-04 - val_loss: 0.0037\n",
            "Epoch 61/100\n",
            "11/11 [==============================] - 1s 77ms/step - loss: 6.4083e-04 - val_loss: 0.0035\n",
            "Epoch 62/100\n",
            "11/11 [==============================] - 1s 78ms/step - loss: 6.3618e-04 - val_loss: 0.0036\n",
            "Epoch 63/100\n",
            "11/11 [==============================] - 1s 78ms/step - loss: 6.5636e-04 - val_loss: 0.0035\n",
            "Epoch 64/100\n",
            "11/11 [==============================] - 1s 77ms/step - loss: 6.6610e-04 - val_loss: 0.0046\n",
            "Epoch 65/100\n",
            "11/11 [==============================] - 1s 78ms/step - loss: 7.3659e-04 - val_loss: 0.0035\n",
            "Epoch 66/100\n",
            "11/11 [==============================] - 1s 80ms/step - loss: 6.3504e-04 - val_loss: 0.0036\n",
            "Epoch 67/100\n",
            "11/11 [==============================] - 1s 78ms/step - loss: 6.9055e-04 - val_loss: 0.0034\n",
            "Epoch 68/100\n",
            "11/11 [==============================] - 1s 78ms/step - loss: 6.9235e-04 - val_loss: 0.0048\n",
            "Epoch 69/100\n",
            "11/11 [==============================] - 1s 79ms/step - loss: 6.8596e-04 - val_loss: 0.0037\n",
            "Epoch 70/100\n",
            "11/11 [==============================] - 1s 79ms/step - loss: 6.9207e-04 - val_loss: 0.0032\n",
            "Epoch 71/100\n",
            "11/11 [==============================] - 1s 78ms/step - loss: 6.2367e-04 - val_loss: 0.0036\n",
            "Epoch 72/100\n",
            "11/11 [==============================] - 1s 78ms/step - loss: 6.0152e-04 - val_loss: 0.0032\n",
            "Epoch 73/100\n",
            "11/11 [==============================] - 1s 78ms/step - loss: 6.0702e-04 - val_loss: 0.0042\n",
            "Epoch 74/100\n",
            "11/11 [==============================] - 1s 78ms/step - loss: 6.2196e-04 - val_loss: 0.0033\n",
            "Epoch 75/100\n",
            "11/11 [==============================] - 1s 77ms/step - loss: 5.9293e-04 - val_loss: 0.0033\n",
            "Epoch 76/100\n",
            "11/11 [==============================] - 1s 76ms/step - loss: 5.8832e-04 - val_loss: 0.0031\n",
            "Epoch 77/100\n",
            "11/11 [==============================] - 1s 78ms/step - loss: 6.4604e-04 - val_loss: 0.0041\n",
            "Epoch 78/100\n",
            "11/11 [==============================] - 1s 76ms/step - loss: 5.9532e-04 - val_loss: 0.0029\n",
            "Epoch 79/100\n",
            "11/11 [==============================] - 1s 79ms/step - loss: 6.1170e-04 - val_loss: 0.0036\n",
            "Epoch 80/100\n",
            "11/11 [==============================] - 1s 76ms/step - loss: 6.0517e-04 - val_loss: 0.0028\n",
            "Epoch 81/100\n",
            "11/11 [==============================] - 1s 78ms/step - loss: 6.8299e-04 - val_loss: 0.0039\n",
            "Epoch 82/100\n",
            "11/11 [==============================] - 1s 78ms/step - loss: 5.7291e-04 - val_loss: 0.0034\n",
            "Epoch 83/100\n",
            "11/11 [==============================] - 1s 79ms/step - loss: 5.5654e-04 - val_loss: 0.0032\n",
            "Epoch 84/100\n",
            "11/11 [==============================] - 1s 78ms/step - loss: 6.3258e-04 - val_loss: 0.0034\n",
            "Epoch 85/100\n",
            "11/11 [==============================] - 1s 77ms/step - loss: 5.5883e-04 - val_loss: 0.0029\n",
            "Epoch 86/100\n",
            "11/11 [==============================] - 1s 75ms/step - loss: 5.6866e-04 - val_loss: 0.0034\n",
            "Epoch 87/100\n",
            "11/11 [==============================] - 1s 78ms/step - loss: 5.3232e-04 - val_loss: 0.0029\n",
            "Epoch 88/100\n",
            "11/11 [==============================] - 1s 76ms/step - loss: 5.5933e-04 - val_loss: 0.0032\n",
            "Epoch 89/100\n",
            "11/11 [==============================] - 1s 77ms/step - loss: 5.4388e-04 - val_loss: 0.0029\n",
            "Epoch 90/100\n",
            "11/11 [==============================] - 1s 75ms/step - loss: 5.2675e-04 - val_loss: 0.0032\n",
            "Epoch 91/100\n",
            "11/11 [==============================] - 1s 78ms/step - loss: 5.4065e-04 - val_loss: 0.0029\n",
            "Epoch 92/100\n",
            "11/11 [==============================] - 1s 77ms/step - loss: 5.3117e-04 - val_loss: 0.0032\n",
            "Epoch 93/100\n",
            "11/11 [==============================] - 1s 76ms/step - loss: 5.1246e-04 - val_loss: 0.0025\n",
            "Epoch 94/100\n",
            "11/11 [==============================] - 1s 77ms/step - loss: 5.5457e-04 - val_loss: 0.0028\n",
            "Epoch 95/100\n",
            "11/11 [==============================] - 1s 77ms/step - loss: 6.1459e-04 - val_loss: 0.0045\n",
            "Epoch 96/100\n",
            "11/11 [==============================] - 1s 79ms/step - loss: 5.9318e-04 - val_loss: 0.0027\n",
            "Epoch 97/100\n",
            "11/11 [==============================] - 1s 75ms/step - loss: 5.4711e-04 - val_loss: 0.0024\n",
            "Epoch 98/100\n",
            "11/11 [==============================] - 1s 77ms/step - loss: 5.5439e-04 - val_loss: 0.0036\n",
            "Epoch 99/100\n",
            "11/11 [==============================] - 1s 76ms/step - loss: 5.9389e-04 - val_loss: 0.0039\n",
            "Epoch 100/100\n",
            "11/11 [==============================] - 1s 77ms/step - loss: 5.6942e-04 - val_loss: 0.0028\n"
          ],
          "name": "stdout"
        }
      ]
    },
    {
      "cell_type": "markdown",
      "metadata": {
        "id": "RVKQI49NsgpW"
      },
      "source": [
        "### Plotting loss"
      ]
    },
    {
      "cell_type": "code",
      "metadata": {
        "id": "5zz6m_LCsgpX"
      },
      "source": [
        "def plot_learningCurve(history,epochs):\n",
        "    \n",
        "    ## Plot training and validation loss value\n",
        "    epoch_range= range(1,epochs+1)\n",
        "    plt.plot(epoch_range,history.history['loss'])\n",
        "    plt.plot(epoch_range,history.history['val_loss'])\n",
        "    plt.title('Model loss')\n",
        "    plt.xlabel(\"Epochs\")\n",
        "    plt.ylabel('loss')\n",
        "    plt.legend(['Train', 'val'],loc='upper_left')\n",
        "    plt.show()\n",
        "    "
      ],
      "execution_count": 41,
      "outputs": []
    },
    {
      "cell_type": "code",
      "metadata": {
        "id": "a_iwUAvksgpb",
        "outputId": "fcbe4e42-7e9f-4490-c271-a0c49d603937",
        "colab": {
          "base_uri": "https://localhost:8080/",
          "height": 550
        }
      },
      "source": [
        "plot_learningCurve(history_LSTM,100)"
      ],
      "execution_count": 42,
      "outputs": [
        {
          "output_type": "stream",
          "text": [
            "/usr/local/lib/python3.6/dist-packages/ipykernel_launcher.py:10: MatplotlibDeprecationWarning: Unrecognized location 'upper_left'. Falling back on 'best'; valid locations are\n",
            "\tbest\n",
            "\tupper right\n",
            "\tupper left\n",
            "\tlower left\n",
            "\tlower right\n",
            "\tright\n",
            "\tcenter left\n",
            "\tcenter right\n",
            "\tlower center\n",
            "\tupper center\n",
            "\tcenter\n",
            "This will raise an exception in 3.3.\n",
            "  # Remove the CWD from sys.path while we load stuff.\n"
          ],
          "name": "stderr"
        },
        {
          "output_type": "display_data",
          "data": {
            "image/png": "[encoded data removed]",
            "text/plain": [
              "<Figure size 432x288 with 1 Axes>"
            ]
          },
          "metadata": {
            "tags": [],
            "needs_background": "light"
          }
        }
      ]
    },
    {
      "cell_type": "markdown",
      "metadata": {
        "id": "KMd4R_Z0sgpf"
      },
      "source": [
        "# Prediction"
      ]
    },
    {
      "cell_type": "code",
      "metadata": {
        "id": "rTdi4Uwzsgpg"
      },
      "source": [
        "train_predict=model.predict(X_train)\n",
        "test_predict=model.predict(X_test)"
      ],
      "execution_count": 43,
      "outputs": []
    },
    {
      "cell_type": "code",
      "metadata": {
        "id": "R3RCt5cUsgpk"
      },
      "source": [
        "##Transformback to original form\n",
        "train_predict=scaler.inverse_transform(train_predict)\n",
        "test_predict=scaler.inverse_transform(test_predict)"
      ],
      "execution_count": 44,
      "outputs": []
    },
    {
      "cell_type": "code",
      "metadata": {
        "id": "JBTn_WGSsgpo",
        "outputId": "bf66ce7a-5688-42c8-874d-4d50d8c0be78",
        "colab": {
          "base_uri": "https://localhost:8080/",
          "height": 265
        }
      },
      "source": [
        "### Plotting \n",
        "# shift train predictions for plotting\n",
        "look_back=100\n",
        "trainPredictPlot = numpy.empty_like(df1)\n",
        "trainPredictPlot[:, :] = np.nan\n",
        "trainPredictPlot[look_back:len(train_predict)+look_back, :] = train_predict\n",
        "# shift test predictions for plotting\n",
        "testPredictPlot = numpy.empty_like(df1)\n",
        "testPredictPlot[:, :] = numpy.nan\n",
        "testPredictPlot[len(train_predict)+(look_back*2)+1:len(df1)-1, :] = test_predict\n",
        "# plot baseline and predictions\n",
        "plt.plot(scaler.inverse_transform(df1))\n",
        "plt.plot(trainPredictPlot)\n",
        "plt.plot(testPredictPlot)\n",
        "plt.show()"
      ],
      "execution_count": 45,
      "outputs": [
        {
          "output_type": "display_data",
          "data": {
            "image/png": "[encoded data removed]",
            "text/plain": [
              "<Figure size 432x288 with 1 Axes>"
            ]
          },
          "metadata": {
            "tags": [],
            "needs_background": "light"
          }
        }
      ]
    },
    {
      "cell_type": "markdown",
      "metadata": {
        "id": "L8iFq8qvsgps"
      },
      "source": [
        "## Model Definition with Conv1D"
      ]
    },
    {
      "cell_type": "code",
      "metadata": {
        "id": "F45kMeHNsgpt"
      },
      "source": [
        "from tensorflow.keras.layers import Conv1D,MaxPooling1D,Flatten"
      ],
      "execution_count": 46,
      "outputs": []
    },
    {
      "cell_type": "code",
      "metadata": {
        "id": "K7I4b26Xsgpx"
      },
      "source": [
        "# define model\n",
        "model_cnn = Sequential()\n",
        "model_cnn.add(Conv1D(filters=64, kernel_size=2, activation='relu', input_shape=(100, 1)))\n",
        "model_cnn.add(MaxPooling1D(pool_size=2))\n",
        "model_cnn.add(Flatten())\n",
        "model_cnn.add(Dense(50, activation='relu'))\n",
        "model_cnn.add(Dense(1))\n",
        "model_cnn.compile(optimizer='adam', loss='mse')"
      ],
      "execution_count": 47,
      "outputs": []
    },
    {
      "cell_type": "code",
      "metadata": {
        "id": "U9Hbnq1Msgp0",
        "outputId": "6db2bbea-b2f6-471f-ce83-7a04580b09eb",
        "colab": {
          "base_uri": "https://localhost:8080/"
        }
      },
      "source": [
        "model_cnn.summary()"
      ],
      "execution_count": 48,
      "outputs": [
        {
          "output_type": "stream",
          "text": [
            "Model: \"sequential_1\"\n",
            "_________________________________________________________________\n",
            "Layer (type)                 Output Shape              Param #   \n",
            "=================================================================\n",
            "conv1d (Conv1D)              (None, 99, 64)            192       \n",
            "_________________________________________________________________\n",
            "max_pooling1d (MaxPooling1D) (None, 49, 64)            0         \n",
            "_________________________________________________________________\n",
            "flatten (Flatten)            (None, 3136)              0         \n",
            "_________________________________________________________________\n",
            "dense_1 (Dense)              (None, 50)                156850    \n",
            "_________________________________________________________________\n",
            "dense_2 (Dense)              (None, 1)                 51        \n",
            "=================================================================\n",
            "Total params: 157,093\n",
            "Trainable params: 157,093\n",
            "Non-trainable params: 0\n",
            "_________________________________________________________________\n"
          ],
          "name": "stdout"
        }
      ]
    },
    {
      "cell_type": "code",
      "metadata": {
        "id": "Lo20yhoRsgp6",
        "outputId": "6924d25c-7961-4de8-aca9-7ccc9c2f4c1b",
        "colab": {
          "base_uri": "https://localhost:8080/"
        }
      },
      "source": [
        "history_CNN=model_cnn.fit(X_train,y_train,validation_data=(X_test,y_test),epochs=100,batch_size=64,verbose=1)"
      ],
      "execution_count": 49,
      "outputs": [
        {
          "output_type": "stream",
          "text": [
            "Epoch 1/100\n",
            "11/11 [==============================] - 0s 23ms/step - loss: 0.0556 - val_loss: 0.0599\n",
            "Epoch 2/100\n",
            "11/11 [==============================] - 0s 5ms/step - loss: 0.0104 - val_loss: 0.0644\n",
            "Epoch 3/100\n",
            "11/11 [==============================] - 0s 6ms/step - loss: 0.0043 - val_loss: 0.0358\n",
            "Epoch 4/100\n",
            "11/11 [==============================] - 0s 5ms/step - loss: 0.0032 - val_loss: 0.0325\n",
            "Epoch 5/100\n",
            "11/11 [==============================] - 0s 5ms/step - loss: 0.0029 - val_loss: 0.0281\n",
            "Epoch 6/100\n",
            "11/11 [==============================] - 0s 5ms/step - loss: 0.0024 - val_loss: 0.0256\n",
            "Epoch 7/100\n",
            "11/11 [==============================] - 0s 5ms/step - loss: 0.0021 - val_loss: 0.0210\n",
            "Epoch 8/100\n",
            "11/11 [==============================] - 0s 6ms/step - loss: 0.0018 - val_loss: 0.0187\n",
            "Epoch 9/100\n",
            "11/11 [==============================] - 0s 6ms/step - loss: 0.0016 - val_loss: 0.0167\n",
            "Epoch 10/100\n",
            "11/11 [==============================] - 0s 6ms/step - loss: 0.0014 - val_loss: 0.0144\n",
            "Epoch 11/100\n",
            "11/11 [==============================] - 0s 5ms/step - loss: 0.0014 - val_loss: 0.0111\n",
            "Epoch 12/100\n",
            "11/11 [==============================] - 0s 6ms/step - loss: 0.0012 - val_loss: 0.0105\n",
            "Epoch 13/100\n",
            "11/11 [==============================] - 0s 5ms/step - loss: 0.0010 - val_loss: 0.0111\n",
            "Epoch 14/100\n",
            "11/11 [==============================] - 0s 6ms/step - loss: 9.7128e-04 - val_loss: 0.0097\n",
            "Epoch 15/100\n",
            "11/11 [==============================] - 0s 6ms/step - loss: 8.6706e-04 - val_loss: 0.0091\n",
            "Epoch 16/100\n",
            "11/11 [==============================] - 0s 5ms/step - loss: 8.1652e-04 - val_loss: 0.0088\n",
            "Epoch 17/100\n",
            "11/11 [==============================] - 0s 6ms/step - loss: 8.2902e-04 - val_loss: 0.0087\n",
            "Epoch 18/100\n",
            "11/11 [==============================] - 0s 6ms/step - loss: 7.5874e-04 - val_loss: 0.0083\n",
            "Epoch 19/100\n",
            "11/11 [==============================] - 0s 6ms/step - loss: 6.9745e-04 - val_loss: 0.0078\n",
            "Epoch 20/100\n",
            "11/11 [==============================] - 0s 6ms/step - loss: 7.6017e-04 - val_loss: 0.0088\n",
            "Epoch 21/100\n",
            "11/11 [==============================] - 0s 5ms/step - loss: 8.1652e-04 - val_loss: 0.0088\n",
            "Epoch 22/100\n",
            "11/11 [==============================] - 0s 6ms/step - loss: 7.0313e-04 - val_loss: 0.0081\n",
            "Epoch 23/100\n",
            "11/11 [==============================] - 0s 6ms/step - loss: 6.7112e-04 - val_loss: 0.0078\n",
            "Epoch 24/100\n",
            "11/11 [==============================] - 0s 5ms/step - loss: 6.3096e-04 - val_loss: 0.0076\n",
            "Epoch 25/100\n",
            "11/11 [==============================] - 0s 6ms/step - loss: 6.7528e-04 - val_loss: 0.0092\n",
            "Epoch 26/100\n",
            "11/11 [==============================] - 0s 6ms/step - loss: 7.3132e-04 - val_loss: 0.0079\n",
            "Epoch 27/100\n",
            "11/11 [==============================] - 0s 6ms/step - loss: 5.9056e-04 - val_loss: 0.0074\n",
            "Epoch 28/100\n",
            "11/11 [==============================] - 0s 5ms/step - loss: 5.5718e-04 - val_loss: 0.0071\n",
            "Epoch 29/100\n",
            "11/11 [==============================] - 0s 6ms/step - loss: 5.3681e-04 - val_loss: 0.0070\n",
            "Epoch 30/100\n",
            "11/11 [==============================] - 0s 5ms/step - loss: 5.2331e-04 - val_loss: 0.0068\n",
            "Epoch 31/100\n",
            "11/11 [==============================] - 0s 6ms/step - loss: 6.2246e-04 - val_loss: 0.0074\n",
            "Epoch 32/100\n",
            "11/11 [==============================] - 0s 6ms/step - loss: 5.7406e-04 - val_loss: 0.0069\n",
            "Epoch 33/100\n",
            "11/11 [==============================] - 0s 6ms/step - loss: 5.6897e-04 - val_loss: 0.0069\n",
            "Epoch 34/100\n",
            "11/11 [==============================] - 0s 6ms/step - loss: 5.0196e-04 - val_loss: 0.0069\n",
            "Epoch 35/100\n",
            "11/11 [==============================] - 0s 6ms/step - loss: 4.8576e-04 - val_loss: 0.0068\n",
            "Epoch 36/100\n",
            "11/11 [==============================] - 0s 6ms/step - loss: 4.6393e-04 - val_loss: 0.0066\n",
            "Epoch 37/100\n",
            "11/11 [==============================] - 0s 5ms/step - loss: 4.6154e-04 - val_loss: 0.0068\n",
            "Epoch 38/100\n",
            "11/11 [==============================] - 0s 6ms/step - loss: 4.7514e-04 - val_loss: 0.0067\n",
            "Epoch 39/100\n",
            "11/11 [==============================] - 0s 5ms/step - loss: 4.3631e-04 - val_loss: 0.0064\n",
            "Epoch 40/100\n",
            "11/11 [==============================] - 0s 7ms/step - loss: 4.5019e-04 - val_loss: 0.0065\n",
            "Epoch 41/100\n",
            "11/11 [==============================] - 0s 6ms/step - loss: 4.4570e-04 - val_loss: 0.0066\n",
            "Epoch 42/100\n",
            "11/11 [==============================] - 0s 5ms/step - loss: 4.3866e-04 - val_loss: 0.0069\n",
            "Epoch 43/100\n",
            "11/11 [==============================] - 0s 6ms/step - loss: 4.9699e-04 - val_loss: 0.0064\n",
            "Epoch 44/100\n",
            "11/11 [==============================] - 0s 6ms/step - loss: 4.7642e-04 - val_loss: 0.0067\n",
            "Epoch 45/100\n",
            "11/11 [==============================] - 0s 6ms/step - loss: 4.3733e-04 - val_loss: 0.0062\n",
            "Epoch 46/100\n",
            "11/11 [==============================] - 0s 5ms/step - loss: 4.3511e-04 - val_loss: 0.0065\n",
            "Epoch 47/100\n",
            "11/11 [==============================] - 0s 6ms/step - loss: 4.2679e-04 - val_loss: 0.0060\n",
            "Epoch 48/100\n",
            "11/11 [==============================] - 0s 5ms/step - loss: 4.1168e-04 - val_loss: 0.0062\n",
            "Epoch 49/100\n",
            "11/11 [==============================] - 0s 5ms/step - loss: 4.1023e-04 - val_loss: 0.0060\n",
            "Epoch 50/100\n",
            "11/11 [==============================] - 0s 5ms/step - loss: 4.2172e-04 - val_loss: 0.0062\n",
            "Epoch 51/100\n",
            "11/11 [==============================] - 0s 5ms/step - loss: 4.4228e-04 - val_loss: 0.0061\n",
            "Epoch 52/100\n",
            "11/11 [==============================] - 0s 6ms/step - loss: 4.3817e-04 - val_loss: 0.0063\n",
            "Epoch 53/100\n",
            "11/11 [==============================] - 0s 5ms/step - loss: 4.0683e-04 - val_loss: 0.0060\n",
            "Epoch 54/100\n",
            "11/11 [==============================] - 0s 5ms/step - loss: 4.0663e-04 - val_loss: 0.0059\n",
            "Epoch 55/100\n",
            "11/11 [==============================] - 0s 6ms/step - loss: 4.0330e-04 - val_loss: 0.0062\n",
            "Epoch 56/100\n",
            "11/11 [==============================] - 0s 5ms/step - loss: 4.5522e-04 - val_loss: 0.0066\n",
            "Epoch 57/100\n",
            "11/11 [==============================] - 0s 5ms/step - loss: 4.3487e-04 - val_loss: 0.0060\n",
            "Epoch 58/100\n",
            "11/11 [==============================] - 0s 5ms/step - loss: 3.9332e-04 - val_loss: 0.0063\n",
            "Epoch 59/100\n",
            "11/11 [==============================] - 0s 6ms/step - loss: 4.3869e-04 - val_loss: 0.0064\n",
            "Epoch 60/100\n",
            "11/11 [==============================] - 0s 5ms/step - loss: 5.0416e-04 - val_loss: 0.0060\n",
            "Epoch 61/100\n",
            "11/11 [==============================] - 0s 6ms/step - loss: 4.2994e-04 - val_loss: 0.0058\n",
            "Epoch 62/100\n",
            "11/11 [==============================] - 0s 6ms/step - loss: 4.6382e-04 - val_loss: 0.0061\n",
            "Epoch 63/100\n",
            "11/11 [==============================] - 0s 5ms/step - loss: 4.1164e-04 - val_loss: 0.0061\n",
            "Epoch 64/100\n",
            "11/11 [==============================] - 0s 5ms/step - loss: 3.7997e-04 - val_loss: 0.0058\n",
            "Epoch 65/100\n",
            "11/11 [==============================] - 0s 6ms/step - loss: 3.5932e-04 - val_loss: 0.0056\n",
            "Epoch 66/100\n",
            "11/11 [==============================] - 0s 5ms/step - loss: 3.6133e-04 - val_loss: 0.0058\n",
            "Epoch 67/100\n",
            "11/11 [==============================] - 0s 6ms/step - loss: 3.5894e-04 - val_loss: 0.0056\n",
            "Epoch 68/100\n",
            "11/11 [==============================] - 0s 6ms/step - loss: 3.8947e-04 - val_loss: 0.0058\n",
            "Epoch 69/100\n",
            "11/11 [==============================] - 0s 6ms/step - loss: 4.3429e-04 - val_loss: 0.0060\n",
            "Epoch 70/100\n",
            "11/11 [==============================] - 0s 6ms/step - loss: 5.6964e-04 - val_loss: 0.0067\n",
            "Epoch 71/100\n",
            "11/11 [==============================] - 0s 5ms/step - loss: 4.4343e-04 - val_loss: 0.0061\n",
            "Epoch 72/100\n",
            "11/11 [==============================] - 0s 5ms/step - loss: 4.1546e-04 - val_loss: 0.0056\n",
            "Epoch 73/100\n",
            "11/11 [==============================] - 0s 6ms/step - loss: 3.4184e-04 - val_loss: 0.0053\n",
            "Epoch 74/100\n",
            "11/11 [==============================] - 0s 6ms/step - loss: 3.7091e-04 - val_loss: 0.0052\n",
            "Epoch 75/100\n",
            "11/11 [==============================] - 0s 6ms/step - loss: 3.7254e-04 - val_loss: 0.0054\n",
            "Epoch 76/100\n",
            "11/11 [==============================] - 0s 6ms/step - loss: 3.7280e-04 - val_loss: 0.0056\n",
            "Epoch 77/100\n",
            "11/11 [==============================] - 0s 6ms/step - loss: 3.5523e-04 - val_loss: 0.0054\n",
            "Epoch 78/100\n",
            "11/11 [==============================] - 0s 6ms/step - loss: 3.5713e-04 - val_loss: 0.0052\n",
            "Epoch 79/100\n",
            "11/11 [==============================] - 0s 6ms/step - loss: 3.4841e-04 - val_loss: 0.0053\n",
            "Epoch 80/100\n",
            "11/11 [==============================] - 0s 6ms/step - loss: 3.4924e-04 - val_loss: 0.0054\n",
            "Epoch 81/100\n",
            "11/11 [==============================] - 0s 6ms/step - loss: 3.2048e-04 - val_loss: 0.0050\n",
            "Epoch 82/100\n",
            "11/11 [==============================] - 0s 5ms/step - loss: 3.6568e-04 - val_loss: 0.0053\n",
            "Epoch 83/100\n",
            "11/11 [==============================] - 0s 5ms/step - loss: 3.4113e-04 - val_loss: 0.0055\n",
            "Epoch 84/100\n",
            "11/11 [==============================] - 0s 6ms/step - loss: 3.2538e-04 - val_loss: 0.0054\n",
            "Epoch 85/100\n",
            "11/11 [==============================] - 0s 6ms/step - loss: 3.5310e-04 - val_loss: 0.0054\n",
            "Epoch 86/100\n",
            "11/11 [==============================] - 0s 5ms/step - loss: 3.3524e-04 - val_loss: 0.0051\n",
            "Epoch 87/100\n",
            "11/11 [==============================] - 0s 6ms/step - loss: 3.3286e-04 - val_loss: 0.0052\n",
            "Epoch 88/100\n",
            "11/11 [==============================] - 0s 6ms/step - loss: 3.5106e-04 - val_loss: 0.0054\n",
            "Epoch 89/100\n",
            "11/11 [==============================] - 0s 6ms/step - loss: 3.5772e-04 - val_loss: 0.0055\n",
            "Epoch 90/100\n",
            "11/11 [==============================] - 0s 7ms/step - loss: 3.4012e-04 - val_loss: 0.0053\n",
            "Epoch 91/100\n",
            "11/11 [==============================] - 0s 6ms/step - loss: 3.9614e-04 - val_loss: 0.0054\n",
            "Epoch 92/100\n",
            "11/11 [==============================] - 0s 6ms/step - loss: 4.9771e-04 - val_loss: 0.0061\n",
            "Epoch 93/100\n",
            "11/11 [==============================] - 0s 5ms/step - loss: 4.2309e-04 - val_loss: 0.0055\n",
            "Epoch 94/100\n",
            "11/11 [==============================] - 0s 6ms/step - loss: 3.2015e-04 - val_loss: 0.0051\n",
            "Epoch 95/100\n",
            "11/11 [==============================] - 0s 6ms/step - loss: 3.4425e-04 - val_loss: 0.0052\n",
            "Epoch 96/100\n",
            "11/11 [==============================] - 0s 5ms/step - loss: 3.2315e-04 - val_loss: 0.0047\n",
            "Epoch 97/100\n",
            "11/11 [==============================] - 0s 6ms/step - loss: 3.4441e-04 - val_loss: 0.0051\n",
            "Epoch 98/100\n",
            "11/11 [==============================] - 0s 6ms/step - loss: 3.6467e-04 - val_loss: 0.0049\n",
            "Epoch 99/100\n",
            "11/11 [==============================] - 0s 6ms/step - loss: 3.1990e-04 - val_loss: 0.0052\n",
            "Epoch 100/100\n",
            "11/11 [==============================] - 0s 6ms/step - loss: 3.4393e-04 - val_loss: 0.0053\n"
          ],
          "name": "stdout"
        }
      ]
    },
    {
      "cell_type": "code",
      "metadata": {
        "id": "V6CKSfOBsgqC",
        "outputId": "963e4112-7971-4ce6-fe23-b2388f403997",
        "colab": {
          "base_uri": "https://localhost:8080/",
          "height": 550
        }
      },
      "source": [
        "plot_learningCurve(history_CNN,100)"
      ],
      "execution_count": 50,
      "outputs": [
        {
          "output_type": "stream",
          "text": [
            "/usr/local/lib/python3.6/dist-packages/ipykernel_launcher.py:10: MatplotlibDeprecationWarning: Unrecognized location 'upper_left'. Falling back on 'best'; valid locations are\n",
            "\tbest\n",
            "\tupper right\n",
            "\tupper left\n",
            "\tlower left\n",
            "\tlower right\n",
            "\tright\n",
            "\tcenter left\n",
            "\tcenter right\n",
            "\tlower center\n",
            "\tupper center\n",
            "\tcenter\n",
            "This will raise an exception in 3.3.\n",
            "  # Remove the CWD from sys.path while we load stuff.\n"
          ],
          "name": "stderr"
        },
        {
          "output_type": "display_data",
          "data": {
            "image/png": "[encoded data removed]",
            "text/plain": [
              "<Figure size 432x288 with 1 Axes>"
            ]
          },
          "metadata": {
            "tags": [],
            "needs_background": "light"
          }
        }
      ]
    },
    {
      "cell_type": "markdown",
      "metadata": {
        "id": "KHuNS_8QsgqG"
      },
      "source": [
        "# Prediction"
      ]
    },
    {
      "cell_type": "code",
      "metadata": {
        "id": "Bj04WXDmsgqG"
      },
      "source": [
        "train_predict_cnn=model_cnn.predict(X_train)\n",
        "test_predict_cnn=model_cnn.predict(X_test)"
      ],
      "execution_count": 51,
      "outputs": []
    },
    {
      "cell_type": "code",
      "metadata": {
        "id": "X2vIaU2OsgqM"
      },
      "source": [
        "##Transformback to original form\n",
        "train_predict_cnn=scaler.inverse_transform(train_predict_cnn)\n",
        "test_predict_cnn=scaler.inverse_transform(test_predict_cnn)"
      ],
      "execution_count": 52,
      "outputs": []
    },
    {
      "cell_type": "code",
      "metadata": {
        "id": "PEm5x5uBsgqQ",
        "outputId": "88469846-e756-4551-993f-9772cf4bdb8e",
        "colab": {
          "base_uri": "https://localhost:8080/",
          "height": 265
        }
      },
      "source": [
        "### Plotting \n",
        "# shift train predictions for plotting\n",
        "look_back=100\n",
        "trainPredictPlot = numpy.empty_like(df1)\n",
        "trainPredictPlot[:, :] = np.nan\n",
        "trainPredictPlot[look_back:len(train_predict_cnn)+look_back, :] = train_predict_cnn\n",
        "# shift test predictions for plotting\n",
        "testPredictPlot = numpy.empty_like(df1)\n",
        "testPredictPlot[:, :] = numpy.nan\n",
        "testPredictPlot[len(train_predict_cnn)+(look_back*2)+1:len(df1)-1, :] = test_predict_cnn\n",
        "# plot baseline and predictions\n",
        "plt.plot(scaler.inverse_transform(df1))\n",
        "plt.plot(trainPredictPlot)\n",
        "plt.plot(testPredictPlot)\n",
        "plt.show()"
      ],
      "execution_count": 53,
      "outputs": [
        {
          "output_type": "display_data",
          "data": {
            "image/png": "[encoded data removed]",
            "text/plain": [
              "<Figure size 432x288 with 1 Axes>"
            ]
          },
          "metadata": {
            "tags": [],
            "needs_background": "light"
          }
        }
      ]
    },
    {
      "cell_type": "markdown",
      "metadata": {
        "id": "u8c3M14DsgqV"
      },
      "source": [
        "# Model Definition with Conv1D and LSTM"
      ]
    },
    {
      "cell_type": "code",
      "metadata": {
        "id": "N-kcCtG8sgqV"
      },
      "source": [
        "# define model\n",
        "model_mix = Sequential()\n",
        "model_mix.add(Conv1D(filters=64, kernel_size=2, activation='relu', input_shape=(100, 1)))\n",
        "model_mix.add(MaxPooling1D(pool_size=2))\n",
        "model_mix.add(LSTM(32,return_sequences=True))\n",
        "model_mix.add(LSTM(32))\n",
        "model_mix.add(Dense(6, activation='relu'))\n",
        "model_mix.add(Dense(1))\n",
        "model_mix.compile(optimizer='adam', loss='mse')"
      ],
      "execution_count": 54,
      "outputs": []
    },
    {
      "cell_type": "code",
      "metadata": {
        "id": "dt6uUfWvsgqe",
        "outputId": "f9bc4d0e-bd10-4299-8377-06b0ce522d9c",
        "colab": {
          "base_uri": "https://localhost:8080/"
        }
      },
      "source": [
        "model_mix.summary()"
      ],
      "execution_count": 55,
      "outputs": [
        {
          "output_type": "stream",
          "text": [
            "Model: \"sequential_2\"\n",
            "_________________________________________________________________\n",
            "Layer (type)                 Output Shape              Param #   \n",
            "=================================================================\n",
            "conv1d_1 (Conv1D)            (None, 99, 64)            192       \n",
            "_________________________________________________________________\n",
            "max_pooling1d_1 (MaxPooling1 (None, 49, 64)            0         \n",
            "_________________________________________________________________\n",
            "lstm_3 (LSTM)                (None, 49, 32)            12416     \n",
            "_________________________________________________________________\n",
            "lstm_4 (LSTM)                (None, 32)                8320      \n",
            "_________________________________________________________________\n",
            "dense_3 (Dense)              (None, 6)                 198       \n",
            "_________________________________________________________________\n",
            "dense_4 (Dense)              (None, 1)                 7         \n",
            "=================================================================\n",
            "Total params: 21,133\n",
            "Trainable params: 21,133\n",
            "Non-trainable params: 0\n",
            "_________________________________________________________________\n"
          ],
          "name": "stdout"
        }
      ]
    },
    {
      "cell_type": "code",
      "metadata": {
        "id": "aw0Ltjcesgqi",
        "outputId": "d3cd02f5-267d-41bb-8955-4f88671da479",
        "colab": {
          "base_uri": "https://localhost:8080/"
        }
      },
      "source": [
        "history_mix=model_mix.fit(X_train,y_train,validation_data=(X_test,y_test),epochs=100,batch_size=64,verbose=1)"
      ],
      "execution_count": 56,
      "outputs": [
        {
          "output_type": "stream",
          "text": [
            "Epoch 1/100\n",
            "11/11 [==============================] - 1s 97ms/step - loss: 0.1510 - val_loss: 0.0599\n",
            "Epoch 2/100\n",
            "11/11 [==============================] - 0s 26ms/step - loss: 0.0189 - val_loss: 0.0604\n",
            "Epoch 3/100\n",
            "11/11 [==============================] - 0s 25ms/step - loss: 0.0095 - val_loss: 0.0324\n",
            "Epoch 4/100\n",
            "11/11 [==============================] - 0s 25ms/step - loss: 0.0055 - val_loss: 0.0297\n",
            "Epoch 5/100\n",
            "11/11 [==============================] - 0s 25ms/step - loss: 0.0032 - val_loss: 0.0205\n",
            "Epoch 6/100\n",
            "11/11 [==============================] - 0s 25ms/step - loss: 0.0023 - val_loss: 0.0208\n",
            "Epoch 7/100\n",
            "11/11 [==============================] - 0s 25ms/step - loss: 0.0021 - val_loss: 0.0190\n",
            "Epoch 8/100\n",
            "11/11 [==============================] - 0s 25ms/step - loss: 0.0021 - val_loss: 0.0187\n",
            "Epoch 9/100\n",
            "11/11 [==============================] - 0s 26ms/step - loss: 0.0020 - val_loss: 0.0189\n",
            "Epoch 10/100\n",
            "11/11 [==============================] - 0s 25ms/step - loss: 0.0020 - val_loss: 0.0190\n",
            "Epoch 11/100\n",
            "11/11 [==============================] - 0s 25ms/step - loss: 0.0021 - val_loss: 0.0184\n",
            "Epoch 12/100\n",
            "11/11 [==============================] - 0s 24ms/step - loss: 0.0021 - val_loss: 0.0184\n",
            "Epoch 13/100\n",
            "11/11 [==============================] - 0s 25ms/step - loss: 0.0020 - val_loss: 0.0177\n",
            "Epoch 14/100\n",
            "11/11 [==============================] - 0s 25ms/step - loss: 0.0020 - val_loss: 0.0180\n",
            "Epoch 15/100\n",
            "11/11 [==============================] - 0s 25ms/step - loss: 0.0020 - val_loss: 0.0181\n",
            "Epoch 16/100\n",
            "11/11 [==============================] - 0s 25ms/step - loss: 0.0020 - val_loss: 0.0183\n",
            "Epoch 17/100\n",
            "11/11 [==============================] - 0s 24ms/step - loss: 0.0019 - val_loss: 0.0174\n",
            "Epoch 18/100\n",
            "11/11 [==============================] - 0s 25ms/step - loss: 0.0019 - val_loss: 0.0172\n",
            "Epoch 19/100\n",
            "11/11 [==============================] - 0s 26ms/step - loss: 0.0019 - val_loss: 0.0170\n",
            "Epoch 20/100\n",
            "11/11 [==============================] - 0s 26ms/step - loss: 0.0019 - val_loss: 0.0172\n",
            "Epoch 21/100\n",
            "11/11 [==============================] - 0s 25ms/step - loss: 0.0018 - val_loss: 0.0168\n",
            "Epoch 22/100\n",
            "11/11 [==============================] - 0s 26ms/step - loss: 0.0018 - val_loss: 0.0167\n",
            "Epoch 23/100\n",
            "11/11 [==============================] - 0s 25ms/step - loss: 0.0018 - val_loss: 0.0178\n",
            "Epoch 24/100\n",
            "11/11 [==============================] - 0s 24ms/step - loss: 0.0018 - val_loss: 0.0171\n",
            "Epoch 25/100\n",
            "11/11 [==============================] - 0s 25ms/step - loss: 0.0018 - val_loss: 0.0157\n",
            "Epoch 26/100\n",
            "11/11 [==============================] - 0s 26ms/step - loss: 0.0017 - val_loss: 0.0160\n",
            "Epoch 27/100\n",
            "11/11 [==============================] - 0s 25ms/step - loss: 0.0017 - val_loss: 0.0153\n",
            "Epoch 28/100\n",
            "11/11 [==============================] - 0s 25ms/step - loss: 0.0017 - val_loss: 0.0148\n",
            "Epoch 29/100\n",
            "11/11 [==============================] - 0s 24ms/step - loss: 0.0016 - val_loss: 0.0141\n",
            "Epoch 30/100\n",
            "11/11 [==============================] - 0s 25ms/step - loss: 0.0016 - val_loss: 0.0136\n",
            "Epoch 31/100\n",
            "11/11 [==============================] - 0s 25ms/step - loss: 0.0016 - val_loss: 0.0129\n",
            "Epoch 32/100\n",
            "11/11 [==============================] - 0s 24ms/step - loss: 0.0015 - val_loss: 0.0125\n",
            "Epoch 33/100\n",
            "11/11 [==============================] - 0s 25ms/step - loss: 0.0015 - val_loss: 0.0131\n",
            "Epoch 34/100\n",
            "11/11 [==============================] - 0s 25ms/step - loss: 0.0014 - val_loss: 0.0124\n",
            "Epoch 35/100\n",
            "11/11 [==============================] - 0s 25ms/step - loss: 0.0014 - val_loss: 0.0138\n",
            "Epoch 36/100\n",
            "11/11 [==============================] - 0s 25ms/step - loss: 0.0014 - val_loss: 0.0117\n",
            "Epoch 37/100\n",
            "11/11 [==============================] - 0s 25ms/step - loss: 0.0014 - val_loss: 0.0104\n",
            "Epoch 38/100\n",
            "11/11 [==============================] - 0s 25ms/step - loss: 0.0013 - val_loss: 0.0121\n",
            "Epoch 39/100\n",
            "11/11 [==============================] - 0s 26ms/step - loss: 0.0013 - val_loss: 0.0110\n",
            "Epoch 40/100\n",
            "11/11 [==============================] - 0s 25ms/step - loss: 0.0013 - val_loss: 0.0120\n",
            "Epoch 41/100\n",
            "11/11 [==============================] - 0s 25ms/step - loss: 0.0013 - val_loss: 0.0116\n",
            "Epoch 42/100\n",
            "11/11 [==============================] - 0s 25ms/step - loss: 0.0013 - val_loss: 0.0100\n",
            "Epoch 43/100\n",
            "11/11 [==============================] - 0s 26ms/step - loss: 0.0012 - val_loss: 0.0124\n",
            "Epoch 44/100\n",
            "11/11 [==============================] - 0s 25ms/step - loss: 0.0012 - val_loss: 0.0086\n",
            "Epoch 45/100\n",
            "11/11 [==============================] - 0s 25ms/step - loss: 0.0014 - val_loss: 0.0100\n",
            "Epoch 46/100\n",
            "11/11 [==============================] - 0s 25ms/step - loss: 0.0012 - val_loss: 0.0148\n",
            "Epoch 47/100\n",
            "11/11 [==============================] - 0s 25ms/step - loss: 0.0012 - val_loss: 0.0104\n",
            "Epoch 48/100\n",
            "11/11 [==============================] - 0s 24ms/step - loss: 0.0011 - val_loss: 0.0092\n",
            "Epoch 49/100\n",
            "11/11 [==============================] - 0s 25ms/step - loss: 0.0010 - val_loss: 0.0115\n",
            "Epoch 50/100\n",
            "11/11 [==============================] - 0s 25ms/step - loss: 0.0010 - val_loss: 0.0097\n",
            "Epoch 51/100\n",
            "11/11 [==============================] - 0s 25ms/step - loss: 9.9813e-04 - val_loss: 0.0093\n",
            "Epoch 52/100\n",
            "11/11 [==============================] - 0s 25ms/step - loss: 9.8618e-04 - val_loss: 0.0111\n",
            "Epoch 53/100\n",
            "11/11 [==============================] - 0s 24ms/step - loss: 9.9497e-04 - val_loss: 0.0077\n",
            "Epoch 54/100\n",
            "11/11 [==============================] - 0s 25ms/step - loss: 0.0010 - val_loss: 0.0128\n",
            "Epoch 55/100\n",
            "11/11 [==============================] - 0s 25ms/step - loss: 0.0011 - val_loss: 0.0101\n",
            "Epoch 56/100\n",
            "11/11 [==============================] - 0s 25ms/step - loss: 0.0010 - val_loss: 0.0070\n",
            "Epoch 57/100\n",
            "11/11 [==============================] - 0s 25ms/step - loss: 9.8031e-04 - val_loss: 0.0103\n",
            "Epoch 58/100\n",
            "11/11 [==============================] - 0s 25ms/step - loss: 8.8462e-04 - val_loss: 0.0096\n",
            "Epoch 59/100\n",
            "11/11 [==============================] - 0s 27ms/step - loss: 8.9128e-04 - val_loss: 0.0087\n",
            "Epoch 60/100\n",
            "11/11 [==============================] - 0s 26ms/step - loss: 9.0742e-04 - val_loss: 0.0070\n",
            "Epoch 61/100\n",
            "11/11 [==============================] - 0s 25ms/step - loss: 0.0010 - val_loss: 0.0126\n",
            "Epoch 62/100\n",
            "11/11 [==============================] - 0s 25ms/step - loss: 8.9671e-04 - val_loss: 0.0081\n",
            "Epoch 63/100\n",
            "11/11 [==============================] - 0s 25ms/step - loss: 8.3177e-04 - val_loss: 0.0086\n",
            "Epoch 64/100\n",
            "11/11 [==============================] - 0s 25ms/step - loss: 8.2337e-04 - val_loss: 0.0083\n",
            "Epoch 65/100\n",
            "11/11 [==============================] - 0s 25ms/step - loss: 8.5346e-04 - val_loss: 0.0088\n",
            "Epoch 66/100\n",
            "11/11 [==============================] - 0s 25ms/step - loss: 9.0889e-04 - val_loss: 0.0082\n",
            "Epoch 67/100\n",
            "11/11 [==============================] - 0s 25ms/step - loss: 8.2224e-04 - val_loss: 0.0093\n",
            "Epoch 68/100\n",
            "11/11 [==============================] - 0s 26ms/step - loss: 9.0198e-04 - val_loss: 0.0082\n",
            "Epoch 69/100\n",
            "11/11 [==============================] - 0s 25ms/step - loss: 7.8585e-04 - val_loss: 0.0083\n",
            "Epoch 70/100\n",
            "11/11 [==============================] - 0s 24ms/step - loss: 8.0267e-04 - val_loss: 0.0090\n",
            "Epoch 71/100\n",
            "11/11 [==============================] - 0s 25ms/step - loss: 7.7787e-04 - val_loss: 0.0074\n",
            "Epoch 72/100\n",
            "11/11 [==============================] - 0s 25ms/step - loss: 8.0085e-04 - val_loss: 0.0079\n",
            "Epoch 73/100\n",
            "11/11 [==============================] - 0s 26ms/step - loss: 8.7835e-04 - val_loss: 0.0078\n",
            "Epoch 74/100\n",
            "11/11 [==============================] - 0s 25ms/step - loss: 7.8289e-04 - val_loss: 0.0083\n",
            "Epoch 75/100\n",
            "11/11 [==============================] - 0s 25ms/step - loss: 7.6349e-04 - val_loss: 0.0074\n",
            "Epoch 76/100\n",
            "11/11 [==============================] - 0s 26ms/step - loss: 7.9032e-04 - val_loss: 0.0065\n",
            "Epoch 77/100\n",
            "11/11 [==============================] - 0s 26ms/step - loss: 7.5702e-04 - val_loss: 0.0089\n",
            "Epoch 78/100\n",
            "11/11 [==============================] - 0s 25ms/step - loss: 7.7064e-04 - val_loss: 0.0069\n",
            "Epoch 79/100\n",
            "11/11 [==============================] - 0s 25ms/step - loss: 7.6513e-04 - val_loss: 0.0065\n",
            "Epoch 80/100\n",
            "11/11 [==============================] - 0s 26ms/step - loss: 7.5078e-04 - val_loss: 0.0095\n",
            "Epoch 81/100\n",
            "11/11 [==============================] - 0s 26ms/step - loss: 7.6716e-04 - val_loss: 0.0064\n",
            "Epoch 82/100\n",
            "11/11 [==============================] - 0s 25ms/step - loss: 7.7808e-04 - val_loss: 0.0076\n",
            "Epoch 83/100\n",
            "11/11 [==============================] - 0s 25ms/step - loss: 7.4174e-04 - val_loss: 0.0074\n",
            "Epoch 84/100\n",
            "11/11 [==============================] - 0s 25ms/step - loss: 7.8761e-04 - val_loss: 0.0090\n",
            "Epoch 85/100\n",
            "11/11 [==============================] - 0s 26ms/step - loss: 8.1289e-04 - val_loss: 0.0064\n",
            "Epoch 86/100\n",
            "11/11 [==============================] - 0s 26ms/step - loss: 7.9514e-04 - val_loss: 0.0085\n",
            "Epoch 87/100\n",
            "11/11 [==============================] - 0s 25ms/step - loss: 7.6766e-04 - val_loss: 0.0084\n",
            "Epoch 88/100\n",
            "11/11 [==============================] - 0s 25ms/step - loss: 7.3994e-04 - val_loss: 0.0069\n",
            "Epoch 89/100\n",
            "11/11 [==============================] - 0s 25ms/step - loss: 7.3683e-04 - val_loss: 0.0090\n",
            "Epoch 90/100\n",
            "11/11 [==============================] - 0s 25ms/step - loss: 7.2703e-04 - val_loss: 0.0066\n",
            "Epoch 91/100\n",
            "11/11 [==============================] - 0s 25ms/step - loss: 7.1054e-04 - val_loss: 0.0063\n",
            "Epoch 92/100\n",
            "11/11 [==============================] - 0s 25ms/step - loss: 7.1797e-04 - val_loss: 0.0083\n",
            "Epoch 93/100\n",
            "11/11 [==============================] - 0s 25ms/step - loss: 7.1507e-04 - val_loss: 0.0062\n",
            "Epoch 94/100\n",
            "11/11 [==============================] - 0s 26ms/step - loss: 7.3355e-04 - val_loss: 0.0065\n",
            "Epoch 95/100\n",
            "11/11 [==============================] - 0s 26ms/step - loss: 7.0177e-04 - val_loss: 0.0087\n",
            "Epoch 96/100\n",
            "11/11 [==============================] - 0s 26ms/step - loss: 6.8512e-04 - val_loss: 0.0064\n",
            "Epoch 97/100\n",
            "11/11 [==============================] - 0s 25ms/step - loss: 6.9786e-04 - val_loss: 0.0070\n",
            "Epoch 98/100\n",
            "11/11 [==============================] - 0s 25ms/step - loss: 7.3071e-04 - val_loss: 0.0072\n",
            "Epoch 99/100\n",
            "11/11 [==============================] - 0s 25ms/step - loss: 8.2757e-04 - val_loss: 0.0063\n",
            "Epoch 100/100\n",
            "11/11 [==============================] - 0s 25ms/step - loss: 7.3511e-04 - val_loss: 0.0070\n"
          ],
          "name": "stdout"
        }
      ]
    },
    {
      "cell_type": "code",
      "metadata": {
        "id": "ga23BBaRsgqm",
        "outputId": "96f504f8-9198-4a09-c978-ad91825786e9",
        "colab": {
          "base_uri": "https://localhost:8080/",
          "height": 550
        }
      },
      "source": [
        "plot_learningCurve(history_mix,100)"
      ],
      "execution_count": 57,
      "outputs": [
        {
          "output_type": "stream",
          "text": [
            "/usr/local/lib/python3.6/dist-packages/ipykernel_launcher.py:10: MatplotlibDeprecationWarning: Unrecognized location 'upper_left'. Falling back on 'best'; valid locations are\n",
            "\tbest\n",
            "\tupper right\n",
            "\tupper left\n",
            "\tlower left\n",
            "\tlower right\n",
            "\tright\n",
            "\tcenter left\n",
            "\tcenter right\n",
            "\tlower center\n",
            "\tupper center\n",
            "\tcenter\n",
            "This will raise an exception in 3.3.\n",
            "  # Remove the CWD from sys.path while we load stuff.\n"
          ],
          "name": "stderr"
        },
        {
          "output_type": "display_data",
          "data": {
            "image/png": "[encoded data removed]",
            "text/plain": [
              "<Figure size 432x288 with 1 Axes>"
            ]
          },
          "metadata": {
            "tags": [],
            "needs_background": "light"
          }
        }
      ]
    },
    {
      "cell_type": "markdown",
      "metadata": {
        "id": "zeUawe4vsgqr"
      },
      "source": [
        "# Prediction"
      ]
    },
    {
      "cell_type": "code",
      "metadata": {
        "id": "aH44jB3Ssgqu"
      },
      "source": [
        "train_predict_mix=model_mix.predict(X_train)\n",
        "test_predict_mix=model_mix.predict(X_test)"
      ],
      "execution_count": 58,
      "outputs": []
    },
    {
      "cell_type": "code",
      "metadata": {
        "id": "n1lWVlw3sgqy"
      },
      "source": [
        "##Transformback to original form\n",
        "train_predict_mix=scaler.inverse_transform(train_predict_mix)\n",
        "test_predict_mix=scaler.inverse_transform(test_predict_mix)"
      ],
      "execution_count": 59,
      "outputs": []
    },
    {
      "cell_type": "code",
      "metadata": {
        "id": "XdJ2Rz72sgq-",
        "outputId": "a0107ebb-fb11-4525-ef4b-deb46f4e6856",
        "colab": {
          "base_uri": "https://localhost:8080/",
          "height": 265
        }
      },
      "source": [
        "### Plotting \n",
        "# shift train predictions for plotting\n",
        "look_back=100\n",
        "trainPredictPlot = numpy.empty_like(df1)\n",
        "trainPredictPlot[:, :] = np.nan\n",
        "trainPredictPlot[look_back:len(train_predict_mix)+look_back, :] = train_predict_mix\n",
        "# shift test predictions for plotting\n",
        "testPredictPlot = numpy.empty_like(df1)\n",
        "testPredictPlot[:, :] = numpy.nan\n",
        "testPredictPlot[len(train_predict_mix)+(look_back*2)+1:len(df1)-1, :] = test_predict_mix\n",
        "# plot baseline and predictions\n",
        "plt.plot(scaler.inverse_transform(df1))\n",
        "plt.plot(trainPredictPlot)\n",
        "plt.plot(testPredictPlot)\n",
        "plt.show()"
      ],
      "execution_count": 60,
      "outputs": [
        {
          "output_type": "display_data",
          "data": {
            "image/png": "[encoded data removed]",
            "text/plain": [
              "<Figure size 432x288 with 1 Axes>"
            ]
          },
          "metadata": {
            "tags": [],
            "needs_background": "light"
          }
        }
      ]
    },
    {
      "cell_type": "markdown",
      "metadata": {
        "id": "GJlb8epQsgrC"
      },
      "source": [
        "# Textual Analysis"
      ]
    },
    {
      "cell_type": "code",
      "metadata": {
        "id": "BpzGserVsgrD",
        "outputId": "cfa3dd30-f7d2-40db-910c-d58672b9c10d",
        "colab": {
          "base_uri": "https://localhost:8080/"
        }
      },
      "source": [
        "import os\n",
        "import warnings\n",
        "warnings.filterwarnings('ignore')\n",
        "import pandas as pd\n",
        "import numpy as np\n",
        "import matplotlib.pyplot as plt\n",
        "import itertools\n",
        "from statsmodels.tsa.stattools import adfuller, acf, pacf\n",
        "from statsmodels.tsa.arima_model import ARIMA\n",
        "import nltk\n",
        "import re\n",
        "from nltk.corpus import stopwords\n",
        "nltk.download('stopwords')\n",
        "nltk.download('vader_lexicon')\n",
        "from textblob import TextBlob\n",
        "from nltk.sentiment.vader import SentimentIntensityAnalyzer\n",
        "from nltk.stem.porter import PorterStemmer\n",
        "from sklearn.metrics import mean_squared_error\n",
        "from sklearn.model_selection import train_test_split\n",
        "from sklearn.ensemble import RandomForestRegressor\n",
        "import xgboost"
      ],
      "execution_count": 71,
      "outputs": [
        {
          "output_type": "stream",
          "text": [
            "[nltk_data] Downloading package stopwords to /root/nltk_data...\n",
            "[nltk_data]   Package stopwords is already up-to-date!\n",
            "[nltk_data] Downloading package vader_lexicon to /root/nltk_data...\n",
            "[nltk_data]   Package vader_lexicon is already up-to-date!\n"
          ],
          "name": "stdout"
        }
      ]
    },
    {
      "cell_type": "code",
      "metadata": {
        "id": "cMo0dGPmsgrI",
        "outputId": "85c08f96-71f3-4233-d92c-fad68d917a6f",
        "colab": {
          "base_uri": "https://localhost:8080/",
          "height": 402
        }
      },
      "source": [
        "cols = ['Date','Category','News']\n",
        "df_news = pd.read_csv('india-news-headlines.csv', names = cols)\n",
        "df_news"
      ],
      "execution_count": 95,
      "outputs": [
        {
          "output_type": "execute_result",
          "data": {
            "text/html": [
              "<div>\n",
              "<style scoped>\n",
              "    .dataframe tbody tr th:only-of-type {\n",
              "        vertical-align: middle;\n",
              "    }\n",
              "\n",
              "    .dataframe tbody tr th {\n",
              "        vertical-align: top;\n",
              "    }\n",
              "\n",
              "    .dataframe thead th {\n",
              "        text-align: right;\n",
              "    }\n",
              "</style>\n",
              "<table border=\"1\" class=\"dataframe\">\n",
              "  <thead>\n",
              "    <tr style=\"text-align: right;\">\n",
              "      <th></th>\n",
              "      <th>Date</th>\n",
              "      <th>Category</th>\n",
              "      <th>News</th>\n",
              "    </tr>\n",
              "  </thead>\n",
              "  <tbody>\n",
              "    <tr>\n",
              "      <th>0</th>\n",
              "      <td>publish_date</td>\n",
              "      <td>headline_category</td>\n",
              "      <td>headline_text</td>\n",
              "    </tr>\n",
              "    <tr>\n",
              "      <th>1</th>\n",
              "      <td>20010101</td>\n",
              "      <td>sports.wwe</td>\n",
              "      <td>win over cena satisfying but defeating underta...</td>\n",
              "    </tr>\n",
              "    <tr>\n",
              "      <th>2</th>\n",
              "      <td>20010102</td>\n",
              "      <td>unknown</td>\n",
              "      <td>Status quo will not be disturbed at Ayodhya; s...</td>\n",
              "    </tr>\n",
              "    <tr>\n",
              "      <th>3</th>\n",
              "      <td>20010102</td>\n",
              "      <td>unknown</td>\n",
              "      <td>Fissures in Hurriyat over Pak visit</td>\n",
              "    </tr>\n",
              "    <tr>\n",
              "      <th>4</th>\n",
              "      <td>20010102</td>\n",
              "      <td>unknown</td>\n",
              "      <td>America's unwanted heading for India?</td>\n",
              "    </tr>\n",
              "    <tr>\n",
              "      <th>...</th>\n",
              "      <td>...</td>\n",
              "      <td>...</td>\n",
              "      <td>...</td>\n",
              "    </tr>\n",
              "    <tr>\n",
              "      <th>3297168</th>\n",
              "      <td>20200630</td>\n",
              "      <td>gadgets-news</td>\n",
              "      <td>why tiktok removed 1 65 crore videos in india</td>\n",
              "    </tr>\n",
              "    <tr>\n",
              "      <th>3297169</th>\n",
              "      <td>20200630</td>\n",
              "      <td>entertainment.hindi.bollywood</td>\n",
              "      <td>apurva asrani calls alia bhatts mother soni ra...</td>\n",
              "    </tr>\n",
              "    <tr>\n",
              "      <th>3297170</th>\n",
              "      <td>20200630</td>\n",
              "      <td>entertainment.hindi.bollywood</td>\n",
              "      <td>kangana ranaut gets a doll version of herself ...</td>\n",
              "    </tr>\n",
              "    <tr>\n",
              "      <th>3297171</th>\n",
              "      <td>20200630</td>\n",
              "      <td>entertainment.hindi.bollywood</td>\n",
              "      <td>meezaan jaffrey reminisces his childhood days ...</td>\n",
              "    </tr>\n",
              "    <tr>\n",
              "      <th>3297172</th>\n",
              "      <td>20200630</td>\n",
              "      <td>entertainment.telugu.movies.news</td>\n",
              "      <td>prabhas20 titled as radhe shyam prabhas and po...</td>\n",
              "    </tr>\n",
              "  </tbody>\n",
              "</table>\n",
              "<p>3297173 rows × 3 columns</p>\n",
              "</div>"
            ],
            "text/plain": [
              "                 Date  ...                                               News\n",
              "0        publish_date  ...                                      headline_text\n",
              "1            20010101  ...  win over cena satisfying but defeating underta...\n",
              "2            20010102  ...  Status quo will not be disturbed at Ayodhya; s...\n",
              "3            20010102  ...                Fissures in Hurriyat over Pak visit\n",
              "4            20010102  ...              America's unwanted heading for India?\n",
              "...               ...  ...                                                ...\n",
              "3297168      20200630  ...      why tiktok removed 1 65 crore videos in india\n",
              "3297169      20200630  ...  apurva asrani calls alia bhatts mother soni ra...\n",
              "3297170      20200630  ...  kangana ranaut gets a doll version of herself ...\n",
              "3297171      20200630  ...  meezaan jaffrey reminisces his childhood days ...\n",
              "3297172      20200630  ...  prabhas20 titled as radhe shyam prabhas and po...\n",
              "\n",
              "[3297173 rows x 3 columns]"
            ]
          },
          "metadata": {
            "tags": []
          },
          "execution_count": 95
        }
      ]
    },
    {
      "cell_type": "code",
      "metadata": {
        "id": "jWQbhzFqsgrN",
        "outputId": "f1a6c99c-473f-4fc0-fc42-09f922c3b11c",
        "colab": {
          "base_uri": "https://localhost:8080/"
        }
      },
      "source": [
        "df_news.drop(0, inplace=True)\n",
        "df_news.drop('Category', axis = 1, inplace=True)\n",
        "df_news.info()"
      ],
      "execution_count": 96,
      "outputs": [
        {
          "output_type": "stream",
          "text": [
            "<class 'pandas.core.frame.DataFrame'>\n",
            "Int64Index: 3297172 entries, 1 to 3297172\n",
            "Data columns (total 2 columns):\n",
            " #   Column  Dtype \n",
            "---  ------  ----- \n",
            " 0   Date    object\n",
            " 1   News    object\n",
            "dtypes: object(2)\n",
            "memory usage: 75.5+ MB\n"
          ],
          "name": "stdout"
        }
      ]
    },
    {
      "cell_type": "code",
      "metadata": {
        "id": "zpiBIZfusgrS",
        "outputId": "8dd84547-85c7-4d56-977e-42360a1dd50e",
        "colab": {
          "base_uri": "https://localhost:8080/",
          "height": 195
        }
      },
      "source": [
        "df_news.head()"
      ],
      "execution_count": 97,
      "outputs": [
        {
          "output_type": "execute_result",
          "data": {
            "text/html": [
              "<div>\n",
              "<style scoped>\n",
              "    .dataframe tbody tr th:only-of-type {\n",
              "        vertical-align: middle;\n",
              "    }\n",
              "\n",
              "    .dataframe tbody tr th {\n",
              "        vertical-align: top;\n",
              "    }\n",
              "\n",
              "    .dataframe thead th {\n",
              "        text-align: right;\n",
              "    }\n",
              "</style>\n",
              "<table border=\"1\" class=\"dataframe\">\n",
              "  <thead>\n",
              "    <tr style=\"text-align: right;\">\n",
              "      <th></th>\n",
              "      <th>Date</th>\n",
              "      <th>News</th>\n",
              "    </tr>\n",
              "  </thead>\n",
              "  <tbody>\n",
              "    <tr>\n",
              "      <th>1</th>\n",
              "      <td>20010101</td>\n",
              "      <td>win over cena satisfying but defeating underta...</td>\n",
              "    </tr>\n",
              "    <tr>\n",
              "      <th>2</th>\n",
              "      <td>20010102</td>\n",
              "      <td>Status quo will not be disturbed at Ayodhya; s...</td>\n",
              "    </tr>\n",
              "    <tr>\n",
              "      <th>3</th>\n",
              "      <td>20010102</td>\n",
              "      <td>Fissures in Hurriyat over Pak visit</td>\n",
              "    </tr>\n",
              "    <tr>\n",
              "      <th>4</th>\n",
              "      <td>20010102</td>\n",
              "      <td>America's unwanted heading for India?</td>\n",
              "    </tr>\n",
              "    <tr>\n",
              "      <th>5</th>\n",
              "      <td>20010102</td>\n",
              "      <td>For bigwigs; it is destination Goa</td>\n",
              "    </tr>\n",
              "  </tbody>\n",
              "</table>\n",
              "</div>"
            ],
            "text/plain": [
              "       Date                                               News\n",
              "1  20010101  win over cena satisfying but defeating underta...\n",
              "2  20010102  Status quo will not be disturbed at Ayodhya; s...\n",
              "3  20010102                Fissures in Hurriyat over Pak visit\n",
              "4  20010102              America's unwanted heading for India?\n",
              "5  20010102                 For bigwigs; it is destination Goa"
            ]
          },
          "metadata": {
            "tags": []
          },
          "execution_count": 97
        }
      ]
    },
    {
      "cell_type": "code",
      "metadata": {
        "id": "U2b4khbAsgrX",
        "outputId": "0e0b66f1-4ae3-448d-8e6e-ea11cafbf1df",
        "colab": {
          "base_uri": "https://localhost:8080/",
          "height": 402
        }
      },
      "source": [
        "#Converting data type of Date column \n",
        "df_news['Date'] = pd.to_datetime(df_news['Date'],format= '%Y%m%d')\n",
        "df_news"
      ],
      "execution_count": 98,
      "outputs": [
        {
          "output_type": "execute_result",
          "data": {
            "text/html": [
              "<div>\n",
              "<style scoped>\n",
              "    .dataframe tbody tr th:only-of-type {\n",
              "        vertical-align: middle;\n",
              "    }\n",
              "\n",
              "    .dataframe tbody tr th {\n",
              "        vertical-align: top;\n",
              "    }\n",
              "\n",
              "    .dataframe thead th {\n",
              "        text-align: right;\n",
              "    }\n",
              "</style>\n",
              "<table border=\"1\" class=\"dataframe\">\n",
              "  <thead>\n",
              "    <tr style=\"text-align: right;\">\n",
              "      <th></th>\n",
              "      <th>Date</th>\n",
              "      <th>News</th>\n",
              "    </tr>\n",
              "  </thead>\n",
              "  <tbody>\n",
              "    <tr>\n",
              "      <th>1</th>\n",
              "      <td>2001-01-01</td>\n",
              "      <td>win over cena satisfying but defeating underta...</td>\n",
              "    </tr>\n",
              "    <tr>\n",
              "      <th>2</th>\n",
              "      <td>2001-01-02</td>\n",
              "      <td>Status quo will not be disturbed at Ayodhya; s...</td>\n",
              "    </tr>\n",
              "    <tr>\n",
              "      <th>3</th>\n",
              "      <td>2001-01-02</td>\n",
              "      <td>Fissures in Hurriyat over Pak visit</td>\n",
              "    </tr>\n",
              "    <tr>\n",
              "      <th>4</th>\n",
              "      <td>2001-01-02</td>\n",
              "      <td>America's unwanted heading for India?</td>\n",
              "    </tr>\n",
              "    <tr>\n",
              "      <th>5</th>\n",
              "      <td>2001-01-02</td>\n",
              "      <td>For bigwigs; it is destination Goa</td>\n",
              "    </tr>\n",
              "    <tr>\n",
              "      <th>...</th>\n",
              "      <td>...</td>\n",
              "      <td>...</td>\n",
              "    </tr>\n",
              "    <tr>\n",
              "      <th>3297168</th>\n",
              "      <td>2020-06-30</td>\n",
              "      <td>why tiktok removed 1 65 crore videos in india</td>\n",
              "    </tr>\n",
              "    <tr>\n",
              "      <th>3297169</th>\n",
              "      <td>2020-06-30</td>\n",
              "      <td>apurva asrani calls alia bhatts mother soni ra...</td>\n",
              "    </tr>\n",
              "    <tr>\n",
              "      <th>3297170</th>\n",
              "      <td>2020-06-30</td>\n",
              "      <td>kangana ranaut gets a doll version of herself ...</td>\n",
              "    </tr>\n",
              "    <tr>\n",
              "      <th>3297171</th>\n",
              "      <td>2020-06-30</td>\n",
              "      <td>meezaan jaffrey reminisces his childhood days ...</td>\n",
              "    </tr>\n",
              "    <tr>\n",
              "      <th>3297172</th>\n",
              "      <td>2020-06-30</td>\n",
              "      <td>prabhas20 titled as radhe shyam prabhas and po...</td>\n",
              "    </tr>\n",
              "  </tbody>\n",
              "</table>\n",
              "<p>3297172 rows × 2 columns</p>\n",
              "</div>"
            ],
            "text/plain": [
              "              Date                                               News\n",
              "1       2001-01-01  win over cena satisfying but defeating underta...\n",
              "2       2001-01-02  Status quo will not be disturbed at Ayodhya; s...\n",
              "3       2001-01-02                Fissures in Hurriyat over Pak visit\n",
              "4       2001-01-02              America's unwanted heading for India?\n",
              "5       2001-01-02                 For bigwigs; it is destination Goa\n",
              "...            ...                                                ...\n",
              "3297168 2020-06-30      why tiktok removed 1 65 crore videos in india\n",
              "3297169 2020-06-30  apurva asrani calls alia bhatts mother soni ra...\n",
              "3297170 2020-06-30  kangana ranaut gets a doll version of herself ...\n",
              "3297171 2020-06-30  meezaan jaffrey reminisces his childhood days ...\n",
              "3297172 2020-06-30  prabhas20 titled as radhe shyam prabhas and po...\n",
              "\n",
              "[3297172 rows x 2 columns]"
            ]
          },
          "metadata": {
            "tags": []
          },
          "execution_count": 98
        }
      ]
    },
    {
      "cell_type": "code",
      "metadata": {
        "id": "L9bJJ8P-sgrc",
        "outputId": "1fd9f653-0426-432b-bffc-19a78ef0df88",
        "colab": {
          "base_uri": "https://localhost:8080/",
          "height": 343
        }
      },
      "source": [
        "#Grouping the headlines for each day\n",
        "df_news['News'] = df_news.groupby(['Date']).transform(lambda x : ' '.join(x)) \n",
        "df_news = df_news.drop_duplicates() \n",
        "df_news.reset_index(inplace = True, drop = True)\n",
        "df_news.head(10)"
      ],
      "execution_count": 99,
      "outputs": [
        {
          "output_type": "execute_result",
          "data": {
            "text/html": [
              "<div>\n",
              "<style scoped>\n",
              "    .dataframe tbody tr th:only-of-type {\n",
              "        vertical-align: middle;\n",
              "    }\n",
              "\n",
              "    .dataframe tbody tr th {\n",
              "        vertical-align: top;\n",
              "    }\n",
              "\n",
              "    .dataframe thead th {\n",
              "        text-align: right;\n",
              "    }\n",
              "</style>\n",
              "<table border=\"1\" class=\"dataframe\">\n",
              "  <thead>\n",
              "    <tr style=\"text-align: right;\">\n",
              "      <th></th>\n",
              "      <th>Date</th>\n",
              "      <th>News</th>\n",
              "    </tr>\n",
              "  </thead>\n",
              "  <tbody>\n",
              "    <tr>\n",
              "      <th>0</th>\n",
              "      <td>2001-01-01</td>\n",
              "      <td>win over cena satisfying but defeating underta...</td>\n",
              "    </tr>\n",
              "    <tr>\n",
              "      <th>1</th>\n",
              "      <td>2001-01-02</td>\n",
              "      <td>Status quo will not be disturbed at Ayodhya; s...</td>\n",
              "    </tr>\n",
              "    <tr>\n",
              "      <th>2</th>\n",
              "      <td>2001-01-03</td>\n",
              "      <td>Powerless north India gropes in the dark Think...</td>\n",
              "    </tr>\n",
              "    <tr>\n",
              "      <th>3</th>\n",
              "      <td>2001-01-04</td>\n",
              "      <td>The string that pulled Stephen Hawking to Indi...</td>\n",
              "    </tr>\n",
              "    <tr>\n",
              "      <th>4</th>\n",
              "      <td>2001-01-05</td>\n",
              "      <td>Light combat craft takes India into club class...</td>\n",
              "    </tr>\n",
              "    <tr>\n",
              "      <th>5</th>\n",
              "      <td>2001-01-06</td>\n",
              "      <td>Light combat craft takes India into club class...</td>\n",
              "    </tr>\n",
              "    <tr>\n",
              "      <th>6</th>\n",
              "      <td>2001-01-07</td>\n",
              "      <td>Muslim body rules out talks on Ayodhya Bajrang...</td>\n",
              "    </tr>\n",
              "    <tr>\n",
              "      <th>7</th>\n",
              "      <td>2001-01-08</td>\n",
              "      <td>Sangh Parivar; Babri panel up the ante Frontru...</td>\n",
              "    </tr>\n",
              "    <tr>\n",
              "      <th>8</th>\n",
              "      <td>2001-01-09</td>\n",
              "      <td>Financier Bharat Shah held for alleged links w...</td>\n",
              "    </tr>\n",
              "    <tr>\n",
              "      <th>9</th>\n",
              "      <td>2001-01-10</td>\n",
              "      <td>Fend for yourselves; Pande tells doctors Burea...</td>\n",
              "    </tr>\n",
              "  </tbody>\n",
              "</table>\n",
              "</div>"
            ],
            "text/plain": [
              "        Date                                               News\n",
              "0 2001-01-01  win over cena satisfying but defeating underta...\n",
              "1 2001-01-02  Status quo will not be disturbed at Ayodhya; s...\n",
              "2 2001-01-03  Powerless north India gropes in the dark Think...\n",
              "3 2001-01-04  The string that pulled Stephen Hawking to Indi...\n",
              "4 2001-01-05  Light combat craft takes India into club class...\n",
              "5 2001-01-06  Light combat craft takes India into club class...\n",
              "6 2001-01-07  Muslim body rules out talks on Ayodhya Bajrang...\n",
              "7 2001-01-08  Sangh Parivar; Babri panel up the ante Frontru...\n",
              "8 2001-01-09  Financier Bharat Shah held for alleged links w...\n",
              "9 2001-01-10  Fend for yourselves; Pande tells doctors Burea..."
            ]
          },
          "metadata": {
            "tags": []
          },
          "execution_count": 99
        }
      ]
    },
    {
      "cell_type": "code",
      "metadata": {
        "id": "ISV3Jy6lsgrh",
        "outputId": "925da027-941d-4585-c634-1a3b149bc9bd",
        "colab": {
          "base_uri": "https://localhost:8080/"
        }
      },
      "source": [
        "df_news.shape"
      ],
      "execution_count": 100,
      "outputs": [
        {
          "output_type": "execute_result",
          "data": {
            "text/plain": [
              "(7080, 2)"
            ]
          },
          "metadata": {
            "tags": []
          },
          "execution_count": 100
        }
      ]
    },
    {
      "cell_type": "code",
      "metadata": {
        "id": "gB2vZ6fgsgrm",
        "outputId": "364b2e76-5e56-4dbd-a485-19611b7697b4",
        "colab": {
          "base_uri": "https://localhost:8080/",
          "height": 195
        }
      },
      "source": [
        "df_news.tail()"
      ],
      "execution_count": 101,
      "outputs": [
        {
          "output_type": "execute_result",
          "data": {
            "text/html": [
              "<div>\n",
              "<style scoped>\n",
              "    .dataframe tbody tr th:only-of-type {\n",
              "        vertical-align: middle;\n",
              "    }\n",
              "\n",
              "    .dataframe tbody tr th {\n",
              "        vertical-align: top;\n",
              "    }\n",
              "\n",
              "    .dataframe thead th {\n",
              "        text-align: right;\n",
              "    }\n",
              "</style>\n",
              "<table border=\"1\" class=\"dataframe\">\n",
              "  <thead>\n",
              "    <tr style=\"text-align: right;\">\n",
              "      <th></th>\n",
              "      <th>Date</th>\n",
              "      <th>News</th>\n",
              "    </tr>\n",
              "  </thead>\n",
              "  <tbody>\n",
              "    <tr>\n",
              "      <th>7075</th>\n",
              "      <td>2020-06-26</td>\n",
              "      <td>Containment zone residents slam high prices ch...</td>\n",
              "    </tr>\n",
              "    <tr>\n",
              "      <th>7076</th>\n",
              "      <td>2020-06-27</td>\n",
              "      <td>like me i wont let you have a toxic relationsh...</td>\n",
              "    </tr>\n",
              "    <tr>\n",
              "      <th>7077</th>\n",
              "      <td>2020-06-28</td>\n",
              "      <td>Atanu Ghosh plans to rewrite old scripts to ma...</td>\n",
              "    </tr>\n",
              "    <tr>\n",
              "      <th>7078</th>\n",
              "      <td>2020-06-29</td>\n",
              "      <td>6 hot and stylish bikini looks of Katrina Kaif...</td>\n",
              "    </tr>\n",
              "    <tr>\n",
              "      <th>7079</th>\n",
              "      <td>2020-06-30</td>\n",
              "      <td>Detective Byomkesh Bakshy! Edge of Tomorrow Fi...</td>\n",
              "    </tr>\n",
              "  </tbody>\n",
              "</table>\n",
              "</div>"
            ],
            "text/plain": [
              "           Date                                               News\n",
              "7075 2020-06-26  Containment zone residents slam high prices ch...\n",
              "7076 2020-06-27  like me i wont let you have a toxic relationsh...\n",
              "7077 2020-06-28  Atanu Ghosh plans to rewrite old scripts to ma...\n",
              "7078 2020-06-29  6 hot and stylish bikini looks of Katrina Kaif...\n",
              "7079 2020-06-30  Detective Byomkesh Bakshy! Edge of Tomorrow Fi..."
            ]
          },
          "metadata": {
            "tags": []
          },
          "execution_count": 101
        }
      ]
    },
    {
      "cell_type": "code",
      "metadata": {
        "id": "trGdcByHsgrq"
      },
      "source": [
        "#Cleaning headlines\n",
        "ps= PorterStemmer()\n",
        "c = []\n",
        "for i in range(0,len(df_news['News'])):\n",
        "    news = re.sub('[^a-zA-Z]',' ',df_news['News'][i])\n",
        "    news = news.lower()\n",
        "    news = news.split()\n",
        "    news = [ps.stem(word) for word in news if not word in set(stopwords.words('english'))]\n",
        "    news=' '.join(news)\n",
        "    c.append(news)"
      ],
      "execution_count": 102,
      "outputs": []
    },
    {
      "cell_type": "code",
      "metadata": {
        "id": "B6OnL7NcE-4y",
        "outputId": "95536ac2-1832-4c59-bd12-ed8825310aef",
        "colab": {
          "base_uri": "https://localhost:8080/",
          "height": 402
        }
      },
      "source": [
        "df_news['News'] = pd.Series(c)\n",
        "df_news"
      ],
      "execution_count": 103,
      "outputs": [
        {
          "output_type": "execute_result",
          "data": {
            "text/html": [
              "<div>\n",
              "<style scoped>\n",
              "    .dataframe tbody tr th:only-of-type {\n",
              "        vertical-align: middle;\n",
              "    }\n",
              "\n",
              "    .dataframe tbody tr th {\n",
              "        vertical-align: top;\n",
              "    }\n",
              "\n",
              "    .dataframe thead th {\n",
              "        text-align: right;\n",
              "    }\n",
              "</style>\n",
              "<table border=\"1\" class=\"dataframe\">\n",
              "  <thead>\n",
              "    <tr style=\"text-align: right;\">\n",
              "      <th></th>\n",
              "      <th>Date</th>\n",
              "      <th>News</th>\n",
              "    </tr>\n",
              "  </thead>\n",
              "  <tbody>\n",
              "    <tr>\n",
              "      <th>0</th>\n",
              "      <td>2001-01-01</td>\n",
              "      <td>win cena satisfi defeat undertak bigger roman ...</td>\n",
              "    </tr>\n",
              "    <tr>\n",
              "      <th>1</th>\n",
              "      <td>2001-01-02</td>\n",
              "      <td>statu quo disturb ayodhya say vajpaye fissur h...</td>\n",
              "    </tr>\n",
              "    <tr>\n",
              "      <th>2</th>\n",
              "      <td>2001-01-03</td>\n",
              "      <td>powerless north india grope dark think laxman ...</td>\n",
              "    </tr>\n",
              "    <tr>\n",
              "      <th>3</th>\n",
              "      <td>2001-01-04</td>\n",
              "      <td>string pull stephen hawk india vajpaye give bi...</td>\n",
              "    </tr>\n",
              "    <tr>\n",
              "      <th>4</th>\n",
              "      <td>2001-01-05</td>\n",
              "      <td>light combat craft take india club class hawk ...</td>\n",
              "    </tr>\n",
              "    <tr>\n",
              "      <th>...</th>\n",
              "      <td>...</td>\n",
              "      <td>...</td>\n",
              "    </tr>\n",
              "    <tr>\n",
              "      <th>7075</th>\n",
              "      <td>2020-06-26</td>\n",
              "      <td>contain zone resid slam high price charg veget...</td>\n",
              "    </tr>\n",
              "    <tr>\n",
              "      <th>7076</th>\n",
              "      <td>2020-06-27</td>\n",
              "      <td>like wont let toxic relationship food major ra...</td>\n",
              "    </tr>\n",
              "    <tr>\n",
              "      <th>7077</th>\n",
              "      <td>2020-06-28</td>\n",
              "      <td>atanu ghosh plan rewrit old script make relev ...</td>\n",
              "    </tr>\n",
              "    <tr>\n",
              "      <th>7078</th>\n",
              "      <td>2020-06-29</td>\n",
              "      <td>hot stylish bikini look katrina kaif anna eden...</td>\n",
              "    </tr>\n",
              "    <tr>\n",
              "      <th>7079</th>\n",
              "      <td>2020-06-30</td>\n",
              "      <td>detect byomkesh bakshi edg tomorrow first look...</td>\n",
              "    </tr>\n",
              "  </tbody>\n",
              "</table>\n",
              "<p>7080 rows × 2 columns</p>\n",
              "</div>"
            ],
            "text/plain": [
              "           Date                                               News\n",
              "0    2001-01-01  win cena satisfi defeat undertak bigger roman ...\n",
              "1    2001-01-02  statu quo disturb ayodhya say vajpaye fissur h...\n",
              "2    2001-01-03  powerless north india grope dark think laxman ...\n",
              "3    2001-01-04  string pull stephen hawk india vajpaye give bi...\n",
              "4    2001-01-05  light combat craft take india club class hawk ...\n",
              "...         ...                                                ...\n",
              "7075 2020-06-26  contain zone resid slam high price charg veget...\n",
              "7076 2020-06-27  like wont let toxic relationship food major ra...\n",
              "7077 2020-06-28  atanu ghosh plan rewrit old script make relev ...\n",
              "7078 2020-06-29  hot stylish bikini look katrina kaif anna eden...\n",
              "7079 2020-06-30  detect byomkesh bakshi edg tomorrow first look...\n",
              "\n",
              "[7080 rows x 2 columns]"
            ]
          },
          "metadata": {
            "tags": []
          },
          "execution_count": 103
        }
      ]
    },
    {
      "cell_type": "code",
      "metadata": {
        "id": "Qa6iRHt1E_gs"
      },
      "source": [
        "#Functions to get the subjectivity and polarity\n",
        "def getSubjectivity(text):\n",
        "  return TextBlob(text).sentiment.subjectivity\n",
        "\n",
        "def getPolarity(text):\n",
        "  return  TextBlob(text).sentiment.polarity"
      ],
      "execution_count": 104,
      "outputs": []
    },
    {
      "cell_type": "code",
      "metadata": {
        "id": "V10C9E-fFAQi",
        "outputId": "20924e02-3a74-4be2-d141-10ae658aeeb3",
        "colab": {
          "base_uri": "https://localhost:8080/",
          "height": 402
        }
      },
      "source": [
        "#Adding subjectivity and polarity columns\n",
        "df_news['Subjectivity'] = df_news['News'].apply(getSubjectivity)\n",
        "df_news['Polarity'] = df_news['News'].apply(getPolarity)\n",
        "df_news"
      ],
      "execution_count": 105,
      "outputs": [
        {
          "output_type": "execute_result",
          "data": {
            "text/html": [
              "<div>\n",
              "<style scoped>\n",
              "    .dataframe tbody tr th:only-of-type {\n",
              "        vertical-align: middle;\n",
              "    }\n",
              "\n",
              "    .dataframe tbody tr th {\n",
              "        vertical-align: top;\n",
              "    }\n",
              "\n",
              "    .dataframe thead th {\n",
              "        text-align: right;\n",
              "    }\n",
              "</style>\n",
              "<table border=\"1\" class=\"dataframe\">\n",
              "  <thead>\n",
              "    <tr style=\"text-align: right;\">\n",
              "      <th></th>\n",
              "      <th>Date</th>\n",
              "      <th>News</th>\n",
              "      <th>Subjectivity</th>\n",
              "      <th>Polarity</th>\n",
              "    </tr>\n",
              "  </thead>\n",
              "  <tbody>\n",
              "    <tr>\n",
              "      <th>0</th>\n",
              "      <td>2001-01-01</td>\n",
              "      <td>win cena satisfi defeat undertak bigger roman ...</td>\n",
              "      <td>0.450000</td>\n",
              "      <td>0.400000</td>\n",
              "    </tr>\n",
              "    <tr>\n",
              "      <th>1</th>\n",
              "      <td>2001-01-02</td>\n",
              "      <td>statu quo disturb ayodhya say vajpaye fissur h...</td>\n",
              "      <td>0.298148</td>\n",
              "      <td>0.099074</td>\n",
              "    </tr>\n",
              "    <tr>\n",
              "      <th>2</th>\n",
              "      <td>2001-01-03</td>\n",
              "      <td>powerless north india grope dark think laxman ...</td>\n",
              "      <td>0.429167</td>\n",
              "      <td>0.025000</td>\n",
              "    </tr>\n",
              "    <tr>\n",
              "      <th>3</th>\n",
              "      <td>2001-01-04</td>\n",
              "      <td>string pull stephen hawk india vajpaye give bi...</td>\n",
              "      <td>0.475140</td>\n",
              "      <td>0.032481</td>\n",
              "    </tr>\n",
              "    <tr>\n",
              "      <th>4</th>\n",
              "      <td>2001-01-05</td>\n",
              "      <td>light combat craft take india club class hawk ...</td>\n",
              "      <td>0.458412</td>\n",
              "      <td>0.296404</td>\n",
              "    </tr>\n",
              "    <tr>\n",
              "      <th>...</th>\n",
              "      <td>...</td>\n",
              "      <td>...</td>\n",
              "      <td>...</td>\n",
              "      <td>...</td>\n",
              "    </tr>\n",
              "    <tr>\n",
              "      <th>7075</th>\n",
              "      <td>2020-06-26</td>\n",
              "      <td>contain zone resid slam high price charg veget...</td>\n",
              "      <td>0.330257</td>\n",
              "      <td>0.066958</td>\n",
              "    </tr>\n",
              "    <tr>\n",
              "      <th>7076</th>\n",
              "      <td>2020-06-27</td>\n",
              "      <td>like wont let toxic relationship food major ra...</td>\n",
              "      <td>0.372264</td>\n",
              "      <td>0.064784</td>\n",
              "    </tr>\n",
              "    <tr>\n",
              "      <th>7077</th>\n",
              "      <td>2020-06-28</td>\n",
              "      <td>atanu ghosh plan rewrit old script make relev ...</td>\n",
              "      <td>0.378165</td>\n",
              "      <td>0.054209</td>\n",
              "    </tr>\n",
              "    <tr>\n",
              "      <th>7078</th>\n",
              "      <td>2020-06-29</td>\n",
              "      <td>hot stylish bikini look katrina kaif anna eden...</td>\n",
              "      <td>0.373210</td>\n",
              "      <td>0.060782</td>\n",
              "    </tr>\n",
              "    <tr>\n",
              "      <th>7079</th>\n",
              "      <td>2020-06-30</td>\n",
              "      <td>detect byomkesh bakshi edg tomorrow first look...</td>\n",
              "      <td>0.349361</td>\n",
              "      <td>0.059465</td>\n",
              "    </tr>\n",
              "  </tbody>\n",
              "</table>\n",
              "<p>7080 rows × 4 columns</p>\n",
              "</div>"
            ],
            "text/plain": [
              "           Date  ...  Polarity\n",
              "0    2001-01-01  ...  0.400000\n",
              "1    2001-01-02  ...  0.099074\n",
              "2    2001-01-03  ...  0.025000\n",
              "3    2001-01-04  ...  0.032481\n",
              "4    2001-01-05  ...  0.296404\n",
              "...         ...  ...       ...\n",
              "7075 2020-06-26  ...  0.066958\n",
              "7076 2020-06-27  ...  0.064784\n",
              "7077 2020-06-28  ...  0.054209\n",
              "7078 2020-06-29  ...  0.060782\n",
              "7079 2020-06-30  ...  0.059465\n",
              "\n",
              "[7080 rows x 4 columns]"
            ]
          },
          "metadata": {
            "tags": []
          },
          "execution_count": 105
        }
      ]
    },
    {
      "cell_type": "code",
      "metadata": {
        "id": "4if4IhD6FAth",
        "outputId": "081e3529-5121-4076-9b3d-b72b20b0eebb",
        "colab": {
          "base_uri": "https://localhost:8080/",
          "height": 402
        }
      },
      "source": [
        "#Adding sentiment score to df_news\n",
        "sia = SentimentIntensityAnalyzer()\n",
        "\n",
        "df_news['Compound'] = [sia.polarity_scores(v)['compound'] for v in df_news['News']]\n",
        "df_news['Negative'] = [sia.polarity_scores(v)['neg'] for v in df_news['News']]\n",
        "df_news['Neutral'] = [sia.polarity_scores(v)['neu'] for v in df_news['News']]\n",
        "df_news['Positive'] = [sia.polarity_scores(v)['pos'] for v in df_news['News']]\n",
        "df_news"
      ],
      "execution_count": 106,
      "outputs": [
        {
          "output_type": "execute_result",
          "data": {
            "text/html": [
              "<div>\n",
              "<style scoped>\n",
              "    .dataframe tbody tr th:only-of-type {\n",
              "        vertical-align: middle;\n",
              "    }\n",
              "\n",
              "    .dataframe tbody tr th {\n",
              "        vertical-align: top;\n",
              "    }\n",
              "\n",
              "    .dataframe thead th {\n",
              "        text-align: right;\n",
              "    }\n",
              "</style>\n",
              "<table border=\"1\" class=\"dataframe\">\n",
              "  <thead>\n",
              "    <tr style=\"text-align: right;\">\n",
              "      <th></th>\n",
              "      <th>Date</th>\n",
              "      <th>News</th>\n",
              "      <th>Subjectivity</th>\n",
              "      <th>Polarity</th>\n",
              "      <th>Compound</th>\n",
              "      <th>Negative</th>\n",
              "      <th>Neutral</th>\n",
              "      <th>Positive</th>\n",
              "    </tr>\n",
              "  </thead>\n",
              "  <tbody>\n",
              "    <tr>\n",
              "      <th>0</th>\n",
              "      <td>2001-01-01</td>\n",
              "      <td>win cena satisfi defeat undertak bigger roman ...</td>\n",
              "      <td>0.450000</td>\n",
              "      <td>0.400000</td>\n",
              "      <td>0.2023</td>\n",
              "      <td>0.234</td>\n",
              "      <td>0.469</td>\n",
              "      <td>0.297</td>\n",
              "    </tr>\n",
              "    <tr>\n",
              "      <th>1</th>\n",
              "      <td>2001-01-02</td>\n",
              "      <td>statu quo disturb ayodhya say vajpaye fissur h...</td>\n",
              "      <td>0.298148</td>\n",
              "      <td>0.099074</td>\n",
              "      <td>-0.8555</td>\n",
              "      <td>0.125</td>\n",
              "      <td>0.773</td>\n",
              "      <td>0.102</td>\n",
              "    </tr>\n",
              "    <tr>\n",
              "      <th>2</th>\n",
              "      <td>2001-01-03</td>\n",
              "      <td>powerless north india grope dark think laxman ...</td>\n",
              "      <td>0.429167</td>\n",
              "      <td>0.025000</td>\n",
              "      <td>-0.5994</td>\n",
              "      <td>0.132</td>\n",
              "      <td>0.755</td>\n",
              "      <td>0.113</td>\n",
              "    </tr>\n",
              "    <tr>\n",
              "      <th>3</th>\n",
              "      <td>2001-01-04</td>\n",
              "      <td>string pull stephen hawk india vajpaye give bi...</td>\n",
              "      <td>0.475140</td>\n",
              "      <td>0.032481</td>\n",
              "      <td>0.9169</td>\n",
              "      <td>0.099</td>\n",
              "      <td>0.791</td>\n",
              "      <td>0.110</td>\n",
              "    </tr>\n",
              "    <tr>\n",
              "      <th>4</th>\n",
              "      <td>2001-01-05</td>\n",
              "      <td>light combat craft take india club class hawk ...</td>\n",
              "      <td>0.458412</td>\n",
              "      <td>0.296404</td>\n",
              "      <td>-0.3612</td>\n",
              "      <td>0.171</td>\n",
              "      <td>0.659</td>\n",
              "      <td>0.170</td>\n",
              "    </tr>\n",
              "    <tr>\n",
              "      <th>...</th>\n",
              "      <td>...</td>\n",
              "      <td>...</td>\n",
              "      <td>...</td>\n",
              "      <td>...</td>\n",
              "      <td>...</td>\n",
              "      <td>...</td>\n",
              "      <td>...</td>\n",
              "      <td>...</td>\n",
              "    </tr>\n",
              "    <tr>\n",
              "      <th>7075</th>\n",
              "      <td>2020-06-26</td>\n",
              "      <td>contain zone resid slam high price charg veget...</td>\n",
              "      <td>0.330257</td>\n",
              "      <td>0.066958</td>\n",
              "      <td>-0.9998</td>\n",
              "      <td>0.142</td>\n",
              "      <td>0.789</td>\n",
              "      <td>0.069</td>\n",
              "    </tr>\n",
              "    <tr>\n",
              "      <th>7076</th>\n",
              "      <td>2020-06-27</td>\n",
              "      <td>like wont let toxic relationship food major ra...</td>\n",
              "      <td>0.372264</td>\n",
              "      <td>0.064784</td>\n",
              "      <td>-0.9998</td>\n",
              "      <td>0.139</td>\n",
              "      <td>0.790</td>\n",
              "      <td>0.070</td>\n",
              "    </tr>\n",
              "    <tr>\n",
              "      <th>7077</th>\n",
              "      <td>2020-06-28</td>\n",
              "      <td>atanu ghosh plan rewrit old script make relev ...</td>\n",
              "      <td>0.378165</td>\n",
              "      <td>0.054209</td>\n",
              "      <td>-0.9998</td>\n",
              "      <td>0.136</td>\n",
              "      <td>0.800</td>\n",
              "      <td>0.064</td>\n",
              "    </tr>\n",
              "    <tr>\n",
              "      <th>7078</th>\n",
              "      <td>2020-06-29</td>\n",
              "      <td>hot stylish bikini look katrina kaif anna eden...</td>\n",
              "      <td>0.373210</td>\n",
              "      <td>0.060782</td>\n",
              "      <td>-0.9998</td>\n",
              "      <td>0.130</td>\n",
              "      <td>0.800</td>\n",
              "      <td>0.070</td>\n",
              "    </tr>\n",
              "    <tr>\n",
              "      <th>7079</th>\n",
              "      <td>2020-06-30</td>\n",
              "      <td>detect byomkesh bakshi edg tomorrow first look...</td>\n",
              "      <td>0.349361</td>\n",
              "      <td>0.059465</td>\n",
              "      <td>-0.9999</td>\n",
              "      <td>0.134</td>\n",
              "      <td>0.818</td>\n",
              "      <td>0.048</td>\n",
              "    </tr>\n",
              "  </tbody>\n",
              "</table>\n",
              "<p>7080 rows × 8 columns</p>\n",
              "</div>"
            ],
            "text/plain": [
              "           Date  ... Positive\n",
              "0    2001-01-01  ...    0.297\n",
              "1    2001-01-02  ...    0.102\n",
              "2    2001-01-03  ...    0.113\n",
              "3    2001-01-04  ...    0.110\n",
              "4    2001-01-05  ...    0.170\n",
              "...         ...  ...      ...\n",
              "7075 2020-06-26  ...    0.069\n",
              "7076 2020-06-27  ...    0.070\n",
              "7077 2020-06-28  ...    0.064\n",
              "7078 2020-06-29  ...    0.070\n",
              "7079 2020-06-30  ...    0.048\n",
              "\n",
              "[7080 rows x 8 columns]"
            ]
          },
          "metadata": {
            "tags": []
          },
          "execution_count": 106
        }
      ]
    },
    {
      "cell_type": "code",
      "metadata": {
        "id": "E3GKeha7FBJt",
        "outputId": "a8668c58-debf-4f9d-85b8-1bb794e2d9c5",
        "colab": {
          "base_uri": "https://localhost:8080/",
          "height": 1000
        }
      },
      "source": [
        "df_merge = pd.merge(dataset, df_news, how='inner', on='Date')\n",
        "df_merge"
      ],
      "execution_count": 107,
      "outputs": [
        {
          "output_type": "execute_result",
          "data": {
            "text/html": [
              "<div>\n",
              "<style scoped>\n",
              "    .dataframe tbody tr th:only-of-type {\n",
              "        vertical-align: middle;\n",
              "    }\n",
              "\n",
              "    .dataframe tbody tr th {\n",
              "        vertical-align: top;\n",
              "    }\n",
              "\n",
              "    .dataframe thead th {\n",
              "        text-align: right;\n",
              "    }\n",
              "</style>\n",
              "<table border=\"1\" class=\"dataframe\">\n",
              "  <thead>\n",
              "    <tr style=\"text-align: right;\">\n",
              "      <th></th>\n",
              "      <th>Date</th>\n",
              "      <th>Open</th>\n",
              "      <th>High</th>\n",
              "      <th>Low</th>\n",
              "      <th>Close</th>\n",
              "      <th>Adj Close</th>\n",
              "      <th>Volume</th>\n",
              "      <th>Open: 30 Day Mean</th>\n",
              "      <th>Close: 30 Day Mean</th>\n",
              "      <th>News</th>\n",
              "      <th>Subjectivity</th>\n",
              "      <th>Polarity</th>\n",
              "      <th>Compound</th>\n",
              "      <th>Negative</th>\n",
              "      <th>Neutral</th>\n",
              "      <th>Positive</th>\n",
              "    </tr>\n",
              "  </thead>\n",
              "  <tbody>\n",
              "    <tr>\n",
              "      <th>0</th>\n",
              "      <td>2015-11-04</td>\n",
              "      <td>26704.019531</td>\n",
              "      <td>26800.060547</td>\n",
              "      <td>26510.310547</td>\n",
              "      <td>26552.919922</td>\n",
              "      <td>26552.919922</td>\n",
              "      <td>8000.0</td>\n",
              "      <td>NaN</td>\n",
              "      <td>NaN</td>\n",
              "      <td>rule date non vegetarian top diabet diet tip i...</td>\n",
              "      <td>0.407544</td>\n",
              "      <td>0.081833</td>\n",
              "      <td>-0.9996</td>\n",
              "      <td>0.129</td>\n",
              "      <td>0.780</td>\n",
              "      <td>0.091</td>\n",
              "    </tr>\n",
              "    <tr>\n",
              "      <th>1</th>\n",
              "      <td>2015-11-05</td>\n",
              "      <td>26557.800781</td>\n",
              "      <td>26557.800781</td>\n",
              "      <td>26243.199219</td>\n",
              "      <td>26304.199219</td>\n",
              "      <td>26304.199219</td>\n",
              "      <td>12300.0</td>\n",
              "      <td>NaN</td>\n",
              "      <td>NaN</td>\n",
              "      <td>easi gajar ka halwa recip five festiv hair ide...</td>\n",
              "      <td>0.373590</td>\n",
              "      <td>0.115210</td>\n",
              "      <td>-0.9983</td>\n",
              "      <td>0.117</td>\n",
              "      <td>0.783</td>\n",
              "      <td>0.099</td>\n",
              "    </tr>\n",
              "    <tr>\n",
              "      <th>2</th>\n",
              "      <td>2015-11-06</td>\n",
              "      <td>26284.009766</td>\n",
              "      <td>26438.859375</td>\n",
              "      <td>26190.179688</td>\n",
              "      <td>26265.240234</td>\n",
              "      <td>26265.240234</td>\n",
              "      <td>15600.0</td>\n",
              "      <td>NaN</td>\n",
              "      <td>NaN</td>\n",
              "      <td>way make life romant brilliant way prevent obe...</td>\n",
              "      <td>0.423474</td>\n",
              "      <td>0.078966</td>\n",
              "      <td>-0.9981</td>\n",
              "      <td>0.125</td>\n",
              "      <td>0.767</td>\n",
              "      <td>0.109</td>\n",
              "    </tr>\n",
              "    <tr>\n",
              "      <th>3</th>\n",
              "      <td>2015-11-09</td>\n",
              "      <td>25809.000000</td>\n",
              "      <td>26193.169922</td>\n",
              "      <td>25656.900391</td>\n",
              "      <td>26121.400391</td>\n",
              "      <td>26121.400391</td>\n",
              "      <td>13300.0</td>\n",
              "      <td>NaN</td>\n",
              "      <td>NaN</td>\n",
              "      <td>perfum safe health think love secretari women ...</td>\n",
              "      <td>0.529966</td>\n",
              "      <td>0.305813</td>\n",
              "      <td>-0.9920</td>\n",
              "      <td>0.120</td>\n",
              "      <td>0.767</td>\n",
              "      <td>0.113</td>\n",
              "    </tr>\n",
              "    <tr>\n",
              "      <th>4</th>\n",
              "      <td>2015-11-10</td>\n",
              "      <td>26094.089844</td>\n",
              "      <td>26094.089844</td>\n",
              "      <td>25709.230469</td>\n",
              "      <td>25743.259766</td>\n",
              "      <td>25743.259766</td>\n",
              "      <td>12800.0</td>\n",
              "      <td>NaN</td>\n",
              "      <td>NaN</td>\n",
              "      <td>top workout mistak book review enigma china fi...</td>\n",
              "      <td>0.466888</td>\n",
              "      <td>0.183373</td>\n",
              "      <td>0.9799</td>\n",
              "      <td>0.108</td>\n",
              "      <td>0.781</td>\n",
              "      <td>0.111</td>\n",
              "    </tr>\n",
              "    <tr>\n",
              "      <th>...</th>\n",
              "      <td>...</td>\n",
              "      <td>...</td>\n",
              "      <td>...</td>\n",
              "      <td>...</td>\n",
              "      <td>...</td>\n",
              "      <td>...</td>\n",
              "      <td>...</td>\n",
              "      <td>...</td>\n",
              "      <td>...</td>\n",
              "      <td>...</td>\n",
              "      <td>...</td>\n",
              "      <td>...</td>\n",
              "      <td>...</td>\n",
              "      <td>...</td>\n",
              "      <td>...</td>\n",
              "      <td>...</td>\n",
              "    </tr>\n",
              "    <tr>\n",
              "      <th>1134</th>\n",
              "      <td>2020-06-24</td>\n",
              "      <td>35679.738281</td>\n",
              "      <td>35706.550781</td>\n",
              "      <td>34794.929688</td>\n",
              "      <td>34868.980469</td>\n",
              "      <td>34868.980469</td>\n",
              "      <td>26600.0</td>\n",
              "      <td>32927.625651</td>\n",
              "      <td>32920.341797</td>\n",
              "      <td>never thought voic today vidya rajput never th...</td>\n",
              "      <td>0.368654</td>\n",
              "      <td>0.077799</td>\n",
              "      <td>-0.9997</td>\n",
              "      <td>0.126</td>\n",
              "      <td>0.807</td>\n",
              "      <td>0.067</td>\n",
              "    </tr>\n",
              "    <tr>\n",
              "      <th>1135</th>\n",
              "      <td>2020-06-25</td>\n",
              "      <td>34525.390625</td>\n",
              "      <td>35081.609375</td>\n",
              "      <td>34499.781250</td>\n",
              "      <td>34842.101563</td>\n",
              "      <td>34842.101563</td>\n",
              "      <td>24600.0</td>\n",
              "      <td>32983.742969</td>\n",
              "      <td>33014.791537</td>\n",
              "      <td>truck firm look new export market sell bs rang...</td>\n",
              "      <td>0.362784</td>\n",
              "      <td>0.011935</td>\n",
              "      <td>-0.9999</td>\n",
              "      <td>0.153</td>\n",
              "      <td>0.795</td>\n",
              "      <td>0.052</td>\n",
              "    </tr>\n",
              "    <tr>\n",
              "      <th>1136</th>\n",
              "      <td>2020-06-26</td>\n",
              "      <td>35144.781250</td>\n",
              "      <td>35254.878906</td>\n",
              "      <td>34910.339844</td>\n",
              "      <td>35171.269531</td>\n",
              "      <td>35171.269531</td>\n",
              "      <td>24800.0</td>\n",
              "      <td>33106.358008</td>\n",
              "      <td>33149.737500</td>\n",
              "      <td>contain zone resid slam high price charg veget...</td>\n",
              "      <td>0.330257</td>\n",
              "      <td>0.066958</td>\n",
              "      <td>-0.9998</td>\n",
              "      <td>0.142</td>\n",
              "      <td>0.789</td>\n",
              "      <td>0.069</td>\n",
              "    </tr>\n",
              "    <tr>\n",
              "      <th>1137</th>\n",
              "      <td>2020-06-29</td>\n",
              "      <td>34926.949219</td>\n",
              "      <td>35032.359375</td>\n",
              "      <td>34662.058594</td>\n",
              "      <td>34961.519531</td>\n",
              "      <td>34961.519531</td>\n",
              "      <td>18300.0</td>\n",
              "      <td>33227.380339</td>\n",
              "      <td>33278.530469</td>\n",
              "      <td>hot stylish bikini look katrina kaif anna eden...</td>\n",
              "      <td>0.373210</td>\n",
              "      <td>0.060782</td>\n",
              "      <td>-0.9998</td>\n",
              "      <td>0.130</td>\n",
              "      <td>0.800</td>\n",
              "      <td>0.070</td>\n",
              "    </tr>\n",
              "    <tr>\n",
              "      <th>1138</th>\n",
              "      <td>2020-06-30</td>\n",
              "      <td>35168.300781</td>\n",
              "      <td>35233.910156</td>\n",
              "      <td>34812.800781</td>\n",
              "      <td>34915.800781</td>\n",
              "      <td>34915.800781</td>\n",
              "      <td>18500.0</td>\n",
              "      <td>33358.048372</td>\n",
              "      <td>33441.424479</td>\n",
              "      <td>detect byomkesh bakshi edg tomorrow first look...</td>\n",
              "      <td>0.349361</td>\n",
              "      <td>0.059465</td>\n",
              "      <td>-0.9999</td>\n",
              "      <td>0.134</td>\n",
              "      <td>0.818</td>\n",
              "      <td>0.048</td>\n",
              "    </tr>\n",
              "  </tbody>\n",
              "</table>\n",
              "<p>1139 rows × 16 columns</p>\n",
              "</div>"
            ],
            "text/plain": [
              "           Date          Open          High  ...  Negative  Neutral  Positive\n",
              "0    2015-11-04  26704.019531  26800.060547  ...     0.129    0.780     0.091\n",
              "1    2015-11-05  26557.800781  26557.800781  ...     0.117    0.783     0.099\n",
              "2    2015-11-06  26284.009766  26438.859375  ...     0.125    0.767     0.109\n",
              "3    2015-11-09  25809.000000  26193.169922  ...     0.120    0.767     0.113\n",
              "4    2015-11-10  26094.089844  26094.089844  ...     0.108    0.781     0.111\n",
              "...         ...           ...           ...  ...       ...      ...       ...\n",
              "1134 2020-06-24  35679.738281  35706.550781  ...     0.126    0.807     0.067\n",
              "1135 2020-06-25  34525.390625  35081.609375  ...     0.153    0.795     0.052\n",
              "1136 2020-06-26  35144.781250  35254.878906  ...     0.142    0.789     0.069\n",
              "1137 2020-06-29  34926.949219  35032.359375  ...     0.130    0.800     0.070\n",
              "1138 2020-06-30  35168.300781  35233.910156  ...     0.134    0.818     0.048\n",
              "\n",
              "[1139 rows x 16 columns]"
            ]
          },
          "metadata": {
            "tags": []
          },
          "execution_count": 107
        }
      ]
    },
    {
      "cell_type": "code",
      "metadata": {
        "id": "KV1GEgZ9FB2f",
        "outputId": "b481cdfd-0364-44e6-847d-3c7f5a1575e4",
        "colab": {
          "base_uri": "https://localhost:8080/",
          "height": 402
        }
      },
      "source": [
        "df = df_merge[['Close','Subjectivity', 'Polarity', 'Compound', 'Negative', 'Neutral' ,'Positive']]\n",
        "df"
      ],
      "execution_count": 108,
      "outputs": [
        {
          "output_type": "execute_result",
          "data": {
            "text/html": [
              "<div>\n",
              "<style scoped>\n",
              "    .dataframe tbody tr th:only-of-type {\n",
              "        vertical-align: middle;\n",
              "    }\n",
              "\n",
              "    .dataframe tbody tr th {\n",
              "        vertical-align: top;\n",
              "    }\n",
              "\n",
              "    .dataframe thead th {\n",
              "        text-align: right;\n",
              "    }\n",
              "</style>\n",
              "<table border=\"1\" class=\"dataframe\">\n",
              "  <thead>\n",
              "    <tr style=\"text-align: right;\">\n",
              "      <th></th>\n",
              "      <th>Close</th>\n",
              "      <th>Subjectivity</th>\n",
              "      <th>Polarity</th>\n",
              "      <th>Compound</th>\n",
              "      <th>Negative</th>\n",
              "      <th>Neutral</th>\n",
              "      <th>Positive</th>\n",
              "    </tr>\n",
              "  </thead>\n",
              "  <tbody>\n",
              "    <tr>\n",
              "      <th>0</th>\n",
              "      <td>26552.919922</td>\n",
              "      <td>0.407544</td>\n",
              "      <td>0.081833</td>\n",
              "      <td>-0.9996</td>\n",
              "      <td>0.129</td>\n",
              "      <td>0.780</td>\n",
              "      <td>0.091</td>\n",
              "    </tr>\n",
              "    <tr>\n",
              "      <th>1</th>\n",
              "      <td>26304.199219</td>\n",
              "      <td>0.373590</td>\n",
              "      <td>0.115210</td>\n",
              "      <td>-0.9983</td>\n",
              "      <td>0.117</td>\n",
              "      <td>0.783</td>\n",
              "      <td>0.099</td>\n",
              "    </tr>\n",
              "    <tr>\n",
              "      <th>2</th>\n",
              "      <td>26265.240234</td>\n",
              "      <td>0.423474</td>\n",
              "      <td>0.078966</td>\n",
              "      <td>-0.9981</td>\n",
              "      <td>0.125</td>\n",
              "      <td>0.767</td>\n",
              "      <td>0.109</td>\n",
              "    </tr>\n",
              "    <tr>\n",
              "      <th>3</th>\n",
              "      <td>26121.400391</td>\n",
              "      <td>0.529966</td>\n",
              "      <td>0.305813</td>\n",
              "      <td>-0.9920</td>\n",
              "      <td>0.120</td>\n",
              "      <td>0.767</td>\n",
              "      <td>0.113</td>\n",
              "    </tr>\n",
              "    <tr>\n",
              "      <th>4</th>\n",
              "      <td>25743.259766</td>\n",
              "      <td>0.466888</td>\n",
              "      <td>0.183373</td>\n",
              "      <td>0.9799</td>\n",
              "      <td>0.108</td>\n",
              "      <td>0.781</td>\n",
              "      <td>0.111</td>\n",
              "    </tr>\n",
              "    <tr>\n",
              "      <th>...</th>\n",
              "      <td>...</td>\n",
              "      <td>...</td>\n",
              "      <td>...</td>\n",
              "      <td>...</td>\n",
              "      <td>...</td>\n",
              "      <td>...</td>\n",
              "      <td>...</td>\n",
              "    </tr>\n",
              "    <tr>\n",
              "      <th>1134</th>\n",
              "      <td>34868.980469</td>\n",
              "      <td>0.368654</td>\n",
              "      <td>0.077799</td>\n",
              "      <td>-0.9997</td>\n",
              "      <td>0.126</td>\n",
              "      <td>0.807</td>\n",
              "      <td>0.067</td>\n",
              "    </tr>\n",
              "    <tr>\n",
              "      <th>1135</th>\n",
              "      <td>34842.101563</td>\n",
              "      <td>0.362784</td>\n",
              "      <td>0.011935</td>\n",
              "      <td>-0.9999</td>\n",
              "      <td>0.153</td>\n",
              "      <td>0.795</td>\n",
              "      <td>0.052</td>\n",
              "    </tr>\n",
              "    <tr>\n",
              "      <th>1136</th>\n",
              "      <td>35171.269531</td>\n",
              "      <td>0.330257</td>\n",
              "      <td>0.066958</td>\n",
              "      <td>-0.9998</td>\n",
              "      <td>0.142</td>\n",
              "      <td>0.789</td>\n",
              "      <td>0.069</td>\n",
              "    </tr>\n",
              "    <tr>\n",
              "      <th>1137</th>\n",
              "      <td>34961.519531</td>\n",
              "      <td>0.373210</td>\n",
              "      <td>0.060782</td>\n",
              "      <td>-0.9998</td>\n",
              "      <td>0.130</td>\n",
              "      <td>0.800</td>\n",
              "      <td>0.070</td>\n",
              "    </tr>\n",
              "    <tr>\n",
              "      <th>1138</th>\n",
              "      <td>34915.800781</td>\n",
              "      <td>0.349361</td>\n",
              "      <td>0.059465</td>\n",
              "      <td>-0.9999</td>\n",
              "      <td>0.134</td>\n",
              "      <td>0.818</td>\n",
              "      <td>0.048</td>\n",
              "    </tr>\n",
              "  </tbody>\n",
              "</table>\n",
              "<p>1139 rows × 7 columns</p>\n",
              "</div>"
            ],
            "text/plain": [
              "             Close  Subjectivity  Polarity  ...  Negative  Neutral  Positive\n",
              "0     26552.919922      0.407544  0.081833  ...     0.129    0.780     0.091\n",
              "1     26304.199219      0.373590  0.115210  ...     0.117    0.783     0.099\n",
              "2     26265.240234      0.423474  0.078966  ...     0.125    0.767     0.109\n",
              "3     26121.400391      0.529966  0.305813  ...     0.120    0.767     0.113\n",
              "4     25743.259766      0.466888  0.183373  ...     0.108    0.781     0.111\n",
              "...            ...           ...       ...  ...       ...      ...       ...\n",
              "1134  34868.980469      0.368654  0.077799  ...     0.126    0.807     0.067\n",
              "1135  34842.101563      0.362784  0.011935  ...     0.153    0.795     0.052\n",
              "1136  35171.269531      0.330257  0.066958  ...     0.142    0.789     0.069\n",
              "1137  34961.519531      0.373210  0.060782  ...     0.130    0.800     0.070\n",
              "1138  34915.800781      0.349361  0.059465  ...     0.134    0.818     0.048\n",
              "\n",
              "[1139 rows x 7 columns]"
            ]
          },
          "metadata": {
            "tags": []
          },
          "execution_count": 108
        }
      ]
    },
    {
      "cell_type": "code",
      "metadata": {
        "id": "77gWQ3YlFCs2",
        "outputId": "77f43a2a-90f9-4ab5-b27f-74c8e94a1b63",
        "colab": {
          "base_uri": "https://localhost:8080/",
          "height": 195
        }
      },
      "source": [
        "from sklearn.preprocessing import MinMaxScaler\n",
        "sc = MinMaxScaler()\n",
        "new_df = pd.DataFrame(sc.fit_transform(df))\n",
        "new_df.columns = df.columns\n",
        "new_df.index = df.index\n",
        "new_df.head()"
      ],
      "execution_count": 109,
      "outputs": [
        {
          "output_type": "execute_result",
          "data": {
            "text/html": [
              "<div>\n",
              "<style scoped>\n",
              "    .dataframe tbody tr th:only-of-type {\n",
              "        vertical-align: middle;\n",
              "    }\n",
              "\n",
              "    .dataframe tbody tr th {\n",
              "        vertical-align: top;\n",
              "    }\n",
              "\n",
              "    .dataframe thead th {\n",
              "        text-align: right;\n",
              "    }\n",
              "</style>\n",
              "<table border=\"1\" class=\"dataframe\">\n",
              "  <thead>\n",
              "    <tr style=\"text-align: right;\">\n",
              "      <th></th>\n",
              "      <th>Close</th>\n",
              "      <th>Subjectivity</th>\n",
              "      <th>Polarity</th>\n",
              "      <th>Compound</th>\n",
              "      <th>Negative</th>\n",
              "      <th>Neutral</th>\n",
              "      <th>Positive</th>\n",
              "    </tr>\n",
              "  </thead>\n",
              "  <tbody>\n",
              "    <tr>\n",
              "      <th>0</th>\n",
              "      <td>0.189523</td>\n",
              "      <td>0.406944</td>\n",
              "      <td>0.298177</td>\n",
              "      <td>0.000201</td>\n",
              "      <td>0.421569</td>\n",
              "      <td>0.427350</td>\n",
              "      <td>0.5375</td>\n",
              "    </tr>\n",
              "    <tr>\n",
              "      <th>1</th>\n",
              "      <td>0.176433</td>\n",
              "      <td>0.256960</td>\n",
              "      <td>0.402763</td>\n",
              "      <td>0.000853</td>\n",
              "      <td>0.303922</td>\n",
              "      <td>0.452991</td>\n",
              "      <td>0.6375</td>\n",
              "    </tr>\n",
              "    <tr>\n",
              "      <th>2</th>\n",
              "      <td>0.174383</td>\n",
              "      <td>0.477316</td>\n",
              "      <td>0.289194</td>\n",
              "      <td>0.000953</td>\n",
              "      <td>0.382353</td>\n",
              "      <td>0.316239</td>\n",
              "      <td>0.7625</td>\n",
              "    </tr>\n",
              "    <tr>\n",
              "      <th>3</th>\n",
              "      <td>0.166812</td>\n",
              "      <td>0.947722</td>\n",
              "      <td>1.000000</td>\n",
              "      <td>0.004013</td>\n",
              "      <td>0.333333</td>\n",
              "      <td>0.316239</td>\n",
              "      <td>0.8125</td>\n",
              "    </tr>\n",
              "    <tr>\n",
              "      <th>4</th>\n",
              "      <td>0.146911</td>\n",
              "      <td>0.669085</td>\n",
              "      <td>0.616345</td>\n",
              "      <td>0.993277</td>\n",
              "      <td>0.215686</td>\n",
              "      <td>0.435897</td>\n",
              "      <td>0.7875</td>\n",
              "    </tr>\n",
              "  </tbody>\n",
              "</table>\n",
              "</div>"
            ],
            "text/plain": [
              "      Close  Subjectivity  Polarity  Compound  Negative   Neutral  Positive\n",
              "0  0.189523      0.406944  0.298177  0.000201  0.421569  0.427350    0.5375\n",
              "1  0.176433      0.256960  0.402763  0.000853  0.303922  0.452991    0.6375\n",
              "2  0.174383      0.477316  0.289194  0.000953  0.382353  0.316239    0.7625\n",
              "3  0.166812      0.947722  1.000000  0.004013  0.333333  0.316239    0.8125\n",
              "4  0.146911      0.669085  0.616345  0.993277  0.215686  0.435897    0.7875"
            ]
          },
          "metadata": {
            "tags": []
          },
          "execution_count": 109
        }
      ]
    },
    {
      "cell_type": "code",
      "metadata": {
        "id": "t-4nNqAEFDDf"
      },
      "source": [
        "X = new_df.drop('Close', axis=1)\n",
        "y =new_df['Close']"
      ],
      "execution_count": 110,
      "outputs": []
    },
    {
      "cell_type": "code",
      "metadata": {
        "id": "icnV1NsMFDeK",
        "outputId": "cee45b52-922f-4793-f794-a1a5b8da992c",
        "colab": {
          "base_uri": "https://localhost:8080/",
          "height": 195
        }
      },
      "source": [
        "X.head()"
      ],
      "execution_count": 111,
      "outputs": [
        {
          "output_type": "execute_result",
          "data": {
            "text/html": [
              "<div>\n",
              "<style scoped>\n",
              "    .dataframe tbody tr th:only-of-type {\n",
              "        vertical-align: middle;\n",
              "    }\n",
              "\n",
              "    .dataframe tbody tr th {\n",
              "        vertical-align: top;\n",
              "    }\n",
              "\n",
              "    .dataframe thead th {\n",
              "        text-align: right;\n",
              "    }\n",
              "</style>\n",
              "<table border=\"1\" class=\"dataframe\">\n",
              "  <thead>\n",
              "    <tr style=\"text-align: right;\">\n",
              "      <th></th>\n",
              "      <th>Subjectivity</th>\n",
              "      <th>Polarity</th>\n",
              "      <th>Compound</th>\n",
              "      <th>Negative</th>\n",
              "      <th>Neutral</th>\n",
              "      <th>Positive</th>\n",
              "    </tr>\n",
              "  </thead>\n",
              "  <tbody>\n",
              "    <tr>\n",
              "      <th>0</th>\n",
              "      <td>0.406944</td>\n",
              "      <td>0.298177</td>\n",
              "      <td>0.000201</td>\n",
              "      <td>0.421569</td>\n",
              "      <td>0.427350</td>\n",
              "      <td>0.5375</td>\n",
              "    </tr>\n",
              "    <tr>\n",
              "      <th>1</th>\n",
              "      <td>0.256960</td>\n",
              "      <td>0.402763</td>\n",
              "      <td>0.000853</td>\n",
              "      <td>0.303922</td>\n",
              "      <td>0.452991</td>\n",
              "      <td>0.6375</td>\n",
              "    </tr>\n",
              "    <tr>\n",
              "      <th>2</th>\n",
              "      <td>0.477316</td>\n",
              "      <td>0.289194</td>\n",
              "      <td>0.000953</td>\n",
              "      <td>0.382353</td>\n",
              "      <td>0.316239</td>\n",
              "      <td>0.7625</td>\n",
              "    </tr>\n",
              "    <tr>\n",
              "      <th>3</th>\n",
              "      <td>0.947722</td>\n",
              "      <td>1.000000</td>\n",
              "      <td>0.004013</td>\n",
              "      <td>0.333333</td>\n",
              "      <td>0.316239</td>\n",
              "      <td>0.8125</td>\n",
              "    </tr>\n",
              "    <tr>\n",
              "      <th>4</th>\n",
              "      <td>0.669085</td>\n",
              "      <td>0.616345</td>\n",
              "      <td>0.993277</td>\n",
              "      <td>0.215686</td>\n",
              "      <td>0.435897</td>\n",
              "      <td>0.7875</td>\n",
              "    </tr>\n",
              "  </tbody>\n",
              "</table>\n",
              "</div>"
            ],
            "text/plain": [
              "   Subjectivity  Polarity  Compound  Negative   Neutral  Positive\n",
              "0      0.406944  0.298177  0.000201  0.421569  0.427350    0.5375\n",
              "1      0.256960  0.402763  0.000853  0.303922  0.452991    0.6375\n",
              "2      0.477316  0.289194  0.000953  0.382353  0.316239    0.7625\n",
              "3      0.947722  1.000000  0.004013  0.333333  0.316239    0.8125\n",
              "4      0.669085  0.616345  0.993277  0.215686  0.435897    0.7875"
            ]
          },
          "metadata": {
            "tags": []
          },
          "execution_count": 111
        }
      ]
    },
    {
      "cell_type": "code",
      "metadata": {
        "id": "PlCx8CmxFEGa",
        "outputId": "00cb406b-9564-479c-cc7c-f0fd9ae6450e",
        "colab": {
          "base_uri": "https://localhost:8080/"
        }
      },
      "source": [
        "x_train, x_test, y_train, y_test = train_test_split(X, y, test_size=0.2, random_state = 0)\n",
        "x_train.shape"
      ],
      "execution_count": 112,
      "outputs": [
        {
          "output_type": "execute_result",
          "data": {
            "text/plain": [
              "(911, 6)"
            ]
          },
          "metadata": {
            "tags": []
          },
          "execution_count": 112
        }
      ]
    },
    {
      "cell_type": "code",
      "metadata": {
        "id": "q90kS_bcFE4B",
        "outputId": "9551d200-ee03-413c-953f-efb504a3c542",
        "colab": {
          "base_uri": "https://localhost:8080/",
          "height": 343
        }
      },
      "source": [
        "x_train[:10]"
      ],
      "execution_count": 113,
      "outputs": [
        {
          "output_type": "execute_result",
          "data": {
            "text/html": [
              "<div>\n",
              "<style scoped>\n",
              "    .dataframe tbody tr th:only-of-type {\n",
              "        vertical-align: middle;\n",
              "    }\n",
              "\n",
              "    .dataframe tbody tr th {\n",
              "        vertical-align: top;\n",
              "    }\n",
              "\n",
              "    .dataframe thead th {\n",
              "        text-align: right;\n",
              "    }\n",
              "</style>\n",
              "<table border=\"1\" class=\"dataframe\">\n",
              "  <thead>\n",
              "    <tr style=\"text-align: right;\">\n",
              "      <th></th>\n",
              "      <th>Subjectivity</th>\n",
              "      <th>Polarity</th>\n",
              "      <th>Compound</th>\n",
              "      <th>Negative</th>\n",
              "      <th>Neutral</th>\n",
              "      <th>Positive</th>\n",
              "    </tr>\n",
              "  </thead>\n",
              "  <tbody>\n",
              "    <tr>\n",
              "      <th>644</th>\n",
              "      <td>0.293345</td>\n",
              "      <td>0.183696</td>\n",
              "      <td>0.000050</td>\n",
              "      <td>0.558824</td>\n",
              "      <td>0.521368</td>\n",
              "      <td>0.2125</td>\n",
              "    </tr>\n",
              "    <tr>\n",
              "      <th>597</th>\n",
              "      <td>0.504759</td>\n",
              "      <td>0.374958</td>\n",
              "      <td>0.000050</td>\n",
              "      <td>0.754902</td>\n",
              "      <td>0.213675</td>\n",
              "      <td>0.4250</td>\n",
              "    </tr>\n",
              "    <tr>\n",
              "      <th>317</th>\n",
              "      <td>0.297984</td>\n",
              "      <td>0.385561</td>\n",
              "      <td>0.000151</td>\n",
              "      <td>0.421569</td>\n",
              "      <td>0.461538</td>\n",
              "      <td>0.4875</td>\n",
              "    </tr>\n",
              "    <tr>\n",
              "      <th>859</th>\n",
              "      <td>0.402968</td>\n",
              "      <td>0.393943</td>\n",
              "      <td>0.000151</td>\n",
              "      <td>0.450980</td>\n",
              "      <td>0.461538</td>\n",
              "      <td>0.4375</td>\n",
              "    </tr>\n",
              "    <tr>\n",
              "      <th>632</th>\n",
              "      <td>0.139565</td>\n",
              "      <td>0.148648</td>\n",
              "      <td>0.000050</td>\n",
              "      <td>0.637255</td>\n",
              "      <td>0.376068</td>\n",
              "      <td>0.3500</td>\n",
              "    </tr>\n",
              "    <tr>\n",
              "      <th>1000</th>\n",
              "      <td>0.193229</td>\n",
              "      <td>0.296395</td>\n",
              "      <td>0.000050</td>\n",
              "      <td>0.637255</td>\n",
              "      <td>0.384615</td>\n",
              "      <td>0.3250</td>\n",
              "    </tr>\n",
              "    <tr>\n",
              "      <th>895</th>\n",
              "      <td>0.309974</td>\n",
              "      <td>0.219940</td>\n",
              "      <td>0.000050</td>\n",
              "      <td>0.705882</td>\n",
              "      <td>0.273504</td>\n",
              "      <td>0.4000</td>\n",
              "    </tr>\n",
              "    <tr>\n",
              "      <th>311</th>\n",
              "      <td>0.295420</td>\n",
              "      <td>0.289444</td>\n",
              "      <td>0.000151</td>\n",
              "      <td>0.392157</td>\n",
              "      <td>0.470085</td>\n",
              "      <td>0.5125</td>\n",
              "    </tr>\n",
              "    <tr>\n",
              "      <th>604</th>\n",
              "      <td>0.253471</td>\n",
              "      <td>0.241185</td>\n",
              "      <td>0.000050</td>\n",
              "      <td>0.803922</td>\n",
              "      <td>0.256410</td>\n",
              "      <td>0.3000</td>\n",
              "    </tr>\n",
              "    <tr>\n",
              "      <th>501</th>\n",
              "      <td>0.183190</td>\n",
              "      <td>0.266279</td>\n",
              "      <td>0.000050</td>\n",
              "      <td>0.637255</td>\n",
              "      <td>0.299145</td>\n",
              "      <td>0.4500</td>\n",
              "    </tr>\n",
              "  </tbody>\n",
              "</table>\n",
              "</div>"
            ],
            "text/plain": [
              "      Subjectivity  Polarity  Compound  Negative   Neutral  Positive\n",
              "644       0.293345  0.183696  0.000050  0.558824  0.521368    0.2125\n",
              "597       0.504759  0.374958  0.000050  0.754902  0.213675    0.4250\n",
              "317       0.297984  0.385561  0.000151  0.421569  0.461538    0.4875\n",
              "859       0.402968  0.393943  0.000151  0.450980  0.461538    0.4375\n",
              "632       0.139565  0.148648  0.000050  0.637255  0.376068    0.3500\n",
              "1000      0.193229  0.296395  0.000050  0.637255  0.384615    0.3250\n",
              "895       0.309974  0.219940  0.000050  0.705882  0.273504    0.4000\n",
              "311       0.295420  0.289444  0.000151  0.392157  0.470085    0.5125\n",
              "604       0.253471  0.241185  0.000050  0.803922  0.256410    0.3000\n",
              "501       0.183190  0.266279  0.000050  0.637255  0.299145    0.4500"
            ]
          },
          "metadata": {
            "tags": []
          },
          "execution_count": 113
        }
      ]
    },
    {
      "cell_type": "markdown",
      "metadata": {
        "id": "mQSV1trwg-5v"
      },
      "source": [
        "**RANDOM FOREST REGESSOR**"
      ]
    },
    {
      "cell_type": "code",
      "metadata": {
        "id": "-ktw_KotFFjw"
      },
      "source": [
        "rf = RandomForestRegressor()\n",
        "rf.fit(x_train, y_train)\n",
        "prediction=rf.predict(x_test)"
      ],
      "execution_count": 119,
      "outputs": []
    },
    {
      "cell_type": "code",
      "metadata": {
        "id": "GDFE7_inFF-B",
        "outputId": "cee960dd-1f1d-4b61-a955-f1139ab92411",
        "colab": {
          "base_uri": "https://localhost:8080/"
        }
      },
      "source": [
        "print(prediction[:10])\n",
        "print(y_test[:10])\n",
        "print(mean_squared_error(prediction,y_test))"
      ],
      "execution_count": 120,
      "outputs": [
        {
          "output_type": "stream",
          "text": [
            "[0.70121626 0.68639466 0.66794208 0.57380038 0.47172991 0.66068736\n",
            " 0.53808495 0.76004726 0.53452284 0.58383488]\n",
            "671     0.730141\n",
            "877     0.911319\n",
            "971     0.847701\n",
            "184     0.269805\n",
            "1138    0.629656\n",
            "935     0.773096\n",
            "567     0.571959\n",
            "890     0.854841\n",
            "1082    0.374478\n",
            "569     0.604918\n",
            "Name: Close, dtype: float64\n",
            "0.047473019079075134\n"
          ],
          "name": "stdout"
        }
      ]
    },
    {
      "cell_type": "markdown",
      "metadata": {
        "id": "NDRiLuwJkReT"
      },
      "source": [
        "**DECISION TREEE REGRESSOR**"
      ]
    },
    {
      "cell_type": "code",
      "metadata": {
        "id": "Va-XXFb3FHPR"
      },
      "source": [
        "from sklearn.tree import DecisionTreeRegressor\n",
        "dec_tree = DecisionTreeRegressor()\n",
        "dec_tree.fit(x_train, y_train)\n",
        "predictions = dec_tree.predict(x_test)"
      ],
      "execution_count": 121,
      "outputs": []
    },
    {
      "cell_type": "code",
      "metadata": {
        "id": "oAbL7Pjdjs_k",
        "outputId": "132a4875-dac9-4db7-eff9-c4cb8070090c",
        "colab": {
          "base_uri": "https://localhost:8080/"
        }
      },
      "source": [
        "print(predictions[:10])\n",
        "print(y_test[:10])\n",
        "print(mean_squared_error(predictions,y_test))"
      ],
      "execution_count": 122,
      "outputs": [
        {
          "output_type": "stream",
          "text": [
            "[0.82480054 0.95737186 0.84406494 0.7163935  0.57917888 0.25704604\n",
            " 0.71284061 0.9573293  0.95671461 0.87248377]\n",
            "671     0.730141\n",
            "877     0.911319\n",
            "971     0.847701\n",
            "184     0.269805\n",
            "1138    0.629656\n",
            "935     0.773096\n",
            "567     0.571959\n",
            "890     0.854841\n",
            "1082    0.374478\n",
            "569     0.604918\n",
            "Name: Close, dtype: float64\n",
            "0.09550304682922404\n"
          ],
          "name": "stdout"
        }
      ]
    },
    {
      "cell_type": "markdown",
      "metadata": {
        "id": "Q_Jt-nE6kaAv"
      },
      "source": [
        "**XG BOOST REGRESSOR**"
      ]
    },
    {
      "cell_type": "code",
      "metadata": {
        "id": "B7ARI6Rkjz_N",
        "outputId": "7296d03f-ae2b-4117-f63b-9bdb79efdc48",
        "colab": {
          "base_uri": "https://localhost:8080/"
        }
      },
      "source": [
        "xgb = xgboost.XGBRegressor()\n",
        "xgb.fit(x_train, y_train)"
      ],
      "execution_count": 123,
      "outputs": [
        {
          "output_type": "stream",
          "text": [
            "[17:59:02] WARNING: /workspace/src/objective/regression_obj.cu:152: reg:linear is now deprecated in favor of reg:squarederror.\n"
          ],
          "name": "stdout"
        },
        {
          "output_type": "execute_result",
          "data": {
            "text/plain": [
              "XGBRegressor(base_score=0.5, booster='gbtree', colsample_bylevel=1,\n",
              "             colsample_bynode=1, colsample_bytree=1, gamma=0,\n",
              "             importance_type='gain', learning_rate=0.1, max_delta_step=0,\n",
              "             max_depth=3, min_child_weight=1, missing=None, n_estimators=100,\n",
              "             n_jobs=1, nthread=None, objective='reg:linear', random_state=0,\n",
              "             reg_alpha=0, reg_lambda=1, scale_pos_weight=1, seed=None,\n",
              "             silent=None, subsample=1, verbosity=1)"
            ]
          },
          "metadata": {
            "tags": []
          },
          "execution_count": 123
        }
      ]
    },
    {
      "cell_type": "code",
      "metadata": {
        "id": "1aqy5Kf3kCGb",
        "outputId": "ea595133-d667-4e37-80c6-30bbfda57d76",
        "colab": {
          "base_uri": "https://localhost:8080/"
        }
      },
      "source": [
        "predictions = xgb.predict(x_test)\n",
        "print(mean_squared_error(predictions,y_test))"
      ],
      "execution_count": 124,
      "outputs": [
        {
          "output_type": "stream",
          "text": [
            "0.05076727690118354\n"
          ],
          "name": "stdout"
        }
      ]
    }
  ]
}